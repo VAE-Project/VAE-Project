{
 "cells": [
  {
   "cell_type": "code",
   "execution_count": 27,
   "id": "tWO3wpcrHkx1",
   "metadata": {
    "colab": {
     "base_uri": "https://localhost:8080/"
    },
    "executionInfo": {
     "elapsed": 326,
     "status": "ok",
     "timestamp": 1634155549318,
     "user": {
      "displayName": "Pascal Jutras",
      "photoUrl": "https://lh3.googleusercontent.com/a-/AOh14Gh01s2MUuIZEpjZiU7Ln4JxgLvixFsdVV2QUGcJ=s64",
      "userId": "03293336261239430336"
     },
     "user_tz": 240
    },
    "id": "tWO3wpcrHkx1",
    "outputId": "b20f780d-ab67-4f4d-f27a-bb92a033fea6"
   },
   "outputs": [
    {
     "name": "stdout",
     "output_type": "stream",
     "text": [
      "The autoreload extension is already loaded. To reload it, use:\n",
      "  %reload_ext autoreload\n",
      "Drive already mounted at /content/gdrive; to attempt to forcibly remount, call drive.mount(\"/content/gdrive\", force_remount=True).\n"
     ]
    }
   ],
   "source": [
    "%load_ext autoreload\n",
    "%autoreload 2\n",
    "\n",
    "from google.colab import drive\n",
    "drive.mount('/content/gdrive')"
   ]
  },
  {
   "cell_type": "code",
   "execution_count": 28,
   "id": "g4Qeh_-BHmVq",
   "metadata": {
    "colab": {
     "base_uri": "https://localhost:8080/"
    },
    "executionInfo": {
     "elapsed": 3,
     "status": "ok",
     "timestamp": 1634155549594,
     "user": {
      "displayName": "Pascal Jutras",
      "photoUrl": "https://lh3.googleusercontent.com/a-/AOh14Gh01s2MUuIZEpjZiU7Ln4JxgLvixFsdVV2QUGcJ=s64",
      "userId": "03293336261239430336"
     },
     "user_tz": 240
    },
    "id": "g4Qeh_-BHmVq",
    "outputId": "d3721b9e-7766-460b-a77c-027821262840"
   },
   "outputs": [
    {
     "name": "stdout",
     "output_type": "stream",
     "text": [
      "/content/gdrive/MyDrive/Maryland\n"
     ]
    }
   ],
   "source": [
    "%cd /content/gdrive/MyDrive/Maryland"
   ]
  },
  {
   "cell_type": "code",
   "execution_count": 29,
   "id": "tv-vWpp0HoBB",
   "metadata": {
    "executionInfo": {
     "elapsed": 157,
     "status": "ok",
     "timestamp": 1634155549885,
     "user": {
      "displayName": "Pascal Jutras",
      "photoUrl": "https://lh3.googleusercontent.com/a-/AOh14Gh01s2MUuIZEpjZiU7Ln4JxgLvixFsdVV2QUGcJ=s64",
      "userId": "03293336261239430336"
     },
     "user_tz": 240
    },
    "id": "tv-vWpp0HoBB"
   },
   "outputs": [],
   "source": [
    "# !pip install -qr requirements.txt"
   ]
  },
  {
   "cell_type": "code",
   "execution_count": 30,
   "id": "competitive-spectrum",
   "metadata": {
    "executionInfo": {
     "elapsed": 116,
     "status": "ok",
     "timestamp": 1634155550802,
     "user": {
      "displayName": "Pascal Jutras",
      "photoUrl": "https://lh3.googleusercontent.com/a-/AOh14Gh01s2MUuIZEpjZiU7Ln4JxgLvixFsdVV2QUGcJ=s64",
      "userId": "03293336261239430336"
     },
     "user_tz": 240
    },
    "id": "competitive-spectrum"
   },
   "outputs": [],
   "source": [
    "import pandas as pd\n",
    "import numpy as np\n",
    "import tensorflow as tf\n",
    "import matplotlib.pyplot as plt\n",
    "from tensorflow.keras import layers\n",
    "from tensorflow.keras.layers import Input,Dense,Lambda,Reshape,Conv1DTranspose, Conv1D,Flatten\n",
    "from tensorflow.keras.models import Model,Sequential\n",
    "from tensorflow import keras\n",
    "import tensorflow.keras.backend as K\n",
    "from sklearn.model_selection import train_test_split\n",
    "from sklearn.preprocessing import StandardScaler,MinMaxScaler\n",
    "import time\n",
    "from numpy import zeros\n",
    "from numpy import ones\n",
    "from numpy.random import rand\n",
    "from numpy.random import randn\n",
    "from models import encoder, decgen, discriminator, VAE, VAEGAN"
   ]
  },
  {
   "cell_type": "markdown",
   "id": "funny-queensland",
   "metadata": {
    "id": "funny-queensland"
   },
   "source": [
    "# Load and Define Data"
   ]
  },
  {
   "cell_type": "code",
   "execution_count": 31,
   "id": "THZy-PnhHfhe",
   "metadata": {
    "executionInfo": {
     "elapsed": 175,
     "status": "ok",
     "timestamp": 1634155551579,
     "user": {
      "displayName": "Pascal Jutras",
      "photoUrl": "https://lh3.googleusercontent.com/a-/AOh14Gh01s2MUuIZEpjZiU7Ln4JxgLvixFsdVV2QUGcJ=s64",
      "userId": "03293336261239430336"
     },
     "user_tz": 240
    },
    "id": "THZy-PnhHfhe"
   },
   "outputs": [],
   "source": [
    "# Load data and drop the state\n",
    "train_df = pd.read_csv('/content/gdrive/MyDrive/Maryland/data/TrainValTest/train_only.csv', index_col=0)#.drop([\"ST\"], axis=1)\n",
    "test_df = pd.read_csv('/content/gdrive/MyDrive/Maryland/data/TrainValTest/test_only.csv', index_col=0)#.drop([\"ST\"], axis=1)\n",
    "# Make puma in range 0 to 4 (original pumas are 1201, 1202, 1203, 1204)\n",
    "train_df['PUMA'] = train_df['PUMA'].apply(lambda x: x - 1201)\n",
    "test_df['PUMA'] = test_df['PUMA'].apply(lambda x: x - 1201)\n",
    "# To numpy arrays \n",
    "train = train_df.values\n",
    "test = test_df.values\n",
    "df = train_df"
   ]
  },
  {
   "cell_type": "code",
   "execution_count": 32,
   "id": "about-ghana",
   "metadata": {
    "colab": {
     "base_uri": "https://localhost:8080/"
    },
    "executionInfo": {
     "elapsed": 5,
     "status": "ok",
     "timestamp": 1634155551790,
     "user": {
      "displayName": "Pascal Jutras",
      "photoUrl": "https://lh3.googleusercontent.com/a-/AOh14Gh01s2MUuIZEpjZiU7Ln4JxgLvixFsdVV2QUGcJ=s64",
      "userId": "03293336261239430336"
     },
     "user_tz": 240
    },
    "id": "about-ghana",
    "outputId": "6bfcac35-c363-41c9-ba79-ac9727482c4e"
   },
   "outputs": [
    {
     "data": {
      "text/plain": [
       "(13507, 11)"
      ]
     },
     "execution_count": 32,
     "metadata": {},
     "output_type": "execute_result"
    }
   ],
   "source": [
    "df.shape"
   ]
  },
  {
   "cell_type": "markdown",
   "id": "fresh-longitude",
   "metadata": {
    "id": "fresh-longitude"
   },
   "source": [
    "# Data Preprocessing"
   ]
  },
  {
   "cell_type": "code",
   "execution_count": 33,
   "id": "demonstrated-cedar",
   "metadata": {
    "executionInfo": {
     "elapsed": 2,
     "status": "ok",
     "timestamp": 1634155552336,
     "user": {
      "displayName": "Pascal Jutras",
      "photoUrl": "https://lh3.googleusercontent.com/a-/AOh14Gh01s2MUuIZEpjZiU7Ln4JxgLvixFsdVV2QUGcJ=s64",
      "userId": "03293336261239430336"
     },
     "user_tz": 240
    },
    "id": "demonstrated-cedar"
   },
   "outputs": [],
   "source": [
    "\n",
    "X_train,X_test=train_test_split(df,test_size=200)"
   ]
  },
  {
   "cell_type": "code",
   "execution_count": 34,
   "id": "living-living",
   "metadata": {
    "executionInfo": {
     "elapsed": 2,
     "status": "ok",
     "timestamp": 1634155552543,
     "user": {
      "displayName": "Pascal Jutras",
      "photoUrl": "https://lh3.googleusercontent.com/a-/AOh14Gh01s2MUuIZEpjZiU7Ln4JxgLvixFsdVV2QUGcJ=s64",
      "userId": "03293336261239430336"
     },
     "user_tz": 240
    },
    "id": "living-living"
   },
   "outputs": [],
   "source": [
    "minmax=MinMaxScaler()\n",
    "X_train = minmax.fit_transform(X_train)\n",
    "X_test = minmax.fit_transform(X_test)"
   ]
  },
  {
   "cell_type": "code",
   "execution_count": 35,
   "id": "realistic-address",
   "metadata": {
    "executionInfo": {
     "elapsed": 4,
     "status": "ok",
     "timestamp": 1634155552721,
     "user": {
      "displayName": "Pascal Jutras",
      "photoUrl": "https://lh3.googleusercontent.com/a-/AOh14Gh01s2MUuIZEpjZiU7Ln4JxgLvixFsdVV2QUGcJ=s64",
      "userId": "03293336261239430336"
     },
     "user_tz": 240
    },
    "id": "realistic-address"
   },
   "outputs": [],
   "source": [
    "def fit_batchsize(X,batch_size):\n",
    "    n_size = (len(X)//batch_size)*batch_size\n",
    "    X = X[0:n_size]\n",
    "\n",
    "    return X\n",
    "batch_size = 10\n",
    "X_train = fit_batchsize(X_train, batch_size)\n",
    "X_test = fit_batchsize(X_test, batch_size)"
   ]
  },
  {
   "cell_type": "code",
   "execution_count": 36,
   "id": "undefined-stake",
   "metadata": {
    "executionInfo": {
     "elapsed": 2,
     "status": "ok",
     "timestamp": 1634155552847,
     "user": {
      "displayName": "Pascal Jutras",
      "photoUrl": "https://lh3.googleusercontent.com/a-/AOh14Gh01s2MUuIZEpjZiU7Ln4JxgLvixFsdVV2QUGcJ=s64",
      "userId": "03293336261239430336"
     },
     "user_tz": 240
    },
    "id": "undefined-stake"
   },
   "outputs": [],
   "source": [
    "X_train=X_train.astype(np.float32)"
   ]
  },
  {
   "cell_type": "markdown",
   "id": "printable-cooking",
   "metadata": {
    "id": "printable-cooking"
   },
   "source": [
    "# Define VAE-GAN Model"
   ]
  },
  {
   "cell_type": "code",
   "execution_count": 37,
   "id": "kR8hWwKwJY_-",
   "metadata": {
    "executionInfo": {
     "elapsed": 153,
     "status": "ok",
     "timestamp": 1634155553305,
     "user": {
      "displayName": "Pascal Jutras",
      "photoUrl": "https://lh3.googleusercontent.com/a-/AOh14Gh01s2MUuIZEpjZiU7Ln4JxgLvixFsdVV2QUGcJ=s64",
      "userId": "03293336261239430336"
     },
     "user_tz": 240
    },
    "id": "kR8hWwKwJY_-"
   },
   "outputs": [],
   "source": [
    "# class Sampling(layers.Layer):\n",
    "#     \"\"\"Uses (z_mean, z_log_var) to sample z, the vector encoding a digit.\"\"\"\n",
    "\n",
    "#     def call(self, inputs):\n",
    "#         z_mean, z_log_var = inputs\n",
    "#         batch = tf.shape(z_mean)[0]\n",
    "#         dim = tf.shape(z_mean)[1]\n",
    "#         epsilon = tf.keras.backend.random_normal(shape=(batch, dim))\n",
    "#         return z_mean + tf.exp(0.5 * z_log_var) * epsilon\n",
    "\n",
    "\n",
    "# def encoder(latent_dim=2):\n",
    "#     x = keras.Input(shape=(11,))\n",
    "#     model = layers.Reshape((11,1))(x)\n",
    "#     model = layers.Conv1D(12,3, activation=\"relu\", strides=1, padding=\"same\")(model)\n",
    "#     model = layers.Conv1D(24,3,activation=\"relu\", strides=1, padding=\"same\")(model)\n",
    "#     model = layers.Flatten()(model)\n",
    "#     z_mean = layers.Dense(latent_dim, name=\"z_mean\")(model)\n",
    "#     z_log_var = layers.Dense(latent_dim, name=\"z_log_var\")(model)\n",
    "#     z = Sampling()([z_mean, z_log_var])\n",
    "#     meansigma = keras.Model(x, [z_mean, z_log_var, z])\n",
    "#     return meansigma\n",
    "\n",
    "# def decgen(latent_dim=2):\n",
    "#     x = keras.Input(shape=(latent_dim,))\n",
    "#     model = layers.Dense(11 * 24, activation=\"relu\")(x)\n",
    "#     model = layers.Reshape((11, 24))(model)\n",
    "#     model = layers.Conv1DTranspose(24, 3, activation=\"relu\", strides=1, padding=\"same\")(model)\n",
    "#     model = layers.Conv1DTranspose(12, 3, activation=\"relu\", strides=1, padding=\"same\")(model)\n",
    "#     model = layers.Conv1DTranspose(1, 3, activation=\"sigmoid\", padding=\"same\")(model)\n",
    "#     model = layers.Reshape((11,))(model)\n",
    "#     model = keras.Model(x, model)\n",
    "#     return model\n",
    "    \n",
    "\n",
    "# def discriminator():\n",
    "#     x = keras.Input(shape=(11,))\n",
    "#     model = layers.Reshape((11,1))(x)\n",
    "#     model = layers.Conv1D(12,3, activation=\"relu\", strides=1, padding=\"same\")(model)\n",
    "#     model = layers.Conv1D(24,3,activation=\"relu\", strides=1, padding=\"same\")(model)\n",
    "#     model = layers.Flatten()(model)\n",
    "#     model = layers.Dense(1, activation=\"sigmoid\")(model)\n",
    "#     output= keras.Model(x, model)\n",
    "#     return output\n",
    "\n",
    "# class VAE(keras.Model):\n",
    "#     def __init__(self, encoder, decoder, **kwargs):\n",
    "#         super(VAE, self).__init__(**kwargs)\n",
    "#         self.encoder = encoder\n",
    "#         self.decoder = decoder\n",
    "\n",
    "#     def train_step(self, data):\n",
    "#         if isinstance(data, tuple):\n",
    "#             data = data[0]\n",
    "#         with tf.GradientTape() as tape:\n",
    "#             z_mean, z_log_var, z = encoder(data)\n",
    "#             reconstruction = decgen(z)\n",
    "#             reconstruction_loss = tf.reduce_mean(\n",
    "#                 keras.losses.binary_crossentropy(data, reconstruction)\n",
    "#             )\n",
    "#             reconstruction_loss *= 11\n",
    "#             kl_loss = 1 + z_log_var - tf.square(z_mean) - tf.exp(z_log_var)\n",
    "#             kl_loss = tf.reduce_mean(kl_loss)\n",
    "#             kl_loss *= -0.5\n",
    "#             total_loss = reconstruction_loss + kl_loss\n",
    "#         grads = tape.gradient(total_loss, self.trainable_weights)\n",
    "#         self.optimizer.apply_gradients(zip(grads, self.trainable_weights))\n",
    "#         return {\n",
    "#             \"loss\": total_loss,\n",
    "#             \"reconstruction_loss\": reconstruction_loss,\n",
    "#             \"kl_loss\": kl_loss,\n",
    "#         }\n",
    "\n",
    "# class VAEGAN(keras.Model):\n",
    "    \n",
    "#   # initialize models with latent dimensions\n",
    "#   def __init__(self, disc, gen, latent_dim=2):\n",
    "#     super(VAEGAN, self).__init__()\n",
    "#     self.discriminator = disc\n",
    "#     self.generator = gen\n",
    "#     self.latent_dim = latent_dim\n",
    "  \n",
    "#   # compile with optimizers and loss function\n",
    "#   def compile(self, optD, optG, loss_fn):\n",
    "#     super(VAEGAN, self).compile()\n",
    "#     self.optD = optD\n",
    "#     self.optG = optG\n",
    "#     self.loss_fn = loss_fn\n",
    "    \n",
    "#   # custom training function\n",
    "#   def train_step(self, real_data):\n",
    "#     if isinstance(real_data, tuple):\n",
    "#       real_data = real_data[0]\n",
    "    \n",
    "#     # get current batch size\n",
    "#     bs = tf.shape(real_data)[0]\n",
    "#     z = tf.random.normal(shape=(bs, self.latent_dim))\n",
    "#     fake_data = self.generator(z)\n",
    "    \n",
    "#     # combine real and fake images in a single vector along with their labels\n",
    "#     combined_data = tf.concat([real_data, fake_data], axis=0)\n",
    "#     labels = tf.concat([tf.ones((bs, 1)), tf.zeros((bs, 1))], axis=0)\n",
    "    \n",
    "#     # train your discriminator\n",
    "#     with tf.GradientTape() as tape:\n",
    "#       preds = self.discriminator(combined_data)\n",
    "#       d_loss = self.loss_fn(labels, preds)\n",
    "#       grads = tape.gradient(d_loss, self.discriminator.trainable_weights)\n",
    "#       self.optD.apply_gradients(zip(grads, self.discriminator.trainable_weights))\n",
    "    \n",
    "#     # misleading labels for generator\n",
    "#     misleading_labels = tf.ones((bs, 1))\n",
    "#     z = tf.random.normal(shape=(bs, self.latent_dim))\n",
    "    \n",
    "#     # train your generator\n",
    "#     with tf.GradientTape() as tape:\n",
    "#       fake_preds = self.discriminator(self.generator(z))\n",
    "#       g_loss = self.loss_fn(misleading_labels, fake_preds)\n",
    "#       grads = tape.gradient(g_loss, self.generator.trainable_weights)\n",
    "#       self.optG.apply_gradients(zip(grads, self.generator.trainable_weights))\n",
    "#     return {\"d_loss\": d_loss, \"g_loss\": g_loss}\n",
    "# # create GAN model using already built D and G"
   ]
  },
  {
   "cell_type": "code",
   "execution_count": 38,
   "id": "still-lender",
   "metadata": {
    "executionInfo": {
     "elapsed": 485,
     "status": "ok",
     "timestamp": 1634155553788,
     "user": {
      "displayName": "Pascal Jutras",
      "photoUrl": "https://lh3.googleusercontent.com/a-/AOh14Gh01s2MUuIZEpjZiU7Ln4JxgLvixFsdVV2QUGcJ=s64",
      "userId": "03293336261239430336"
     },
     "user_tz": 240
    },
    "id": "still-lender"
   },
   "outputs": [],
   "source": [
    "encoder = encoder()\n",
    "decgen = decgen()\n",
    "vae = VAE(encoder, decgen)\n",
    "vae.compile(optimizer=keras.optimizers.Adam())\n",
    "discriminator = discriminator()\n",
    "gan = VAEGAN(discriminator, decgen)\n",
    "# compile your model with loss and optimizers\n",
    "gan.compile(\n",
    "    keras.optimizers.Adam(),\n",
    "    keras.optimizers.Adam(),\n",
    "    keras.losses.BinaryCrossentropy(from_logits=True))"
   ]
  },
  {
   "cell_type": "code",
   "execution_count": 39,
   "id": "statewide-fundamentals",
   "metadata": {
    "colab": {
     "base_uri": "https://localhost:8080/",
     "height": 850
    },
    "executionInfo": {
     "elapsed": 128,
     "status": "error",
     "timestamp": 1634155554138,
     "user": {
      "displayName": "Pascal Jutras",
      "photoUrl": "https://lh3.googleusercontent.com/a-/AOh14Gh01s2MUuIZEpjZiU7Ln4JxgLvixFsdVV2QUGcJ=s64",
      "userId": "03293336261239430336"
     },
     "user_tz": 240
    },
    "id": "statewide-fundamentals",
    "outputId": "f6ff89de-d175-4638-aab8-f902b459c1e3"
   },
   "outputs": [
    {
     "name": "stdout",
     "output_type": "stream",
     "text": [
      "Epoch 1/20\n"
     ]
    },
    {
     "ename": "TypeError",
     "evalue": "ignored",
     "output_type": "error",
     "traceback": [
      "\u001b[0;31m---------------------------------------------------------------------------\u001b[0m",
      "\u001b[0;31mTypeError\u001b[0m                                 Traceback (most recent call last)",
      "\u001b[0;32m<ipython-input-39-8a611bf23e6e>\u001b[0m in \u001b[0;36m<module>\u001b[0;34m()\u001b[0m\n\u001b[0;32m----> 1\u001b[0;31m \u001b[0mhist_vae\u001b[0m\u001b[0;34m=\u001b[0m\u001b[0mvae\u001b[0m\u001b[0;34m.\u001b[0m\u001b[0mfit\u001b[0m\u001b[0;34m(\u001b[0m\u001b[0mX_train\u001b[0m\u001b[0;34m,\u001b[0m\u001b[0mX_train\u001b[0m\u001b[0;34m,\u001b[0m \u001b[0mepochs\u001b[0m\u001b[0;34m=\u001b[0m\u001b[0;36m20\u001b[0m\u001b[0;34m)\u001b[0m\u001b[0;34m\u001b[0m\u001b[0;34m\u001b[0m\u001b[0m\n\u001b[0m",
      "\u001b[0;32m/usr/local/lib/python3.7/dist-packages/keras/engine/training.py\u001b[0m in \u001b[0;36mfit\u001b[0;34m(self, x, y, batch_size, epochs, verbose, callbacks, validation_split, validation_data, shuffle, class_weight, sample_weight, initial_epoch, steps_per_epoch, validation_steps, validation_batch_size, validation_freq, max_queue_size, workers, use_multiprocessing)\u001b[0m\n\u001b[1;32m   1182\u001b[0m                 _r=1):\n\u001b[1;32m   1183\u001b[0m               \u001b[0mcallbacks\u001b[0m\u001b[0;34m.\u001b[0m\u001b[0mon_train_batch_begin\u001b[0m\u001b[0;34m(\u001b[0m\u001b[0mstep\u001b[0m\u001b[0;34m)\u001b[0m\u001b[0;34m\u001b[0m\u001b[0;34m\u001b[0m\u001b[0m\n\u001b[0;32m-> 1184\u001b[0;31m               \u001b[0mtmp_logs\u001b[0m \u001b[0;34m=\u001b[0m \u001b[0mself\u001b[0m\u001b[0;34m.\u001b[0m\u001b[0mtrain_function\u001b[0m\u001b[0;34m(\u001b[0m\u001b[0miterator\u001b[0m\u001b[0;34m)\u001b[0m\u001b[0;34m\u001b[0m\u001b[0;34m\u001b[0m\u001b[0m\n\u001b[0m\u001b[1;32m   1185\u001b[0m               \u001b[0;32mif\u001b[0m \u001b[0mdata_handler\u001b[0m\u001b[0;34m.\u001b[0m\u001b[0mshould_sync\u001b[0m\u001b[0;34m:\u001b[0m\u001b[0;34m\u001b[0m\u001b[0;34m\u001b[0m\u001b[0m\n\u001b[1;32m   1186\u001b[0m                 \u001b[0mcontext\u001b[0m\u001b[0;34m.\u001b[0m\u001b[0masync_wait\u001b[0m\u001b[0;34m(\u001b[0m\u001b[0;34m)\u001b[0m\u001b[0;34m\u001b[0m\u001b[0;34m\u001b[0m\u001b[0m\n",
      "\u001b[0;32m/usr/local/lib/python3.7/dist-packages/tensorflow/python/eager/def_function.py\u001b[0m in \u001b[0;36m__call__\u001b[0;34m(self, *args, **kwds)\u001b[0m\n\u001b[1;32m    883\u001b[0m \u001b[0;34m\u001b[0m\u001b[0m\n\u001b[1;32m    884\u001b[0m       \u001b[0;32mwith\u001b[0m \u001b[0mOptionalXlaContext\u001b[0m\u001b[0;34m(\u001b[0m\u001b[0mself\u001b[0m\u001b[0;34m.\u001b[0m\u001b[0m_jit_compile\u001b[0m\u001b[0;34m)\u001b[0m\u001b[0;34m:\u001b[0m\u001b[0;34m\u001b[0m\u001b[0;34m\u001b[0m\u001b[0m\n\u001b[0;32m--> 885\u001b[0;31m         \u001b[0mresult\u001b[0m \u001b[0;34m=\u001b[0m \u001b[0mself\u001b[0m\u001b[0;34m.\u001b[0m\u001b[0m_call\u001b[0m\u001b[0;34m(\u001b[0m\u001b[0;34m*\u001b[0m\u001b[0margs\u001b[0m\u001b[0;34m,\u001b[0m \u001b[0;34m**\u001b[0m\u001b[0mkwds\u001b[0m\u001b[0;34m)\u001b[0m\u001b[0;34m\u001b[0m\u001b[0;34m\u001b[0m\u001b[0m\n\u001b[0m\u001b[1;32m    886\u001b[0m \u001b[0;34m\u001b[0m\u001b[0m\n\u001b[1;32m    887\u001b[0m       \u001b[0mnew_tracing_count\u001b[0m \u001b[0;34m=\u001b[0m \u001b[0mself\u001b[0m\u001b[0;34m.\u001b[0m\u001b[0mexperimental_get_tracing_count\u001b[0m\u001b[0;34m(\u001b[0m\u001b[0;34m)\u001b[0m\u001b[0;34m\u001b[0m\u001b[0;34m\u001b[0m\u001b[0m\n",
      "\u001b[0;32m/usr/local/lib/python3.7/dist-packages/tensorflow/python/eager/def_function.py\u001b[0m in \u001b[0;36m_call\u001b[0;34m(self, *args, **kwds)\u001b[0m\n\u001b[1;32m    931\u001b[0m       \u001b[0;31m# This is the first call of __call__, so we have to initialize.\u001b[0m\u001b[0;34m\u001b[0m\u001b[0;34m\u001b[0m\u001b[0;34m\u001b[0m\u001b[0m\n\u001b[1;32m    932\u001b[0m       \u001b[0minitializers\u001b[0m \u001b[0;34m=\u001b[0m \u001b[0;34m[\u001b[0m\u001b[0;34m]\u001b[0m\u001b[0;34m\u001b[0m\u001b[0;34m\u001b[0m\u001b[0m\n\u001b[0;32m--> 933\u001b[0;31m       \u001b[0mself\u001b[0m\u001b[0;34m.\u001b[0m\u001b[0m_initialize\u001b[0m\u001b[0;34m(\u001b[0m\u001b[0margs\u001b[0m\u001b[0;34m,\u001b[0m \u001b[0mkwds\u001b[0m\u001b[0;34m,\u001b[0m \u001b[0madd_initializers_to\u001b[0m\u001b[0;34m=\u001b[0m\u001b[0minitializers\u001b[0m\u001b[0;34m)\u001b[0m\u001b[0;34m\u001b[0m\u001b[0;34m\u001b[0m\u001b[0m\n\u001b[0m\u001b[1;32m    934\u001b[0m     \u001b[0;32mfinally\u001b[0m\u001b[0;34m:\u001b[0m\u001b[0;34m\u001b[0m\u001b[0;34m\u001b[0m\u001b[0m\n\u001b[1;32m    935\u001b[0m       \u001b[0;31m# At this point we know that the initialization is complete (or less\u001b[0m\u001b[0;34m\u001b[0m\u001b[0;34m\u001b[0m\u001b[0;34m\u001b[0m\u001b[0m\n",
      "\u001b[0;32m/usr/local/lib/python3.7/dist-packages/tensorflow/python/eager/def_function.py\u001b[0m in \u001b[0;36m_initialize\u001b[0;34m(self, args, kwds, add_initializers_to)\u001b[0m\n\u001b[1;32m    758\u001b[0m     self._concrete_stateful_fn = (\n\u001b[1;32m    759\u001b[0m         self._stateful_fn._get_concrete_function_internal_garbage_collected(  # pylint: disable=protected-access\n\u001b[0;32m--> 760\u001b[0;31m             *args, **kwds))\n\u001b[0m\u001b[1;32m    761\u001b[0m \u001b[0;34m\u001b[0m\u001b[0m\n\u001b[1;32m    762\u001b[0m     \u001b[0;32mdef\u001b[0m \u001b[0minvalid_creator_scope\u001b[0m\u001b[0;34m(\u001b[0m\u001b[0;34m*\u001b[0m\u001b[0munused_args\u001b[0m\u001b[0;34m,\u001b[0m \u001b[0;34m**\u001b[0m\u001b[0munused_kwds\u001b[0m\u001b[0;34m)\u001b[0m\u001b[0;34m:\u001b[0m\u001b[0;34m\u001b[0m\u001b[0;34m\u001b[0m\u001b[0m\n",
      "\u001b[0;32m/usr/local/lib/python3.7/dist-packages/tensorflow/python/eager/function.py\u001b[0m in \u001b[0;36m_get_concrete_function_internal_garbage_collected\u001b[0;34m(self, *args, **kwargs)\u001b[0m\n\u001b[1;32m   3064\u001b[0m       \u001b[0margs\u001b[0m\u001b[0;34m,\u001b[0m \u001b[0mkwargs\u001b[0m \u001b[0;34m=\u001b[0m \u001b[0;32mNone\u001b[0m\u001b[0;34m,\u001b[0m \u001b[0;32mNone\u001b[0m\u001b[0;34m\u001b[0m\u001b[0;34m\u001b[0m\u001b[0m\n\u001b[1;32m   3065\u001b[0m     \u001b[0;32mwith\u001b[0m \u001b[0mself\u001b[0m\u001b[0;34m.\u001b[0m\u001b[0m_lock\u001b[0m\u001b[0;34m:\u001b[0m\u001b[0;34m\u001b[0m\u001b[0;34m\u001b[0m\u001b[0m\n\u001b[0;32m-> 3066\u001b[0;31m       \u001b[0mgraph_function\u001b[0m\u001b[0;34m,\u001b[0m \u001b[0m_\u001b[0m \u001b[0;34m=\u001b[0m \u001b[0mself\u001b[0m\u001b[0;34m.\u001b[0m\u001b[0m_maybe_define_function\u001b[0m\u001b[0;34m(\u001b[0m\u001b[0margs\u001b[0m\u001b[0;34m,\u001b[0m \u001b[0mkwargs\u001b[0m\u001b[0;34m)\u001b[0m\u001b[0;34m\u001b[0m\u001b[0;34m\u001b[0m\u001b[0m\n\u001b[0m\u001b[1;32m   3067\u001b[0m     \u001b[0;32mreturn\u001b[0m \u001b[0mgraph_function\u001b[0m\u001b[0;34m\u001b[0m\u001b[0;34m\u001b[0m\u001b[0m\n\u001b[1;32m   3068\u001b[0m \u001b[0;34m\u001b[0m\u001b[0m\n",
      "\u001b[0;32m/usr/local/lib/python3.7/dist-packages/tensorflow/python/eager/function.py\u001b[0m in \u001b[0;36m_maybe_define_function\u001b[0;34m(self, args, kwargs)\u001b[0m\n\u001b[1;32m   3461\u001b[0m \u001b[0;34m\u001b[0m\u001b[0m\n\u001b[1;32m   3462\u001b[0m           \u001b[0mself\u001b[0m\u001b[0;34m.\u001b[0m\u001b[0m_function_cache\u001b[0m\u001b[0;34m.\u001b[0m\u001b[0mmissed\u001b[0m\u001b[0;34m.\u001b[0m\u001b[0madd\u001b[0m\u001b[0;34m(\u001b[0m\u001b[0mcall_context_key\u001b[0m\u001b[0;34m)\u001b[0m\u001b[0;34m\u001b[0m\u001b[0;34m\u001b[0m\u001b[0m\n\u001b[0;32m-> 3463\u001b[0;31m           \u001b[0mgraph_function\u001b[0m \u001b[0;34m=\u001b[0m \u001b[0mself\u001b[0m\u001b[0;34m.\u001b[0m\u001b[0m_create_graph_function\u001b[0m\u001b[0;34m(\u001b[0m\u001b[0margs\u001b[0m\u001b[0;34m,\u001b[0m \u001b[0mkwargs\u001b[0m\u001b[0;34m)\u001b[0m\u001b[0;34m\u001b[0m\u001b[0;34m\u001b[0m\u001b[0m\n\u001b[0m\u001b[1;32m   3464\u001b[0m           \u001b[0mself\u001b[0m\u001b[0;34m.\u001b[0m\u001b[0m_function_cache\u001b[0m\u001b[0;34m.\u001b[0m\u001b[0mprimary\u001b[0m\u001b[0;34m[\u001b[0m\u001b[0mcache_key\u001b[0m\u001b[0;34m]\u001b[0m \u001b[0;34m=\u001b[0m \u001b[0mgraph_function\u001b[0m\u001b[0;34m\u001b[0m\u001b[0;34m\u001b[0m\u001b[0m\n\u001b[1;32m   3465\u001b[0m \u001b[0;34m\u001b[0m\u001b[0m\n",
      "\u001b[0;32m/usr/local/lib/python3.7/dist-packages/tensorflow/python/eager/function.py\u001b[0m in \u001b[0;36m_create_graph_function\u001b[0;34m(self, args, kwargs, override_flat_arg_shapes)\u001b[0m\n\u001b[1;32m   3306\u001b[0m             \u001b[0marg_names\u001b[0m\u001b[0;34m=\u001b[0m\u001b[0marg_names\u001b[0m\u001b[0;34m,\u001b[0m\u001b[0;34m\u001b[0m\u001b[0;34m\u001b[0m\u001b[0m\n\u001b[1;32m   3307\u001b[0m             \u001b[0moverride_flat_arg_shapes\u001b[0m\u001b[0;34m=\u001b[0m\u001b[0moverride_flat_arg_shapes\u001b[0m\u001b[0;34m,\u001b[0m\u001b[0;34m\u001b[0m\u001b[0;34m\u001b[0m\u001b[0m\n\u001b[0;32m-> 3308\u001b[0;31m             capture_by_value=self._capture_by_value),\n\u001b[0m\u001b[1;32m   3309\u001b[0m         \u001b[0mself\u001b[0m\u001b[0;34m.\u001b[0m\u001b[0m_function_attributes\u001b[0m\u001b[0;34m,\u001b[0m\u001b[0;34m\u001b[0m\u001b[0;34m\u001b[0m\u001b[0m\n\u001b[1;32m   3310\u001b[0m         \u001b[0mfunction_spec\u001b[0m\u001b[0;34m=\u001b[0m\u001b[0mself\u001b[0m\u001b[0;34m.\u001b[0m\u001b[0mfunction_spec\u001b[0m\u001b[0;34m,\u001b[0m\u001b[0;34m\u001b[0m\u001b[0;34m\u001b[0m\u001b[0m\n",
      "\u001b[0;32m/usr/local/lib/python3.7/dist-packages/tensorflow/python/framework/func_graph.py\u001b[0m in \u001b[0;36mfunc_graph_from_py_func\u001b[0;34m(name, python_func, args, kwargs, signature, func_graph, autograph, autograph_options, add_control_dependencies, arg_names, op_return_value, collections, capture_by_value, override_flat_arg_shapes, acd_record_initial_resource_uses)\u001b[0m\n\u001b[1;32m   1005\u001b[0m         \u001b[0m_\u001b[0m\u001b[0;34m,\u001b[0m \u001b[0moriginal_func\u001b[0m \u001b[0;34m=\u001b[0m \u001b[0mtf_decorator\u001b[0m\u001b[0;34m.\u001b[0m\u001b[0munwrap\u001b[0m\u001b[0;34m(\u001b[0m\u001b[0mpython_func\u001b[0m\u001b[0;34m)\u001b[0m\u001b[0;34m\u001b[0m\u001b[0;34m\u001b[0m\u001b[0m\n\u001b[1;32m   1006\u001b[0m \u001b[0;34m\u001b[0m\u001b[0m\n\u001b[0;32m-> 1007\u001b[0;31m       \u001b[0mfunc_outputs\u001b[0m \u001b[0;34m=\u001b[0m \u001b[0mpython_func\u001b[0m\u001b[0;34m(\u001b[0m\u001b[0;34m*\u001b[0m\u001b[0mfunc_args\u001b[0m\u001b[0;34m,\u001b[0m \u001b[0;34m**\u001b[0m\u001b[0mfunc_kwargs\u001b[0m\u001b[0;34m)\u001b[0m\u001b[0;34m\u001b[0m\u001b[0;34m\u001b[0m\u001b[0m\n\u001b[0m\u001b[1;32m   1008\u001b[0m \u001b[0;34m\u001b[0m\u001b[0m\n\u001b[1;32m   1009\u001b[0m       \u001b[0;31m# invariant: `func_outputs` contains only Tensors, CompositeTensors,\u001b[0m\u001b[0;34m\u001b[0m\u001b[0;34m\u001b[0m\u001b[0;34m\u001b[0m\u001b[0m\n",
      "\u001b[0;32m/usr/local/lib/python3.7/dist-packages/tensorflow/python/eager/def_function.py\u001b[0m in \u001b[0;36mwrapped_fn\u001b[0;34m(*args, **kwds)\u001b[0m\n\u001b[1;32m    666\u001b[0m         \u001b[0;31m# the function a weak reference to itself to avoid a reference cycle.\u001b[0m\u001b[0;34m\u001b[0m\u001b[0;34m\u001b[0m\u001b[0;34m\u001b[0m\u001b[0m\n\u001b[1;32m    667\u001b[0m         \u001b[0;32mwith\u001b[0m \u001b[0mOptionalXlaContext\u001b[0m\u001b[0;34m(\u001b[0m\u001b[0mcompile_with_xla\u001b[0m\u001b[0;34m)\u001b[0m\u001b[0;34m:\u001b[0m\u001b[0;34m\u001b[0m\u001b[0;34m\u001b[0m\u001b[0m\n\u001b[0;32m--> 668\u001b[0;31m           \u001b[0mout\u001b[0m \u001b[0;34m=\u001b[0m \u001b[0mweak_wrapped_fn\u001b[0m\u001b[0;34m(\u001b[0m\u001b[0;34m)\u001b[0m\u001b[0;34m.\u001b[0m\u001b[0m__wrapped__\u001b[0m\u001b[0;34m(\u001b[0m\u001b[0;34m*\u001b[0m\u001b[0margs\u001b[0m\u001b[0;34m,\u001b[0m \u001b[0;34m**\u001b[0m\u001b[0mkwds\u001b[0m\u001b[0;34m)\u001b[0m\u001b[0;34m\u001b[0m\u001b[0;34m\u001b[0m\u001b[0m\n\u001b[0m\u001b[1;32m    669\u001b[0m         \u001b[0;32mreturn\u001b[0m \u001b[0mout\u001b[0m\u001b[0;34m\u001b[0m\u001b[0;34m\u001b[0m\u001b[0m\n\u001b[1;32m    670\u001b[0m \u001b[0;34m\u001b[0m\u001b[0m\n",
      "\u001b[0;32m/usr/local/lib/python3.7/dist-packages/tensorflow/python/framework/func_graph.py\u001b[0m in \u001b[0;36mwrapper\u001b[0;34m(*args, **kwargs)\u001b[0m\n\u001b[1;32m    992\u001b[0m           \u001b[0;32mexcept\u001b[0m \u001b[0mException\u001b[0m \u001b[0;32mas\u001b[0m \u001b[0me\u001b[0m\u001b[0;34m:\u001b[0m  \u001b[0;31m# pylint:disable=broad-except\u001b[0m\u001b[0;34m\u001b[0m\u001b[0;34m\u001b[0m\u001b[0m\n\u001b[1;32m    993\u001b[0m             \u001b[0;32mif\u001b[0m \u001b[0mhasattr\u001b[0m\u001b[0;34m(\u001b[0m\u001b[0me\u001b[0m\u001b[0;34m,\u001b[0m \u001b[0;34m\"ag_error_metadata\"\u001b[0m\u001b[0;34m)\u001b[0m\u001b[0;34m:\u001b[0m\u001b[0;34m\u001b[0m\u001b[0;34m\u001b[0m\u001b[0m\n\u001b[0;32m--> 994\u001b[0;31m               \u001b[0;32mraise\u001b[0m \u001b[0me\u001b[0m\u001b[0;34m.\u001b[0m\u001b[0mag_error_metadata\u001b[0m\u001b[0;34m.\u001b[0m\u001b[0mto_exception\u001b[0m\u001b[0;34m(\u001b[0m\u001b[0me\u001b[0m\u001b[0;34m)\u001b[0m\u001b[0;34m\u001b[0m\u001b[0;34m\u001b[0m\u001b[0m\n\u001b[0m\u001b[1;32m    995\u001b[0m             \u001b[0;32melse\u001b[0m\u001b[0;34m:\u001b[0m\u001b[0;34m\u001b[0m\u001b[0;34m\u001b[0m\u001b[0m\n\u001b[1;32m    996\u001b[0m               \u001b[0;32mraise\u001b[0m\u001b[0;34m\u001b[0m\u001b[0;34m\u001b[0m\u001b[0m\n",
      "\u001b[0;31mTypeError\u001b[0m: in user code:\n\n    /usr/local/lib/python3.7/dist-packages/keras/engine/training.py:853 train_function  *\n        return step_function(self, iterator)\n    /usr/local/lib/python3.7/dist-packages/keras/engine/training.py:842 step_function  **\n        outputs = model.distribute_strategy.run(run_step, args=(data,))\n    /usr/local/lib/python3.7/dist-packages/tensorflow/python/distribute/distribute_lib.py:1286 run\n        return self._extended.call_for_each_replica(fn, args=args, kwargs=kwargs)\n    /usr/local/lib/python3.7/dist-packages/tensorflow/python/distribute/distribute_lib.py:2849 call_for_each_replica\n        return self._call_for_each_replica(fn, args, kwargs)\n    /usr/local/lib/python3.7/dist-packages/tensorflow/python/distribute/distribute_lib.py:3632 _call_for_each_replica\n        return fn(*args, **kwargs)\n    /usr/local/lib/python3.7/dist-packages/keras/engine/training.py:835 run_step  **\n        outputs = model.train_step(data)\n    /content/gdrive/MyDrive/Maryland/models.py:296 train_step\n        z_mean, z_log_var, z = encoder(data)\n    /content/gdrive/MyDrive/Maryland/models.py:256 encoder\n        z_mean = layers.Dense(latent_dim, name=\"z_mean\")(model)\n    /usr/local/lib/python3.7/dist-packages/keras/layers/core.py:1150 __init__\n        self.units = int(units) if not isinstance(units, int) else units\n\n    TypeError: int() argument must be a string, a bytes-like object or a number, not 'Tensor'\n"
     ]
    }
   ],
   "source": [
    "hist_vae=vae.fit(X_train,X_train, epochs=20)"
   ]
  },
  {
   "cell_type": "code",
   "execution_count": null,
   "id": "friendly-sending",
   "metadata": {
    "id": "friendly-sending",
    "outputId": "09c2341c-dbc1-42d3-c5c2-cac0b64c002c"
   },
   "outputs": [
    {
     "data": {
      "text/plain": [
       "<matplotlib.legend.Legend at 0x173ecfbe508>"
      ]
     },
     "execution_count": 17,
     "metadata": {},
     "output_type": "execute_result"
    },
    {
     "data": {
      "image/png": "[encoded data removed]",
      "text/plain": [
       "<Figure size 432x288 with 1 Axes>"
      ]
     },
     "metadata": {
      "needs_background": "light"
     },
     "output_type": "display_data"
    }
   ],
   "source": [
    "plt.figure()\n",
    "plt.semilogy(hist_vae.history['loss'],label='total loss')\n",
    "plt.semilogy(hist_vae.history['reconstruction_loss'],label='reconstruction loss')\n",
    "plt.semilogy(hist_vae.history['kl_loss'],label='kl loss')\n",
    "plt.xlabel('epoch')\n",
    "plt.ylabel('loss')\n",
    "plt.legend()"
   ]
  },
  {
   "cell_type": "code",
   "execution_count": null,
   "id": "technological-shirt",
   "metadata": {
    "id": "technological-shirt",
    "outputId": "bc87102d-f5b9-4cc6-cbe1-04e8ed3d4db7"
   },
   "outputs": [
    {
     "name": "stdout",
     "output_type": "stream",
     "text": [
      "Epoch 1/100\n",
      "135/135 [==============================] - 2s 3ms/step - d_loss: 0.6883 - g_loss: 0.6760\n",
      "Epoch 2/100\n",
      "135/135 [==============================] - 0s 3ms/step - d_loss: 0.6576 - g_loss: 0.7886\n",
      "Epoch 3/100\n",
      "135/135 [==============================] - 0s 4ms/step - d_loss: 0.6762 - g_loss: 0.7795\n",
      "Epoch 4/100\n",
      "135/135 [==============================] - 1s 4ms/step - d_loss: 0.5954 - g_loss: 0.8071\n",
      "Epoch 5/100\n",
      "135/135 [==============================] - 0s 4ms/step - d_loss: 0.5831 - g_loss: 1.1942\n",
      "Epoch 6/100\n",
      "135/135 [==============================] - 0s 4ms/step - d_loss: 0.4766 - g_loss: 1.0477\n",
      "Epoch 7/100\n",
      "135/135 [==============================] - 0s 3ms/step - d_loss: 0.4941 - g_loss: 1.5474\n",
      "Epoch 8/100\n",
      "135/135 [==============================] - 0s 4ms/step - d_loss: 0.8147 - g_loss: 0.6480\n",
      "Epoch 9/100\n",
      "135/135 [==============================] - 0s 3ms/step - d_loss: 0.6470 - g_loss: 0.7390\n",
      "Epoch 10/100\n",
      "135/135 [==============================] - 0s 3ms/step - d_loss: 0.6407 - g_loss: 0.8293\n",
      "Epoch 11/100\n",
      "135/135 [==============================] - 0s 3ms/step - d_loss: 0.6910 - g_loss: 0.7259\n",
      "Epoch 12/100\n",
      "135/135 [==============================] - 0s 4ms/step - d_loss: 0.6246 - g_loss: 0.8135\n",
      "Epoch 13/100\n",
      "135/135 [==============================] - 0s 3ms/step - d_loss: 0.6345 - g_loss: 0.7895\n",
      "Epoch 14/100\n",
      "135/135 [==============================] - 0s 3ms/step - d_loss: 0.5812 - g_loss: 0.8479\n",
      "Epoch 15/100\n",
      "135/135 [==============================] - 0s 3ms/step - d_loss: 0.6372 - g_loss: 0.8109\n",
      "Epoch 16/100\n",
      "135/135 [==============================] - 0s 3ms/step - d_loss: 0.6663 - g_loss: 0.8115\n",
      "Epoch 17/100\n",
      "135/135 [==============================] - 0s 4ms/step - d_loss: 0.5707 - g_loss: 0.9452\n",
      "Epoch 18/100\n",
      "135/135 [==============================] - 0s 4ms/step - d_loss: 0.6122 - g_loss: 1.1221\n",
      "Epoch 19/100\n",
      "135/135 [==============================] - 0s 4ms/step - d_loss: 0.4554 - g_loss: 1.2364\n",
      "Epoch 20/100\n",
      "135/135 [==============================] - 0s 4ms/step - d_loss: 0.5808 - g_loss: 1.0596\n",
      "Epoch 21/100\n",
      "135/135 [==============================] - 0s 4ms/step - d_loss: 0.6218 - g_loss: 0.8603\n",
      "Epoch 22/100\n",
      "135/135 [==============================] - 0s 3ms/step - d_loss: 0.6318 - g_loss: 0.8606\n",
      "Epoch 23/100\n",
      "135/135 [==============================] - 0s 3ms/step - d_loss: 0.5381 - g_loss: 0.9838\n",
      "Epoch 24/100\n",
      "135/135 [==============================] - 0s 4ms/step - d_loss: 0.6454 - g_loss: 0.7810\n",
      "Epoch 25/100\n",
      "135/135 [==============================] - 0s 3ms/step - d_loss: 0.6579 - g_loss: 0.8642\n",
      "Epoch 26/100\n",
      "135/135 [==============================] - 0s 4ms/step - d_loss: 0.5486 - g_loss: 1.2836\n",
      "Epoch 27/100\n",
      "135/135 [==============================] - 0s 3ms/step - d_loss: 0.6825 - g_loss: 0.8067\n",
      "Epoch 28/100\n",
      "135/135 [==============================] - 1s 4ms/step - d_loss: 0.6369 - g_loss: 0.8056\n",
      "Epoch 29/100\n",
      "135/135 [==============================] - 0s 4ms/step - d_loss: 0.5756 - g_loss: 0.9657\n",
      "Epoch 30/100\n",
      "135/135 [==============================] - 0s 4ms/step - d_loss: 0.5235 - g_loss: 1.1454\n",
      "Epoch 31/100\n",
      "135/135 [==============================] - 0s 4ms/step - d_loss: 0.6275 - g_loss: 0.8633\n",
      "Epoch 32/100\n",
      "135/135 [==============================] - 0s 3ms/step - d_loss: 0.5951 - g_loss: 0.8497\n",
      "Epoch 33/100\n",
      "135/135 [==============================] - 0s 4ms/step - d_loss: 0.6650 - g_loss: 0.7793\n",
      "Epoch 34/100\n",
      "135/135 [==============================] - 0s 3ms/step - d_loss: 0.6290 - g_loss: 0.8195\n",
      "Epoch 35/100\n",
      "135/135 [==============================] - 1s 4ms/step - d_loss: 0.6061 - g_loss: 0.8210\n",
      "Epoch 36/100\n",
      "135/135 [==============================] - 1s 4ms/step - d_loss: 0.6245 - g_loss: 0.8268\n",
      "Epoch 37/100\n",
      "135/135 [==============================] - 1s 4ms/step - d_loss: 0.6333 - g_loss: 0.8137\n",
      "Epoch 38/100\n",
      "135/135 [==============================] - 1s 4ms/step - d_loss: 0.6301 - g_loss: 0.7963\n",
      "Epoch 39/100\n",
      "135/135 [==============================] - 1s 4ms/step - d_loss: 0.6984 - g_loss: 0.7515\n",
      "Epoch 40/100\n",
      "135/135 [==============================] - 0s 4ms/step - d_loss: 0.6571 - g_loss: 0.7809\n",
      "Epoch 41/100\n",
      "135/135 [==============================] - 0s 4ms/step - d_loss: 0.6259 - g_loss: 0.8000\n",
      "Epoch 42/100\n",
      "135/135 [==============================] - 0s 3ms/step - d_loss: 0.6023 - g_loss: 0.8540\n",
      "Epoch 43/100\n",
      "135/135 [==============================] - 0s 3ms/step - d_loss: 0.6292 - g_loss: 0.8828\n",
      "Epoch 44/100\n",
      "135/135 [==============================] - 0s 4ms/step - d_loss: 0.6531 - g_loss: 0.8199\n",
      "Epoch 45/100\n",
      "135/135 [==============================] - 0s 4ms/step - d_loss: 0.6010 - g_loss: 0.8748\n",
      "Epoch 46/100\n",
      "135/135 [==============================] - 0s 4ms/step - d_loss: 0.6585 - g_loss: 0.8686\n",
      "Epoch 47/100\n",
      "135/135 [==============================] - 0s 3ms/step - d_loss: 0.6058 - g_loss: 0.8318\n",
      "Epoch 48/100\n",
      "135/135 [==============================] - 0s 3ms/step - d_loss: 0.6133 - g_loss: 1.0337\n",
      "Epoch 49/100\n",
      "135/135 [==============================] - 0s 3ms/step - d_loss: 0.5467 - g_loss: 1.0975\n",
      "Epoch 50/100\n",
      "135/135 [==============================] - 1s 4ms/step - d_loss: 0.6450 - g_loss: 0.8716\n",
      "Epoch 51/100\n",
      "135/135 [==============================] - 1s 4ms/step - d_loss: 0.6344 - g_loss: 0.7875\n",
      "Epoch 52/100\n",
      "135/135 [==============================] - 1s 4ms/step - d_loss: 0.5944 - g_loss: 0.8845\n",
      "Epoch 53/100\n",
      "135/135 [==============================] - 0s 3ms/step - d_loss: 0.5943 - g_loss: 0.8736\n",
      "Epoch 54/100\n",
      "135/135 [==============================] - 0s 3ms/step - d_loss: 0.5958 - g_loss: 0.8815\n",
      "Epoch 55/100\n",
      "135/135 [==============================] - 0s 3ms/step - d_loss: 0.5660 - g_loss: 0.9395\n",
      "Epoch 56/100\n",
      "135/135 [==============================] - 0s 3ms/step - d_loss: 0.6023 - g_loss: 0.8725\n",
      "Epoch 57/100\n",
      "135/135 [==============================] - 0s 3ms/step - d_loss: 0.5795 - g_loss: 0.9015\n",
      "Epoch 58/100\n",
      "135/135 [==============================] - 0s 3ms/step - d_loss: 0.6790 - g_loss: 0.8778\n",
      "Epoch 59/100\n",
      "135/135 [==============================] - 0s 3ms/step - d_loss: 0.6232 - g_loss: 0.8314\n",
      "Epoch 60/100\n",
      "135/135 [==============================] - 0s 3ms/step - d_loss: 0.6641 - g_loss: 0.8394\n",
      "Epoch 61/100\n",
      "135/135 [==============================] - 0s 4ms/step - d_loss: 0.6168 - g_loss: 0.8673\n",
      "Epoch 62/100\n",
      "135/135 [==============================] - 0s 3ms/step - d_loss: 0.6044 - g_loss: 0.8939\n",
      "Epoch 63/100\n",
      "135/135 [==============================] - 0s 3ms/step - d_loss: 0.6658 - g_loss: 0.7954\n",
      "Epoch 64/100\n",
      "135/135 [==============================] - 0s 3ms/step - d_loss: 0.6530 - g_loss: 0.8289\n",
      "Epoch 65/100\n",
      "135/135 [==============================] - 0s 4ms/step - d_loss: 0.6111 - g_loss: 0.8607\n",
      "Epoch 66/100\n",
      "135/135 [==============================] - 0s 4ms/step - d_loss: 0.6141 - g_loss: 0.8443\n",
      "Epoch 67/100\n",
      "135/135 [==============================] - 0s 4ms/step - d_loss: 0.5798 - g_loss: 0.8986\n",
      "Epoch 68/100\n",
      "135/135 [==============================] - 0s 4ms/step - d_loss: 0.6001 - g_loss: 0.8526\n",
      "Epoch 69/100\n",
      "135/135 [==============================] - 0s 4ms/step - d_loss: 0.5802 - g_loss: 0.9063\n",
      "Epoch 70/100\n",
      "135/135 [==============================] - 1s 4ms/step - d_loss: 0.5463 - g_loss: 0.9570\n",
      "Epoch 71/100\n",
      "135/135 [==============================] - 1s 4ms/step - d_loss: 0.6854 - g_loss: 1.2403\n",
      "Epoch 72/100\n",
      "135/135 [==============================] - 1s 4ms/step - d_loss: 0.6318 - g_loss: 0.9241\n",
      "Epoch 73/100\n",
      "135/135 [==============================] - 1s 4ms/step - d_loss: 0.6238 - g_loss: 0.8645\n",
      "Epoch 74/100\n",
      "135/135 [==============================] - 0s 4ms/step - d_loss: 0.5853 - g_loss: 0.8904\n",
      "Epoch 75/100\n",
      "135/135 [==============================] - 0s 4ms/step - d_loss: 0.5775 - g_loss: 0.9175\n",
      "Epoch 76/100\n",
      "135/135 [==============================] - 1s 4ms/step - d_loss: 0.6720 - g_loss: 0.8385\n",
      "Epoch 77/100\n",
      "135/135 [==============================] - 0s 4ms/step - d_loss: 0.6898 - g_loss: 0.7457\n",
      "Epoch 78/100\n",
      "135/135 [==============================] - 0s 4ms/step - d_loss: 0.6434 - g_loss: 0.7768\n",
      "Epoch 79/100\n",
      "135/135 [==============================] - 0s 4ms/step - d_loss: 0.6322 - g_loss: 0.7853\n",
      "Epoch 80/100\n",
      "135/135 [==============================] - 0s 3ms/step - d_loss: 0.6340 - g_loss: 0.8002\n",
      "Epoch 81/100\n",
      "135/135 [==============================] - 0s 4ms/step - d_loss: 0.6265 - g_loss: 0.8145\n",
      "Epoch 82/100\n",
      "135/135 [==============================] - 0s 3ms/step - d_loss: 0.6365 - g_loss: 0.8212\n",
      "Epoch 83/100\n",
      "135/135 [==============================] - 0s 4ms/step - d_loss: 0.6134 - g_loss: 0.8370\n",
      "Epoch 84/100\n",
      "135/135 [==============================] - 0s 3ms/step - d_loss: 0.6126 - g_loss: 0.8509\n",
      "Epoch 85/100\n",
      "135/135 [==============================] - 0s 4ms/step - d_loss: 0.5984 - g_loss: 0.8748\n",
      "Epoch 86/100\n",
      "135/135 [==============================] - 0s 3ms/step - d_loss: 0.5698 - g_loss: 0.8847\n",
      "Epoch 87/100\n",
      "135/135 [==============================] - 0s 4ms/step - d_loss: 0.5174 - g_loss: 0.9769\n",
      "Epoch 88/100\n",
      "135/135 [==============================] - 0s 3ms/step - d_loss: 0.5518 - g_loss: 0.9935\n",
      "Epoch 89/100\n",
      "135/135 [==============================] - 0s 3ms/step - d_loss: 0.5578 - g_loss: 0.9864\n",
      "Epoch 90/100\n",
      "135/135 [==============================] - 0s 4ms/step - d_loss: 0.6150 - g_loss: 1.0688\n",
      "Epoch 91/100\n",
      "135/135 [==============================] - 0s 4ms/step - d_loss: 0.5897 - g_loss: 0.9690\n",
      "Epoch 92/100\n",
      "135/135 [==============================] - 1s 4ms/step - d_loss: 0.6654 - g_loss: 0.8301\n",
      "Epoch 93/100\n",
      "135/135 [==============================] - 0s 3ms/step - d_loss: 0.6146 - g_loss: 0.8938\n",
      "Epoch 94/100\n",
      "135/135 [==============================] - 1s 4ms/step - d_loss: 0.6154 - g_loss: 0.8414\n",
      "Epoch 95/100\n",
      "135/135 [==============================] - 0s 4ms/step - d_loss: 0.6063 - g_loss: 0.8599\n",
      "Epoch 96/100\n",
      "135/135 [==============================] - 1s 4ms/step - d_loss: 0.5954 - g_loss: 0.8814\n",
      "Epoch 97/100\n",
      "135/135 [==============================] - 0s 4ms/step - d_loss: 0.5954 - g_loss: 0.8836\n",
      "Epoch 98/100\n",
      "135/135 [==============================] - 1s 4ms/step - d_loss: 0.6285 - g_loss: 0.8568\n",
      "Epoch 99/100\n",
      "135/135 [==============================] - 0s 4ms/step - d_loss: 0.5982 - g_loss: 0.8696\n",
      "Epoch 100/100\n",
      "135/135 [==============================] - 1s 4ms/step - d_loss: 0.5942 - g_loss: 0.8828\n"
     ]
    }
   ],
   "source": [
    "hist_gan=gan.fit(X_train,epochs=100)"
   ]
  },
  {
   "cell_type": "code",
   "execution_count": null,
   "id": "empty-three",
   "metadata": {
    "id": "empty-three",
    "outputId": "448d6d4c-34b1-420d-af7d-3eeb14b5d019"
   },
   "outputs": [
    {
     "data": {
      "text/plain": [
       "<matplotlib.legend.Legend at 0x173f6537388>"
      ]
     },
     "execution_count": 19,
     "metadata": {},
     "output_type": "execute_result"
    },
    {
     "data": {
      "image/png": "[encoded data removed]",
      "text/plain": [
       "<Figure size 432x288 with 1 Axes>"
      ]
     },
     "metadata": {
      "needs_background": "light"
     },
     "output_type": "display_data"
    }
   ],
   "source": [
    "plt.figure()\n",
    "plt.semilogy(hist_gan.history['d_loss'],label='discriminator loss')\n",
    "plt.semilogy(hist_gan.history['g_loss'],label='generator loss')\n",
    "plt.xlabel('epoch')\n",
    "plt.ylabel('loss')\n",
    "plt.legend()"
   ]
  },
  {
   "cell_type": "code",
   "execution_count": null,
   "id": "secure-fairy",
   "metadata": {
    "id": "secure-fairy",
    "outputId": "98db2936-4187-4148-8388-75f7741eaa1e"
   },
   "outputs": [
    {
     "data": {
      "text/plain": [
       "<tf.Tensor: shape=(4300, 11), dtype=float32, numpy=\n",
       "array([[4.9816808e-01, 7.4900717e-02, 3.1332275e-01, ..., 1.6626179e-02,\n",
       "        1.4766433e-28, 2.0667710e-13],\n",
       "       [3.3152574e-01, 1.6545743e-02, 4.7755620e-01, ..., 2.5015923e-11,\n",
       "        8.0232354e-27, 6.5414382e-18],\n",
       "       [9.7221583e-02, 8.1802905e-03, 7.7373374e-01, ..., 9.9999940e-01,\n",
       "        5.6553063e-36, 1.4839617e-13],\n",
       "       ...,\n",
       "       [9.8046082e-01, 4.6217458e-05, 6.3207680e-01, ..., 9.3760174e-38,\n",
       "        5.7967548e-36, 7.1290477e-27],\n",
       "       [9.1806716e-01, 2.9213619e-01, 2.0058697e-01, ..., 8.1929564e-04,\n",
       "        6.6340614e-27, 6.7740063e-13],\n",
       "       [5.0198215e-01, 8.5301548e-02, 3.1385285e-01, ..., 1.6135561e-09,\n",
       "        1.5022693e-26, 1.5030565e-16]], dtype=float32)>"
      ]
     },
     "execution_count": 20,
     "metadata": {},
     "output_type": "execute_result"
    }
   ],
   "source": [
    "z_mean, z_log_var, z = encoder(X_train)\n",
    "generated_data=decgen(z)\n",
    "generated_data"
   ]
  },
  {
   "cell_type": "code",
   "execution_count": null,
   "id": "stainless-decision",
   "metadata": {
    "id": "stainless-decision",
    "outputId": "935d65cd-6e1d-45fc-c8f7-752ec410f8a8"
   },
   "outputs": [
    {
     "name": "stdout",
     "output_type": "stream",
     "text": [
      "tf.Tensor(\n",
      "[[2.56747901e-02 3.46530348e-01 2.90551782e-02 ... 3.37091851e-26\n",
      "  8.70326760e-33 5.21133298e-25]\n",
      " [9.91452575e-01 8.07771630e-06 6.92966878e-01 ... 0.00000000e+00\n",
      "  1.96607188e-36 3.89281238e-28]\n",
      " [6.96065485e-01 9.79233384e-02 3.09725940e-01 ... 2.84715828e-31\n",
      "  7.72818475e-34 4.43764118e-24]\n",
      " ...\n",
      " [2.53918767e-03 4.39726233e-01 1.02509260e-02 ... 7.97035726e-30\n",
      "  8.45407085e-36 2.57546643e-28]\n",
      " [9.36065555e-01 2.53327131e-01 2.34070092e-01 ... 2.13221584e-12\n",
      "  8.50895448e-26 3.45275829e-16]\n",
      " [9.95744407e-01 1.42887875e-05 5.32326400e-01 ... 3.10824239e-35\n",
      "  7.16244577e-33 9.21576399e-25]], shape=(20200, 11), dtype=float32)\n"
     ]
    }
   ],
   "source": [
    "z_mean, z_log_var, z = encoder(X_test)\n",
    "generated_data=decgen(z)\n",
    "X_test=tf.convert_to_tensor(X_test)\n",
    "\n",
    "fin_X_test=X_test\n",
    "\n",
    "for i in range(100):\n",
    "    z_mean, z_log_var, z = encoder(X_test)\n",
    "    generated_data=tf.concat([generated_data,decgen(z)],0)\n",
    "\n",
    "print(generated_data)\n"
   ]
  },
  {
   "cell_type": "code",
   "execution_count": null,
   "id": "lasting-oasis",
   "metadata": {
    "id": "lasting-oasis",
    "outputId": "5d450bcb-9120-44e0-bd1f-6e07df2c46da"
   },
   "outputs": [
    {
     "data": {
      "text/plain": [
       "array([[2.10269916e+00, 4.07918209e+00, 2.58591086e+00, ...,\n",
       "        1.00000000e+00, 1.20400000e+03, 2.40000000e+01],\n",
       "       [5.96581030e+00, 2.00004847e+00, 6.16740522e+01, ...,\n",
       "        1.00000000e+00, 1.20400000e+03, 2.40000000e+01],\n",
       "       [4.78426194e+00, 2.58754003e+00, 2.75656087e+01, ...,\n",
       "        1.00000000e+00, 1.20400000e+03, 2.40000000e+01],\n",
       "       ...,\n",
       "       [2.01015675e+00, 4.63835740e+00, 9.12332416e-01, ...,\n",
       "        1.00000000e+00, 1.20400000e+03, 2.40000000e+01],\n",
       "       [5.74426222e+00, 3.51996279e+00, 2.08322382e+01, ...,\n",
       "        1.00000000e+00, 1.20400000e+03, 2.40000000e+01],\n",
       "       [5.98297763e+00, 2.00008573e+00, 4.73770496e+01, ...,\n",
       "        1.00000000e+00, 1.20400000e+03, 2.40000000e+01]])"
      ]
     },
     "execution_count": 22,
     "metadata": {},
     "output_type": "execute_result"
    }
   ],
   "source": [
    "generated_data=minmax.inverse_transform(generated_data)\n",
    "generated_data"
   ]
  },
  {
   "cell_type": "code",
   "execution_count": null,
   "id": "complimentary-quarter",
   "metadata": {
    "id": "complimentary-quarter",
    "outputId": "a8d96b41-7f05-4db6-95c6-581ba500baf3",
    "scrolled": true
   },
   "outputs": [
    {
     "data": {
      "text/plain": [
       "array([[2.000e+00, 4.000e+00, 3.000e+00, ..., 1.000e+00, 1.204e+03,\n",
       "        2.400e+01],\n",
       "       [6.000e+00, 2.000e+00, 6.200e+01, ..., 1.000e+00, 1.204e+03,\n",
       "        2.400e+01],\n",
       "       [5.000e+00, 3.000e+00, 2.800e+01, ..., 1.000e+00, 1.204e+03,\n",
       "        2.400e+01],\n",
       "       ...,\n",
       "       [2.000e+00, 5.000e+00, 1.000e+00, ..., 1.000e+00, 1.204e+03,\n",
       "        2.400e+01],\n",
       "       [6.000e+00, 4.000e+00, 2.100e+01, ..., 1.000e+00, 1.204e+03,\n",
       "        2.400e+01],\n",
       "       [6.000e+00, 2.000e+00, 4.700e+01, ..., 1.000e+00, 1.204e+03,\n",
       "        2.400e+01]])"
      ]
     },
     "execution_count": 23,
     "metadata": {},
     "output_type": "execute_result"
    }
   ],
   "source": [
    "generated_data=np.round(generated_data)\n",
    "generated_data"
   ]
  },
  {
   "cell_type": "code",
   "execution_count": null,
   "id": "present-crack",
   "metadata": {
    "id": "present-crack"
   },
   "outputs": [],
   "source": [
    "generated_data=pd.DataFrame(generated_data)"
   ]
  },
  {
   "cell_type": "code",
   "execution_count": null,
   "id": "hourly-passion",
   "metadata": {
    "id": "hourly-passion"
   },
   "outputs": [],
   "source": [
    "generated_data.to_csv('VAE-GAN reconstruction PUMA==1204.csv')"
   ]
  },
  {
   "cell_type": "code",
   "execution_count": null,
   "id": "european-pickup",
   "metadata": {
    "id": "european-pickup"
   },
   "outputs": [],
   "source": []
  }
 ],
 "metadata": {
  "colab": {
   "collapsed_sections": [],
   "name": "VAE-GAN.ipynb",
   "provenance": []
  },
  "kernelspec": {
   "display_name": "Python 3",
   "language": "python",
   "name": "python3"
  },
  "language_info": {
   "codemirror_mode": {
    "name": "ipython",
    "version": 3
   },
   "file_extension": ".py",
   "mimetype": "text/x-python",
   "name": "python",
   "nbconvert_exporter": "python",
   "pygments_lexer": "ipython3",
   "version": "3.8.8"
  }
 },
 "nbformat": 4,
 "nbformat_minor": 5
}
