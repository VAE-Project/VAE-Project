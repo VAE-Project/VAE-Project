{
 "cells": [
  {
   "cell_type": "code",
   "execution_count": 1,
   "metadata": {},
   "outputs": [],
   "source": [
    "import pandas as pd\n",
    "import numpy as np\n",
    "import tensorflow as tf\n",
    "import matplotlib.pyplot as plt\n",
    "from tensorflow.keras import layers\n",
    "from tensorflow.keras.layers import Input,Dense,Lambda\n",
    "from tensorflow.keras.models import Model\n",
    "from tensorflow import keras\n",
    "import tensorflow.keras.backend as K\n",
    "from sklearn.model_selection import train_test_split\n",
    "from sklearn.preprocessing import StandardScaler,MinMaxScaler"
   ]
  },
  {
   "cell_type": "markdown",
   "metadata": {},
   "source": [
    "# Load and Define Data"
   ]
  },
  {
   "cell_type": "code",
   "execution_count": 2,
   "metadata": {},
   "outputs": [
    {
     "data": {
      "text/html": [
       "<div>\n",
       "<style scoped>\n",
       "    .dataframe tbody tr th:only-of-type {\n",
       "        vertical-align: middle;\n",
       "    }\n",
       "\n",
       "    .dataframe tbody tr th {\n",
       "        vertical-align: top;\n",
       "    }\n",
       "\n",
       "    .dataframe thead th {\n",
       "        text-align: right;\n",
       "    }\n",
       "</style>\n",
       "<table border=\"1\" class=\"dataframe\">\n",
       "  <thead>\n",
       "    <tr style=\"text-align: right;\">\n",
       "      <th></th>\n",
       "      <th>AGEP</th>\n",
       "      <th>SEX</th>\n",
       "      <th>ESR</th>\n",
       "      <th>RAC1P</th>\n",
       "      <th>NP</th>\n",
       "      <th>HHT</th>\n",
       "      <th>HINCP</th>\n",
       "      <th>HUPAC</th>\n",
       "      <th>WIF</th>\n",
       "      <th>GEOID10</th>\n",
       "      <th>SANITYID</th>\n",
       "    </tr>\n",
       "  </thead>\n",
       "  <tbody>\n",
       "    <tr>\n",
       "      <th>0</th>\n",
       "      <td>44</td>\n",
       "      <td>1</td>\n",
       "      <td>7</td>\n",
       "      <td>1</td>\n",
       "      <td>2</td>\n",
       "      <td>6</td>\n",
       "      <td>2</td>\n",
       "      <td>3</td>\n",
       "      <td>2</td>\n",
       "      <td>24001000100</td>\n",
       "      <td>0</td>\n",
       "    </tr>\n",
       "    <tr>\n",
       "      <th>1</th>\n",
       "      <td>44</td>\n",
       "      <td>2</td>\n",
       "      <td>2</td>\n",
       "      <td>1</td>\n",
       "      <td>2</td>\n",
       "      <td>6</td>\n",
       "      <td>1</td>\n",
       "      <td>4</td>\n",
       "      <td>4</td>\n",
       "      <td>24001000100</td>\n",
       "      <td>0</td>\n",
       "    </tr>\n",
       "    <tr>\n",
       "      <th>2</th>\n",
       "      <td>20</td>\n",
       "      <td>2</td>\n",
       "      <td>2</td>\n",
       "      <td>1</td>\n",
       "      <td>2</td>\n",
       "      <td>1</td>\n",
       "      <td>3</td>\n",
       "      <td>4</td>\n",
       "      <td>2</td>\n",
       "      <td>24001000100</td>\n",
       "      <td>0</td>\n",
       "    </tr>\n",
       "    <tr>\n",
       "      <th>3</th>\n",
       "      <td>31</td>\n",
       "      <td>1</td>\n",
       "      <td>2</td>\n",
       "      <td>1</td>\n",
       "      <td>3</td>\n",
       "      <td>2</td>\n",
       "      <td>3</td>\n",
       "      <td>2</td>\n",
       "      <td>2</td>\n",
       "      <td>24001000100</td>\n",
       "      <td>0</td>\n",
       "    </tr>\n",
       "    <tr>\n",
       "      <th>4</th>\n",
       "      <td>63</td>\n",
       "      <td>1</td>\n",
       "      <td>7</td>\n",
       "      <td>1</td>\n",
       "      <td>3</td>\n",
       "      <td>5</td>\n",
       "      <td>5</td>\n",
       "      <td>4</td>\n",
       "      <td>3</td>\n",
       "      <td>24001000100</td>\n",
       "      <td>0</td>\n",
       "    </tr>\n",
       "    <tr>\n",
       "      <th>...</th>\n",
       "      <td>...</td>\n",
       "      <td>...</td>\n",
       "      <td>...</td>\n",
       "      <td>...</td>\n",
       "      <td>...</td>\n",
       "      <td>...</td>\n",
       "      <td>...</td>\n",
       "      <td>...</td>\n",
       "      <td>...</td>\n",
       "      <td>...</td>\n",
       "      <td>...</td>\n",
       "    </tr>\n",
       "    <tr>\n",
       "      <th>3713</th>\n",
       "      <td>41</td>\n",
       "      <td>2</td>\n",
       "      <td>7</td>\n",
       "      <td>1</td>\n",
       "      <td>3</td>\n",
       "      <td>6</td>\n",
       "      <td>4</td>\n",
       "      <td>4</td>\n",
       "      <td>3</td>\n",
       "      <td>24001000100</td>\n",
       "      <td>0</td>\n",
       "    </tr>\n",
       "    <tr>\n",
       "      <th>3714</th>\n",
       "      <td>35</td>\n",
       "      <td>1</td>\n",
       "      <td>2</td>\n",
       "      <td>1</td>\n",
       "      <td>3</td>\n",
       "      <td>1</td>\n",
       "      <td>4</td>\n",
       "      <td>2</td>\n",
       "      <td>3</td>\n",
       "      <td>24001000100</td>\n",
       "      <td>0</td>\n",
       "    </tr>\n",
       "    <tr>\n",
       "      <th>3715</th>\n",
       "      <td>49</td>\n",
       "      <td>2</td>\n",
       "      <td>7</td>\n",
       "      <td>1</td>\n",
       "      <td>2</td>\n",
       "      <td>1</td>\n",
       "      <td>2</td>\n",
       "      <td>4</td>\n",
       "      <td>4</td>\n",
       "      <td>24001000100</td>\n",
       "      <td>0</td>\n",
       "    </tr>\n",
       "    <tr>\n",
       "      <th>3716</th>\n",
       "      <td>67</td>\n",
       "      <td>2</td>\n",
       "      <td>1</td>\n",
       "      <td>1</td>\n",
       "      <td>2</td>\n",
       "      <td>1</td>\n",
       "      <td>4</td>\n",
       "      <td>4</td>\n",
       "      <td>1</td>\n",
       "      <td>24001000100</td>\n",
       "      <td>0</td>\n",
       "    </tr>\n",
       "    <tr>\n",
       "      <th>3717</th>\n",
       "      <td>46</td>\n",
       "      <td>2</td>\n",
       "      <td>7</td>\n",
       "      <td>1</td>\n",
       "      <td>5</td>\n",
       "      <td>1</td>\n",
       "      <td>4</td>\n",
       "      <td>3</td>\n",
       "      <td>2</td>\n",
       "      <td>24001000100</td>\n",
       "      <td>0</td>\n",
       "    </tr>\n",
       "  </tbody>\n",
       "</table>\n",
       "<p>3718 rows × 11 columns</p>\n",
       "</div>"
      ],
      "text/plain": [
       "      AGEP  SEX  ESR  RAC1P  NP  HHT  HINCP  HUPAC  WIF      GEOID10  SANITYID\n",
       "0       44    1    7      1   2    6      2      3    2  24001000100         0\n",
       "1       44    2    2      1   2    6      1      4    4  24001000100         0\n",
       "2       20    2    2      1   2    1      3      4    2  24001000100         0\n",
       "3       31    1    2      1   3    2      3      2    2  24001000100         0\n",
       "4       63    1    7      1   3    5      5      4    3  24001000100         0\n",
       "...    ...  ...  ...    ...  ..  ...    ...    ...  ...          ...       ...\n",
       "3713    41    2    7      1   3    6      4      4    3  24001000100         0\n",
       "3714    35    1    2      1   3    1      4      2    3  24001000100         0\n",
       "3715    49    2    7      1   2    1      2      4    4  24001000100         0\n",
       "3716    67    2    1      1   2    1      4      4    1  24001000100         0\n",
       "3717    46    2    7      1   5    1      4      3    2  24001000100         0\n",
       "\n",
       "[3718 rows x 11 columns]"
      ]
     },
     "execution_count": 2,
     "metadata": {},
     "output_type": "execute_result"
    }
   ],
   "source": [
    "df = pd.read_csv('../Data/SYN PUMA= 100  GEOID= 24001000100.csv')\n",
    "df"
   ]
  },
  {
   "cell_type": "code",
   "execution_count": 3,
   "metadata": {},
   "outputs": [
    {
     "data": {
      "text/plain": [
       "(3718, 11)"
      ]
     },
     "execution_count": 3,
     "metadata": {},
     "output_type": "execute_result"
    }
   ],
   "source": [
    "df.shape"
   ]
  },
  {
   "cell_type": "markdown",
   "metadata": {},
   "source": [
    "# Data Preprocessing"
   ]
  },
  {
   "cell_type": "code",
   "execution_count": 4,
   "metadata": {},
   "outputs": [],
   "source": [
    "X_train,X_test=train_test_split(df,test_size=400)\n"
   ]
  },
  {
   "cell_type": "code",
   "execution_count": 5,
   "metadata": {},
   "outputs": [
    {
     "data": {
      "text/html": [
       "<div>\n",
       "<style scoped>\n",
       "    .dataframe tbody tr th:only-of-type {\n",
       "        vertical-align: middle;\n",
       "    }\n",
       "\n",
       "    .dataframe tbody tr th {\n",
       "        vertical-align: top;\n",
       "    }\n",
       "\n",
       "    .dataframe thead th {\n",
       "        text-align: right;\n",
       "    }\n",
       "</style>\n",
       "<table border=\"1\" class=\"dataframe\">\n",
       "  <thead>\n",
       "    <tr style=\"text-align: right;\">\n",
       "      <th></th>\n",
       "      <th>AGEP</th>\n",
       "      <th>SEX</th>\n",
       "      <th>ESR</th>\n",
       "      <th>RAC1P</th>\n",
       "      <th>NP</th>\n",
       "      <th>HHT</th>\n",
       "      <th>HINCP</th>\n",
       "      <th>HUPAC</th>\n",
       "      <th>WIF</th>\n",
       "      <th>GEOID10</th>\n",
       "      <th>SANITYID</th>\n",
       "    </tr>\n",
       "  </thead>\n",
       "  <tbody>\n",
       "    <tr>\n",
       "      <th>253</th>\n",
       "      <td>67</td>\n",
       "      <td>1</td>\n",
       "      <td>7</td>\n",
       "      <td>1</td>\n",
       "      <td>3</td>\n",
       "      <td>1</td>\n",
       "      <td>2</td>\n",
       "      <td>4</td>\n",
       "      <td>2</td>\n",
       "      <td>24001000100</td>\n",
       "      <td>0</td>\n",
       "    </tr>\n",
       "    <tr>\n",
       "      <th>1541</th>\n",
       "      <td>38</td>\n",
       "      <td>2</td>\n",
       "      <td>7</td>\n",
       "      <td>1</td>\n",
       "      <td>2</td>\n",
       "      <td>1</td>\n",
       "      <td>4</td>\n",
       "      <td>4</td>\n",
       "      <td>3</td>\n",
       "      <td>24001000100</td>\n",
       "      <td>0</td>\n",
       "    </tr>\n",
       "    <tr>\n",
       "      <th>784</th>\n",
       "      <td>76</td>\n",
       "      <td>2</td>\n",
       "      <td>7</td>\n",
       "      <td>1</td>\n",
       "      <td>1</td>\n",
       "      <td>1</td>\n",
       "      <td>5</td>\n",
       "      <td>4</td>\n",
       "      <td>3</td>\n",
       "      <td>24001000100</td>\n",
       "      <td>0</td>\n",
       "    </tr>\n",
       "    <tr>\n",
       "      <th>2835</th>\n",
       "      <td>41</td>\n",
       "      <td>1</td>\n",
       "      <td>7</td>\n",
       "      <td>1</td>\n",
       "      <td>1</td>\n",
       "      <td>1</td>\n",
       "      <td>1</td>\n",
       "      <td>4</td>\n",
       "      <td>2</td>\n",
       "      <td>24001000100</td>\n",
       "      <td>0</td>\n",
       "    </tr>\n",
       "    <tr>\n",
       "      <th>2535</th>\n",
       "      <td>35</td>\n",
       "      <td>1</td>\n",
       "      <td>2</td>\n",
       "      <td>1</td>\n",
       "      <td>3</td>\n",
       "      <td>1</td>\n",
       "      <td>1</td>\n",
       "      <td>4</td>\n",
       "      <td>2</td>\n",
       "      <td>24001000100</td>\n",
       "      <td>0</td>\n",
       "    </tr>\n",
       "    <tr>\n",
       "      <th>...</th>\n",
       "      <td>...</td>\n",
       "      <td>...</td>\n",
       "      <td>...</td>\n",
       "      <td>...</td>\n",
       "      <td>...</td>\n",
       "      <td>...</td>\n",
       "      <td>...</td>\n",
       "      <td>...</td>\n",
       "      <td>...</td>\n",
       "      <td>...</td>\n",
       "      <td>...</td>\n",
       "    </tr>\n",
       "    <tr>\n",
       "      <th>3059</th>\n",
       "      <td>83</td>\n",
       "      <td>1</td>\n",
       "      <td>7</td>\n",
       "      <td>1</td>\n",
       "      <td>2</td>\n",
       "      <td>6</td>\n",
       "      <td>2</td>\n",
       "      <td>2</td>\n",
       "      <td>4</td>\n",
       "      <td>24001000100</td>\n",
       "      <td>0</td>\n",
       "    </tr>\n",
       "    <tr>\n",
       "      <th>540</th>\n",
       "      <td>80</td>\n",
       "      <td>2</td>\n",
       "      <td>7</td>\n",
       "      <td>1</td>\n",
       "      <td>7</td>\n",
       "      <td>6</td>\n",
       "      <td>3</td>\n",
       "      <td>4</td>\n",
       "      <td>2</td>\n",
       "      <td>24001000100</td>\n",
       "      <td>0</td>\n",
       "    </tr>\n",
       "    <tr>\n",
       "      <th>2879</th>\n",
       "      <td>57</td>\n",
       "      <td>1</td>\n",
       "      <td>7</td>\n",
       "      <td>1</td>\n",
       "      <td>3</td>\n",
       "      <td>1</td>\n",
       "      <td>1</td>\n",
       "      <td>4</td>\n",
       "      <td>4</td>\n",
       "      <td>24001000100</td>\n",
       "      <td>0</td>\n",
       "    </tr>\n",
       "    <tr>\n",
       "      <th>957</th>\n",
       "      <td>1</td>\n",
       "      <td>1</td>\n",
       "      <td>1</td>\n",
       "      <td>1</td>\n",
       "      <td>2</td>\n",
       "      <td>1</td>\n",
       "      <td>1</td>\n",
       "      <td>4</td>\n",
       "      <td>1</td>\n",
       "      <td>24001000100</td>\n",
       "      <td>0</td>\n",
       "    </tr>\n",
       "    <tr>\n",
       "      <th>2078</th>\n",
       "      <td>19</td>\n",
       "      <td>2</td>\n",
       "      <td>7</td>\n",
       "      <td>1</td>\n",
       "      <td>2</td>\n",
       "      <td>1</td>\n",
       "      <td>1</td>\n",
       "      <td>4</td>\n",
       "      <td>2</td>\n",
       "      <td>24001000100</td>\n",
       "      <td>0</td>\n",
       "    </tr>\n",
       "  </tbody>\n",
       "</table>\n",
       "<p>3318 rows × 11 columns</p>\n",
       "</div>"
      ],
      "text/plain": [
       "      AGEP  SEX  ESR  RAC1P  NP  HHT  HINCP  HUPAC  WIF      GEOID10  SANITYID\n",
       "253     67    1    7      1   3    1      2      4    2  24001000100         0\n",
       "1541    38    2    7      1   2    1      4      4    3  24001000100         0\n",
       "784     76    2    7      1   1    1      5      4    3  24001000100         0\n",
       "2835    41    1    7      1   1    1      1      4    2  24001000100         0\n",
       "2535    35    1    2      1   3    1      1      4    2  24001000100         0\n",
       "...    ...  ...  ...    ...  ..  ...    ...    ...  ...          ...       ...\n",
       "3059    83    1    7      1   2    6      2      2    4  24001000100         0\n",
       "540     80    2    7      1   7    6      3      4    2  24001000100         0\n",
       "2879    57    1    7      1   3    1      1      4    4  24001000100         0\n",
       "957      1    1    1      1   2    1      1      4    1  24001000100         0\n",
       "2078    19    2    7      1   2    1      1      4    2  24001000100         0\n",
       "\n",
       "[3318 rows x 11 columns]"
      ]
     },
     "execution_count": 5,
     "metadata": {},
     "output_type": "execute_result"
    }
   ],
   "source": [
    "X_train"
   ]
  },
  {
   "cell_type": "code",
   "execution_count": 6,
   "metadata": {},
   "outputs": [],
   "source": [
    "minmax=MinMaxScaler()\n",
    "X_train = minmax.fit_transform(X_train)\n",
    "X_test = minmax.fit_transform(X_test)"
   ]
  },
  {
   "cell_type": "code",
   "execution_count": 7,
   "metadata": {},
   "outputs": [
    {
     "data": {
      "text/plain": [
       "array([[0.6875    , 0.        , 1.        , ..., 0.33333333, 0.        ,\n",
       "        0.        ],\n",
       "       [0.38541667, 1.        , 1.        , ..., 0.66666667, 0.        ,\n",
       "        0.        ],\n",
       "       [0.78125   , 1.        , 1.        , ..., 0.66666667, 0.        ,\n",
       "        0.        ],\n",
       "       ...,\n",
       "       [0.58333333, 0.        , 1.        , ..., 1.        , 0.        ,\n",
       "        0.        ],\n",
       "       [0.        , 0.        , 0.        , ..., 0.        , 0.        ,\n",
       "        0.        ],\n",
       "       [0.1875    , 1.        , 1.        , ..., 0.33333333, 0.        ,\n",
       "        0.        ]])"
      ]
     },
     "execution_count": 7,
     "metadata": {},
     "output_type": "execute_result"
    }
   ],
   "source": [
    "X_train"
   ]
  },
  {
   "cell_type": "code",
   "execution_count": 8,
   "metadata": {},
   "outputs": [],
   "source": [
    "def fit_batchsize(X,batch_size):\n",
    "    n_size = (len(X)//batch_size)*batch_size\n",
    "    X = X[0:n_size]\n",
    "\n",
    "    return X\n",
    "batch_size = 100\n",
    "X_train = fit_batchsize(X_train, batch_size)\n",
    "X_test = fit_batchsize(X_test, batch_size)"
   ]
  },
  {
   "cell_type": "code",
   "execution_count": 9,
   "metadata": {},
   "outputs": [
    {
     "data": {
      "text/plain": [
       "numpy.ndarray"
      ]
     },
     "execution_count": 9,
     "metadata": {},
     "output_type": "execute_result"
    }
   ],
   "source": [
    "type(X_test)"
   ]
  },
  {
   "cell_type": "markdown",
   "metadata": {},
   "source": [
    "# Define VAE Network"
   ]
  },
  {
   "cell_type": "code",
   "execution_count": 10,
   "metadata": {},
   "outputs": [],
   "source": [
    "class Sampling(layers.Layer):\n",
    "    \"\"\"Uses (z_mean, z_log_var) to sample z, the vector encoding a digit.\"\"\"\n",
    "\n",
    "    def call(self, inputs):\n",
    "        z_mean, z_log_var = inputs\n",
    "        batch = tf.shape(z_mean)[0]\n",
    "        dim = tf.shape(z_mean)[1]\n",
    "        epsilon = tf.keras.backend.random_normal(shape=(batch, dim))\n",
    "        return z_mean + tf.exp(0.5 * z_log_var) * epsilon"
   ]
  },
  {
   "cell_type": "code",
   "execution_count": 11,
   "metadata": {},
   "outputs": [
    {
     "name": "stdout",
     "output_type": "stream",
     "text": [
      "Model: \"encoder\"\n",
      "__________________________________________________________________________________________________\n",
      "Layer (type)                    Output Shape         Param #     Connected to                     \n",
      "==================================================================================================\n",
      "input_1 (InputLayer)            [(None, 11)]         0                                            \n",
      "__________________________________________________________________________________________________\n",
      "reshape (Reshape)               (None, 11, 1)        0           input_1[0][0]                    \n",
      "__________________________________________________________________________________________________\n",
      "conv1d (Conv1D)                 (None, 11, 12)       48          reshape[0][0]                    \n",
      "__________________________________________________________________________________________________\n",
      "conv1d_1 (Conv1D)               (None, 11, 24)       888         conv1d[0][0]                     \n",
      "__________________________________________________________________________________________________\n",
      "flatten (Flatten)               (None, 264)          0           conv1d_1[0][0]                   \n",
      "__________________________________________________________________________________________________\n",
      "z_mean (Dense)                  (None, 2)            530         flatten[0][0]                    \n",
      "__________________________________________________________________________________________________\n",
      "z_log_var (Dense)               (None, 2)            530         flatten[0][0]                    \n",
      "__________________________________________________________________________________________________\n",
      "sampling (Sampling)             (None, 2)            0           z_mean[0][0]                     \n",
      "                                                                 z_log_var[0][0]                  \n",
      "==================================================================================================\n",
      "Total params: 1,996\n",
      "Trainable params: 1,996\n",
      "Non-trainable params: 0\n",
      "__________________________________________________________________________________________________\n"
     ]
    }
   ],
   "source": [
    "latent_dim = 2\n",
    "\n",
    "encoder_inputs = keras.Input(shape=(11,))\n",
    "x = layers.Reshape((11,1))(encoder_inputs)\n",
    "x = layers.Conv1D(12,3, activation=\"relu\", strides=1, padding=\"same\")(x)\n",
    "x = layers.Conv1D(24,3,activation=\"relu\", strides=1, padding=\"same\")(x)\n",
    "x = layers.Flatten()(x)\n",
    "z_mean = layers.Dense(latent_dim, name=\"z_mean\")(x)\n",
    "z_log_var = layers.Dense(latent_dim, name=\"z_log_var\")(x)\n",
    "z = Sampling()([z_mean, z_log_var])\n",
    "encoder = keras.Model(encoder_inputs, [z_mean, z_log_var, z], name=\"encoder\")\n",
    "encoder.summary()"
   ]
  },
  {
   "cell_type": "code",
   "execution_count": 12,
   "metadata": {},
   "outputs": [
    {
     "name": "stdout",
     "output_type": "stream",
     "text": [
      "Model: \"decoder\"\n",
      "_________________________________________________________________\n",
      "Layer (type)                 Output Shape              Param #   \n",
      "=================================================================\n",
      "input_2 (InputLayer)         [(None, 2)]               0         \n",
      "_________________________________________________________________\n",
      "dense (Dense)                (None, 264)               792       \n",
      "_________________________________________________________________\n",
      "reshape_1 (Reshape)          (None, 11, 24)            0         \n",
      "_________________________________________________________________\n",
      "conv1d_transpose (Conv1DTran (None, 11, 24)            1752      \n",
      "_________________________________________________________________\n",
      "conv1d_transpose_1 (Conv1DTr (None, 11, 12)            876       \n",
      "_________________________________________________________________\n",
      "conv1d_transpose_2 (Conv1DTr (None, 11, 1)             37        \n",
      "_________________________________________________________________\n",
      "reshape_2 (Reshape)          (None, 11)                0         \n",
      "=================================================================\n",
      "Total params: 3,457\n",
      "Trainable params: 3,457\n",
      "Non-trainable params: 0\n",
      "_________________________________________________________________\n"
     ]
    }
   ],
   "source": [
    "latent_inputs = keras.Input(shape=(latent_dim,))\n",
    "x = layers.Dense(11 * 24, activation=\"relu\")(latent_inputs)\n",
    "x = layers.Reshape((11, 24))(x)\n",
    "x = layers.Conv1DTranspose(24, 3, activation=\"relu\", strides=1, padding=\"same\")(x)\n",
    "x = layers.Conv1DTranspose(12, 3, activation=\"relu\", strides=1, padding=\"same\")(x)\n",
    "x = layers.Conv1DTranspose(1, 3, activation=\"sigmoid\", padding=\"same\")(x)\n",
    "decoder_outputs=layers.Reshape((11,))(x)\n",
    "decoder = keras.Model(latent_inputs, decoder_outputs, name=\"decoder\")\n",
    "decoder.summary()"
   ]
  },
  {
   "cell_type": "code",
   "execution_count": 13,
   "metadata": {},
   "outputs": [],
   "source": [
    "class VAE(keras.Model):\n",
    "    def __init__(self, encoder, decoder, **kwargs):\n",
    "        super(VAE, self).__init__(**kwargs)\n",
    "        self.encoder = encoder\n",
    "        self.decoder = decoder\n",
    "\n",
    "    def train_step(self, data):\n",
    "        if isinstance(data, tuple):\n",
    "            data = data[0]\n",
    "        with tf.GradientTape() as tape:\n",
    "            z_mean, z_log_var, z = encoder(data)\n",
    "            reconstruction = decoder(z)\n",
    "            reconstruction_loss = tf.reduce_mean(\n",
    "                keras.losses.binary_crossentropy(data, reconstruction)\n",
    "            )\n",
    "            reconstruction_loss *= 11\n",
    "            kl_loss = 1 + z_log_var - tf.square(z_mean) - tf.exp(z_log_var)\n",
    "            kl_loss = tf.reduce_mean(kl_loss)\n",
    "            kl_loss *= -0.5\n",
    "            total_loss = reconstruction_loss + kl_loss\n",
    "        grads = tape.gradient(total_loss, self.trainable_weights)\n",
    "        self.optimizer.apply_gradients(zip(grads, self.trainable_weights))\n",
    "        return {\n",
    "            \"loss\": total_loss,\n",
    "            \"reconstruction_loss\": reconstruction_loss,\n",
    "            \"kl_loss\": kl_loss,\n",
    "        }"
   ]
  },
  {
   "cell_type": "markdown",
   "metadata": {},
   "source": [
    "# Training the VAE Network"
   ]
  },
  {
   "cell_type": "code",
   "execution_count": 14,
   "metadata": {},
   "outputs": [
    {
     "name": "stdout",
     "output_type": "stream",
     "text": [
      "Epoch 1/18\n",
      "33/33 [==============================] - 0s 7ms/step - loss: 7.2124 - reconstruction_loss: 7.2031 - kl_loss: 0.0093\n",
      "Epoch 2/18\n",
      "33/33 [==============================] - 0s 14ms/step - loss: 6.1781 - reconstruction_loss: 6.1395 - kl_loss: 0.0385\n",
      "Epoch 3/18\n",
      "33/33 [==============================] - 0s 13ms/step - loss: 5.2599 - reconstruction_loss: 5.2296 - kl_loss: 0.0303\n",
      "Epoch 4/18\n",
      "33/33 [==============================] - 0s 6ms/step - loss: 5.0336 - reconstruction_loss: 5.0034 - kl_loss: 0.0303\n",
      "Epoch 5/18\n",
      "33/33 [==============================] - 0s 6ms/step - loss: 4.9891 - reconstruction_loss: 4.9094 - kl_loss: 0.0797\n",
      "Epoch 6/18\n",
      "33/33 [==============================] - 0s 6ms/step - loss: 4.9026 - reconstruction_loss: 4.7208 - kl_loss: 0.1818\n",
      "Epoch 7/18\n",
      "33/33 [==============================] - 0s 6ms/step - loss: 4.8066 - reconstruction_loss: 4.4647 - kl_loss: 0.3418\n",
      "Epoch 8/18\n",
      "33/33 [==============================] - 0s 5ms/step - loss: 4.7474 - reconstruction_loss: 4.2888 - kl_loss: 0.4586\n",
      "Epoch 9/18\n",
      "33/33 [==============================] - 0s 6ms/step - loss: 4.7118 - reconstruction_loss: 4.1875 - kl_loss: 0.5242\n",
      "Epoch 10/18\n",
      "33/33 [==============================] - 0s 6ms/step - loss: 4.6980 - reconstruction_loss: 4.1590 - kl_loss: 0.5390\n",
      "Epoch 11/18\n",
      "33/33 [==============================] - 0s 6ms/step - loss: 4.6650 - reconstruction_loss: 4.1279 - kl_loss: 0.5371\n",
      "Epoch 12/18\n",
      "33/33 [==============================] - 0s 5ms/step - loss: 4.6879 - reconstruction_loss: 4.1292 - kl_loss: 0.5587\n",
      "Epoch 13/18\n",
      "33/33 [==============================] - 0s 5ms/step - loss: 4.6711 - reconstruction_loss: 4.1198 - kl_loss: 0.5513\n",
      "Epoch 14/18\n",
      "33/33 [==============================] - 0s 5ms/step - loss: 4.6617 - reconstruction_loss: 4.0958 - kl_loss: 0.5660\n",
      "Epoch 15/18\n",
      "33/33 [==============================] - 0s 5ms/step - loss: 4.6905 - reconstruction_loss: 4.1029 - kl_loss: 0.5876\n",
      "Epoch 16/18\n",
      "33/33 [==============================] - 0s 5ms/step - loss: 4.6593 - reconstruction_loss: 4.0805 - kl_loss: 0.5788\n",
      "Epoch 17/18\n",
      "33/33 [==============================] - 0s 5ms/step - loss: 4.6817 - reconstruction_loss: 4.1028 - kl_loss: 0.5789\n",
      "Epoch 18/18\n",
      "33/33 [==============================] - 0s 5ms/step - loss: 4.6662 - reconstruction_loss: 4.1049 - kl_loss: 0.5613\n"
     ]
    }
   ],
   "source": [
    "vae = VAE(encoder, decoder)\n",
    "vae.compile(optimizer=keras.optimizers.Adam())\n",
    "history=vae.fit(X_train,\n",
    "        X_train, \n",
    "        epochs=18, \n",
    "        batch_size=100)"
   ]
  },
  {
   "cell_type": "markdown",
   "metadata": {},
   "source": [
    "# Reconstruct and Augment Data"
   ]
  },
  {
   "cell_type": "code",
   "execution_count": 15,
   "metadata": {},
   "outputs": [
    {
     "name": "stdout",
     "output_type": "stream",
     "text": [
      "tf.Tensor(\n",
      "[[5.3038853e-01 1.8047455e-01 9.8638082e-01 ... 5.5475008e-01\n",
      "  4.1547418e-04 4.3499470e-04]\n",
      " [5.4254568e-01 8.3702874e-01 9.7822142e-01 ... 5.7998073e-01\n",
      "  6.8873167e-04 5.7005882e-04]\n",
      " [5.3346473e-01 9.9851072e-01 8.2195938e-01 ... 5.5475068e-01\n",
      "  8.3755833e-05 1.0669325e-04]\n",
      " ...\n",
      " [4.9826902e-01 9.9448037e-01 1.4860260e-01 ... 5.1490110e-01\n",
      "  4.7498941e-04 5.4073334e-04]\n",
      " [4.9640143e-01 2.2233725e-03 2.9579768e-01 ... 4.7763178e-01\n",
      "  1.1720657e-03 1.4424622e-03]\n",
      " [5.4760617e-01 9.9482042e-01 9.5923376e-01 ... 5.6587797e-01\n",
      "  1.1663375e-04 1.2294427e-04]], shape=(333300, 11), dtype=float32)\n"
     ]
    }
   ],
   "source": [
    "z_mean, z_log_var, z = encoder(X_train)\n",
    "reconstruction=decoder(z)\n",
    "X_train=tf.convert_to_tensor(X_train)\n",
    "\n",
    "fin_X_train=X_train\n",
    "\n",
    "for i in range(100):\n",
    "    z_mean, z_log_var, z = encoder(X_train)\n",
    "    reconstruction=tf.concat([reconstruction,decoder(z)],0)\n",
    "\n",
    "print(reconstruction)\n"
   ]
  },
  {
   "cell_type": "code",
   "execution_count": 16,
   "metadata": {},
   "outputs": [
    {
     "data": {
      "text/plain": [
       "array([[4.86134139e+01, 1.18047455e+00, 6.91828489e+00, ...,\n",
       "        2.66425025e+00, 2.40010001e+10, 4.34994698e-04],\n",
       "       [4.96589282e+01, 1.83702874e+00, 6.86932850e+00, ...,\n",
       "        2.73994219e+00, 2.40010001e+10, 5.70058823e-04],\n",
       "       [4.88779668e+01, 1.99851072e+00, 5.93175626e+00, ...,\n",
       "        2.66425204e+00, 2.40010001e+10, 1.06693253e-04],\n",
       "       ...,\n",
       "       [4.58511358e+01, 1.99448037e+00, 1.89161563e+00, ...,\n",
       "        2.54470330e+00, 2.40010001e+10, 5.40733337e-04],\n",
       "       [4.56905229e+01, 1.00222337e+00, 2.77478606e+00, ...,\n",
       "        2.43289533e+00, 2.40010001e+10, 1.44246221e-03],\n",
       "       [5.00941306e+01, 1.99482042e+00, 6.75540257e+00, ...,\n",
       "        2.69763392e+00, 2.40010001e+10, 1.22944271e-04]])"
      ]
     },
     "execution_count": 16,
     "metadata": {},
     "output_type": "execute_result"
    }
   ],
   "source": [
    "reconstruction=minmax.inverse_transform(reconstruction)\n",
    "reconstruction"
   ]
  },
  {
   "cell_type": "code",
   "execution_count": 17,
   "metadata": {},
   "outputs": [
    {
     "data": {
      "text/plain": [
       "array([[4.90000000e+01, 1.00000000e+00, 7.00000000e+00, ...,\n",
       "        3.00000000e+00, 2.40010001e+10, 0.00000000e+00],\n",
       "       [5.00000000e+01, 2.00000000e+00, 7.00000000e+00, ...,\n",
       "        3.00000000e+00, 2.40010001e+10, 0.00000000e+00],\n",
       "       [4.90000000e+01, 2.00000000e+00, 6.00000000e+00, ...,\n",
       "        3.00000000e+00, 2.40010001e+10, 0.00000000e+00],\n",
       "       ...,\n",
       "       [4.60000000e+01, 2.00000000e+00, 2.00000000e+00, ...,\n",
       "        3.00000000e+00, 2.40010001e+10, 0.00000000e+00],\n",
       "       [4.60000000e+01, 1.00000000e+00, 3.00000000e+00, ...,\n",
       "        2.00000000e+00, 2.40010001e+10, 0.00000000e+00],\n",
       "       [5.00000000e+01, 2.00000000e+00, 7.00000000e+00, ...,\n",
       "        3.00000000e+00, 2.40010001e+10, 0.00000000e+00]])"
      ]
     },
     "execution_count": 17,
     "metadata": {},
     "output_type": "execute_result"
    }
   ],
   "source": [
    "reconstruction=np.round(reconstruction)\n",
    "reconstruction"
   ]
  },
  {
   "cell_type": "code",
   "execution_count": 18,
   "metadata": {},
   "outputs": [],
   "source": [
    "reconstruction=pd.DataFrame(reconstruction)"
   ]
  },
  {
   "cell_type": "code",
   "execution_count": 19,
   "metadata": {},
   "outputs": [],
   "source": [
    "reconstruction.to_csv('reconstruction.csv')"
   ]
  }
 ],
 "metadata": {
  "kernelspec": {
   "display_name": "Python 3",
   "language": "python",
   "name": "python3"
  },
  "language_info": {
   "codemirror_mode": {
    "name": "ipython",
    "version": 3
   },
   "file_extension": ".py",
   "mimetype": "text/x-python",
   "name": "python",
   "nbconvert_exporter": "python",
   "pygments_lexer": "ipython3",
   "version": "3.8.6"
  }
 },
 "nbformat": 4,
 "nbformat_minor": 4
}
