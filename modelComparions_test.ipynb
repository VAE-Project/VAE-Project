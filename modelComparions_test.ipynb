{
 "cells": [
  {
   "cell_type": "markdown",
   "metadata": {
    "id": "Zk1onH1PZFnc"
   },
   "source": [
    "# Evaluation"
   ]
  },
  {
   "cell_type": "markdown",
   "metadata": {
    "id": "BZPpiyl7DT_1"
   },
   "source": [
    "## Metrics"
   ]
  },
  {
   "cell_type": "markdown",
   "metadata": {
    "id": "AeLOlI4pTM5O"
   },
   "source": [
    "The following metrics can be used if we assume the PUMAs follow the ground truth distribution."
   ]
  },
  {
   "cell_type": "markdown",
   "metadata": {
    "id": "uJjLzGayDy88"
   },
   "source": [
    "#### Single column metrics"
   ]
  },
  {
   "cell_type": "markdown",
   "metadata": {
    "id": "FR95o_cnEH9B"
   },
   "source": [
    "**𝜒2  test**\n",
    "\n",
    "This metric uses the Chi-Squared test to compare the distributions of the two categorical columns. It returns the resulting p-value so that a small value indicates that we can reject the null hypothesis (i.e. and suggests that the distributions are different).\n",
    "\n",
    "Notes:\n",
    "- The sum of the observed and expected frequencies must be the same for the test to be valid.\n",
    "- The test is invalid when the observed or expected frequencies in each category are too small. \n",
    "A typical rule is that all of the observed and expected frequencies should be at least 5.\n",
    "- The test is not symmetric.\n",
    "\n",
    "Reference:\n",
    "https://github.com/sdv-dev/SDMetrics/tree/master/sdmetrics/single_table"
   ]
  },
  {
   "cell_type": "markdown",
   "metadata": {
    "id": "2yQk_2EZD1KQ"
   },
   "source": [
    "#### Multi column metrics"
   ]
  },
  {
   "cell_type": "markdown",
   "metadata": {
    "id": "QIih_roiEpEF"
   },
   "source": [
    "**Detection metric**\n",
    "\n",
    "This metric builds a LogisticRegression Classifier that learns to tell the synthetic data apart from the real data, which later on is evaluated using Cross Validation. The output of the metric is one minus the average ROC AUC score obtained.\n",
    "\n",
    "Reference: https://github.com/sdv-dev/SDMetrics/tree/master/sdmetrics/single_table"
   ]
  },
  {
   "cell_type": "markdown",
   "metadata": {
    "id": "1_7mM1ZAE3xB"
   },
   "source": [
    "**Dimension-wise prediction**\n",
    "\n",
    "This task indirectly measures how well the model captures the interdimensional relationships of the real samples. We choose one dimension y to be the label. We then train two multi-class classifiers, one on the real data and one on the synthetic data. Then, we use the two models to predict the label of a test set pre-drawn from the real data. We can assume that the closer the performance of the model trained on the synthetic data is to that of the model trained on the real data, the better the quality of the synthetic dataset.\n",
    "\n",
    "Reference: https://arxiv.org/pdf/1703.06490.pdf"
   ]
  },
  {
   "cell_type": "markdown",
   "metadata": {
    "id": "JyiCYwj8D-bi"
   },
   "source": [
    "#### Diversity metrics"
   ]
  },
  {
   "cell_type": "markdown",
   "metadata": {
    "id": "Re9tuUKRIr-v"
   },
   "source": [
    "**Sampling zeros**\n",
    "\n",
    "They define sampling zeros as combinations of variables which are in the test set but not in the training set. We can examine how many sampling zeros are recovered using the models as a proportion of the total sampling zeros. \n",
    "\n",
    "They also define structural zeros as the individuals that are neither in the training data nor the test data. They say that we should minimize the amount of structural zeros. I'm not sure about that. \n",
    "\n",
    "Reference: https://arxiv.org/pdf/1909.07689.pdf"
   ]
  },
  {
   "cell_type": "markdown",
   "metadata": {
    "id": "2C0jzAaIZOUv"
   },
   "source": [
    "## Mount Google Drive, Link to folder & install requirements"
   ]
  },
  {
   "cell_type": "code",
   "execution_count": null,
   "metadata": {},
   "outputs": [],
   "source": [
    "%load_ext autoreload\n",
    "%autoreload 2\n",
    "\n",
    "from google.colab import drive\n",
    "drive.mount('/content/gdrive')"
   ]
  },
  {
   "cell_type": "code",
   "execution_count": null,
   "metadata": {
    "colab": {
     "base_uri": "https://localhost:8080/"
    },
    "executionInfo": {
     "elapsed": 1023,
     "status": "ok",
     "timestamp": 1637168693197,
     "user": {
      "displayName": "Pascal Jutras",
      "photoUrl": "https://lh3.googleusercontent.com/a-/AOh14Gh01s2MUuIZEpjZiU7Ln4JxgLvixFsdVV2QUGcJ=s64",
      "userId": "03293336261239430336"
     },
     "user_tz": 300
    },
    "id": "0APWA0zxZUyH",
    "outputId": "57f4100e-b962-4b41-a024-63ff1b810142"
   },
   "outputs": [
    {
     "name": "stdout",
     "output_type": "stream",
     "text": [
      "/content/gdrive/MyDrive/Maryland\n"
     ]
    }
   ],
   "source": [
    "%cd /content/gdrive/MyDrive/Maryland"
   ]
  },
  {
   "cell_type": "code",
   "execution_count": 29,
   "metadata": {
    "colab": {
     "base_uri": "https://localhost:8080/"
    },
    "executionInfo": {
     "elapsed": 3005,
     "status": "ok",
     "timestamp": 1637168696196,
     "user": {
      "displayName": "Pascal Jutras",
      "photoUrl": "https://lh3.googleusercontent.com/a-/AOh14Gh01s2MUuIZEpjZiU7Ln4JxgLvixFsdVV2QUGcJ=s64",
      "userId": "03293336261239430336"
     },
     "user_tz": 300
    },
    "id": "1K1rBnFnFmns",
    "outputId": "0248fb5d-bfea-4fb2-bb5e-519a6610bbd6"
   },
   "outputs": [
    {
     "name": "stdout",
     "output_type": "stream",
     "text": [
      "Collecting sdmetrics\n",
      "  Downloading sdmetrics-0.4.0-py2.py3-none-any.whl (103 kB)\n",
      "Requirement already satisfied: torch<2,>=1.8.0 in c:\\users\\yzc97\\anaconda3\\lib\\site-packages (from sdmetrics) (1.10.0)\n",
      "Requirement already satisfied: scipy<2,>=1.5.4 in c:\\users\\yzc97\\anaconda3\\lib\\site-packages (from sdmetrics) (1.6.2)\n",
      "Requirement already satisfied: scikit-learn<2,>=0.24 in c:\\users\\yzc97\\anaconda3\\lib\\site-packages (from sdmetrics) (0.24.1)\n",
      "Collecting rdt<0.7,>=0.6.1\n",
      "  Downloading rdt-0.6.1-py2.py3-none-any.whl (31 kB)\n",
      "Collecting copulas<0.7,>=0.6.0\n",
      "  Downloading copulas-0.6.0-py2.py3-none-any.whl (50 kB)\n",
      "Requirement already satisfied: pandas<2,>=1.1.3 in c:\\users\\yzc97\\anaconda3\\lib\\site-packages (from sdmetrics) (1.2.4)\n",
      "Collecting pyts<0.13.0,>=0.12.0\n",
      "  Downloading pyts-0.12.0-py3-none-any.whl (2.5 MB)\n",
      "Requirement already satisfied: numpy<2,>=1.20.0 in c:\\users\\yzc97\\anaconda3\\lib\\site-packages (from sdmetrics) (1.20.1)\n",
      "Requirement already satisfied: matplotlib<4,>=3.2.0 in c:\\users\\yzc97\\anaconda3\\lib\\site-packages (from copulas<0.7,>=0.6.0->sdmetrics) (3.3.4)\n",
      "Requirement already satisfied: pyparsing!=2.0.4,!=2.1.2,!=2.1.6,>=2.0.3 in c:\\users\\yzc97\\anaconda3\\lib\\site-packages (from matplotlib<4,>=3.2.0->copulas<0.7,>=0.6.0->sdmetrics) (2.4.7)\n",
      "Requirement already satisfied: cycler>=0.10 in c:\\users\\yzc97\\anaconda3\\lib\\site-packages (from matplotlib<4,>=3.2.0->copulas<0.7,>=0.6.0->sdmetrics) (0.10.0)\n",
      "Requirement already satisfied: python-dateutil>=2.1 in c:\\users\\yzc97\\anaconda3\\lib\\site-packages (from matplotlib<4,>=3.2.0->copulas<0.7,>=0.6.0->sdmetrics) (2.8.1)\n",
      "Requirement already satisfied: kiwisolver>=1.0.1 in c:\\users\\yzc97\\anaconda3\\lib\\site-packages (from matplotlib<4,>=3.2.0->copulas<0.7,>=0.6.0->sdmetrics) (1.3.1)\n",
      "Requirement already satisfied: pillow>=6.2.0 in c:\\users\\yzc97\\anaconda3\\lib\\site-packages (from matplotlib<4,>=3.2.0->copulas<0.7,>=0.6.0->sdmetrics) (8.2.0)\n",
      "Requirement already satisfied: six in c:\\users\\yzc97\\anaconda3\\lib\\site-packages (from cycler>=0.10->matplotlib<4,>=3.2.0->copulas<0.7,>=0.6.0->sdmetrics) (1.15.0)\n",
      "Requirement already satisfied: pytz>=2017.3 in c:\\users\\yzc97\\anaconda3\\lib\\site-packages (from pandas<2,>=1.1.3->sdmetrics) (2021.1)\n",
      "Requirement already satisfied: numba>=0.48.0 in c:\\users\\yzc97\\anaconda3\\lib\\site-packages (from pyts<0.13.0,>=0.12.0->sdmetrics) (0.53.1)\n",
      "Requirement already satisfied: joblib>=0.12 in c:\\users\\yzc97\\anaconda3\\lib\\site-packages (from pyts<0.13.0,>=0.12.0->sdmetrics) (1.0.1)\n",
      "Requirement already satisfied: llvmlite<0.37,>=0.36.0rc1 in c:\\users\\yzc97\\anaconda3\\lib\\site-packages (from numba>=0.48.0->pyts<0.13.0,>=0.12.0->sdmetrics) (0.36.0)\n",
      "Requirement already satisfied: setuptools in c:\\users\\yzc97\\anaconda3\\lib\\site-packages (from numba>=0.48.0->pyts<0.13.0,>=0.12.0->sdmetrics) (52.0.0.post20210125)\n",
      "Collecting pandas<2,>=1.1.3\n",
      "  Downloading pandas-1.1.4-cp38-cp38-win_amd64.whl (8.9 MB)\n",
      "Requirement already satisfied: psutil<6,>=5.7 in c:\\users\\yzc97\\anaconda3\\lib\\site-packages (from rdt<0.7,>=0.6.1->sdmetrics) (5.8.0)\n",
      "Requirement already satisfied: threadpoolctl>=2.0.0 in c:\\users\\yzc97\\anaconda3\\lib\\site-packages (from scikit-learn<2,>=0.24->sdmetrics) (2.1.0)\n",
      "Requirement already satisfied: typing_extensions in c:\\users\\yzc97\\anaconda3\\lib\\site-packages (from torch<2,>=1.8.0->sdmetrics) (3.7.4.3)\n",
      "Installing collected packages: pandas, rdt, pyts, copulas, sdmetrics\n",
      "  Attempting uninstall: pandas\n",
      "    Found existing installation: pandas 1.2.4\n",
      "    Uninstalling pandas-1.2.4:\n",
      "      Successfully uninstalled pandas-1.2.4\n"
     ]
    },
    {
     "name": "stderr",
     "output_type": "stream",
     "text": [
      "ERROR: Could not install packages due to an OSError: [WinError 5] Access is denied: 'C:\\\\Users\\\\yzc97\\\\anaconda3\\\\Lib\\\\site-packages\\\\~andas\\\\_libs\\\\algos.cp38-win_amd64.pyd'\n",
      "Consider using the `--user` option or check the permissions.\n",
      "\n"
     ]
    }
   ],
   "source": [
    "!pip install sdmetrics"
   ]
  },
  {
   "cell_type": "code",
   "execution_count": null,
   "metadata": {
    "id": "Hq1SBd53ZX7q"
   },
   "outputs": [],
   "source": [
    "# !pip install -qr requirements.txt"
   ]
  },
  {
   "cell_type": "markdown",
   "metadata": {
    "id": "BWgCXtAjaPxQ"
   },
   "source": [
    "## Imports"
   ]
  },
  {
   "cell_type": "code",
   "execution_count": 1,
   "metadata": {
    "id": "vQyf_3BTaOU_"
   },
   "outputs": [],
   "source": [
    "# Miscellaneous\n",
    "%matplotlib inline\n",
    "from typing import Tuple\n",
    "import warnings\n",
    "import random\n",
    "import numpy as np\n",
    "import pandas as pd\n",
    "import matplotlib.pyplot as plt\n",
    "\n",
    "import seaborn as sns\n",
    "# from sdmetrics.single_table import CSTest\n",
    "from dataclasses import dataclass\n",
    "\n",
    "# My modules\n",
    "# medWGAN-GP\n",
    "from models import MedGAN, GAN, Autoencoder, VAE\n",
    "\n",
    "# Gibbs\n",
    "from models import  Gibbs\n",
    "# medWGAN-GP training methods\n",
    "from train import train_autoencoder, train_vae, train_gan\n",
    "# Utils\n",
    "from utils import to_device, train_test, generate_samples_vae, generate_samples, generate_samples_gibbs, project_samples\n",
    "# Evaluation\n",
    "from utils import DWP, sampling_zeros\n",
    "# Pytorch\n",
    "import torch\n",
    "import torch.nn as nn\n",
    "from torch.utils.data import DataLoader\n",
    "import tensorflow as tf\n",
    "from tensorflow import keras\n",
    "\n",
    "\n",
    "# Check if CUDA is available\n",
    "if not torch.cuda.is_available():\n",
    "  warnings.warn('CUDA is not available.')"
   ]
  },
  {
   "cell_type": "markdown",
   "metadata": {
    "id": "WVGdBeococaS"
   },
   "source": [
    "## Data"
   ]
  },
  {
   "cell_type": "code",
   "execution_count": 2,
   "metadata": {
    "id": "fweKRirTodsc"
   },
   "outputs": [],
   "source": [
    "# Load data and drop the state\n",
    "train_df = pd.read_csv('../Data/train_only.csv', index_col=0)#.drop([\"ST\"], axis=1)\n",
    "test_df = pd.read_csv('../Data/test_only.csv', index_col=0)#.drop([\"ST\"], axis=1)\n",
    "# Make puma in range 0 to 4 (original pumas are 1201, 1202, 1203, 1204)\n",
    "train_df['PUMA'] = train_df['PUMA'].apply(lambda x: x - 1201)\n",
    "test_df['PUMA'] = test_df['PUMA'].apply(lambda x: x - 1201)\n",
    "# To numpy arrays \n",
    "train = train_df.values\n",
    "test = test_df.values\n",
    "# To tensors\n",
    "train_tensor = torch.tensor(train, dtype=torch.float32)\n",
    "test_tensor = torch.tensor(test, dtype=torch.float32)"
   ]
  },
  {
   "cell_type": "code",
   "execution_count": 3,
   "metadata": {
    "id": "RCb9Ta2chG3f"
   },
   "outputs": [],
   "source": [
    "# DataLoader\n",
    "batch_size = 64\n",
    "train_loader = DataLoader(train_tensor,\n",
    "                          batch_size=batch_size,\n",
    "                          shuffle=False)\n",
    "val_loader = DataLoader(test_tensor,\n",
    "                        batch_size=batch_size,\n",
    "                        shuffle=False)"
   ]
  },
  {
   "cell_type": "markdown",
   "metadata": {
    "id": "VXF2eOCyoMGm"
   },
   "source": [
    "## MedWGAN-GP"
   ]
  },
  {
   "cell_type": "markdown",
   "metadata": {
    "id": "4zCwYAfeREU8"
   },
   "source": [
    "\n",
    "References: \n",
    "\n",
    "Embedding: [Generating Multi-label Discrete Patient Records\n",
    "using Generative Adversarial Networks](https://arxiv.org/pdf/1703.06490.pdf)\n",
    "\n",
    "The generator generates samples in the latent space of the encoder. The decoder then decodes it for the critic. \n",
    "\n",
    "GAN: [Generative Adverserial Nets](https://arxiv.org/pdf/1406.2661.pdf) \n",
    "\n",
    "WGAN: [Wasserstein GAN](https://arxiv.org/pdf/1701.07875.pdf) \n",
    "\n",
    "\n",
    "WGAN-GP: [Improved Training of Wasserstein GANs](https://arxiv.org/pdf/1704.00028.pdf)\n",
    "\n",
    "\"The recently proposed Wasserstein GAN (WGAN) makes progress toward stable training of GANs, but sometimes can still generate only poor samples or fail to converge. We find that these problems are often due to the use of weight clipping in WGAN to enforce a Lipschitz constraint on the critic, which can lead to undesired behavior. We propose an alternative to clipping weights: penalize the norm of gradient of the critic with respect to its input.\"\n",
    "\n"
   ]
  },
  {
   "cell_type": "markdown",
   "metadata": {},
   "source": [
    "**Parameters**"
   ]
  },
  {
   "cell_type": "code",
   "execution_count": 4,
   "metadata": {},
   "outputs": [],
   "source": [
    "# Params\n",
    "N_sample = len(train_tensor)\n",
    "batch_size = 64\n",
    "\n",
    "# models'a args\n",
    "@dataclass\n",
    "class Arguments_gan:\n",
    "  # Data\n",
    "  data_folder: str = '/content/gdrive/MyDrive/Maryland/data'\n",
    "  batch_size: int = batch_size\n",
    "\n",
    "  # Model\n",
    "  input_dim: int = 11\n",
    "  embedding_dim: int = 64\n",
    "  random_dim: int = 100\n",
    "  is_finetuning: bool = False\n",
    "  hidden_D: Tuple[int, ...] = (32,)\n",
    "  hidden_G: Tuple[int, ...] = (32,)\n",
    "\n",
    "  # Optimization (inspired by WGAN paper)\n",
    "  n_critic: int = 5\n",
    "  lr: float = 0.00005\n",
    "  epochs: int = 50\n",
    "  lambda_gp: int = 10\n",
    "\n",
    "  # Miscellaneous\n",
    "  device: str = 'cpu'\n",
    "  decoder: torch.nn.Module = None\n",
    "  verbose: bool = True\n",
    "\n",
    "@dataclass\n",
    "class Arguments_ae:\n",
    "  # Data\n",
    "  data_folder: str = '/content/gdrive/MyDrive/Maryland/data'\n",
    "  batch_size: int = batch_size\n",
    "\n",
    "  # Model\n",
    "  input_dim: int = 11\n",
    "  latent_dim: int = 64  # Overcomplete AE\n",
    "  hidden: Tuple[int, ...] = (32,)\n",
    "\n",
    "  # Optimization\n",
    "  lr: float = 1e-3\n",
    "  epochs: int = 50 \n",
    "  p_zero: float = None  # if not None: Denoising AE \n",
    "\n",
    "  # Miscellaneous\n",
    "  device: str = 'cpu'"
   ]
  },
  {
   "cell_type": "code",
   "execution_count": 5,
   "metadata": {},
   "outputs": [],
   "source": [
    "# Ae arguments\n",
    "args = Arguments_ae(batch_size=64,\n",
    "                    input_dim=11,\n",
    "                    latent_dim=64,  # Overcomplete AE\n",
    "                    hidden=(32,),\n",
    "                    lr=1e-3,\n",
    "                    epochs=100,\n",
    "                    p_zero=0,  # Denoizing Ae\n",
    "                    device=\"cuda\")"
   ]
  },
  {
   "cell_type": "code",
   "execution_count": 6,
   "metadata": {},
   "outputs": [
    {
     "name": "stdout",
     "output_type": "stream",
     "text": [
      "Autoencoder(\n",
      "  (encoder): Encoder(\n",
      "    (input_layer): Linear(in_features=11, out_features=32, bias=True)\n",
      "    (layers): ModuleList()\n",
      "    (output_layer): Linear(in_features=32, out_features=64, bias=True)\n",
      "    (relu): ReLU()\n",
      "    (tanh): Tanh()\n",
      "  )\n",
      "  (decoder): Decoder(\n",
      "    (input_layer): Linear(in_features=64, out_features=32, bias=True)\n",
      "    (layers): ModuleList()\n",
      "    (output_layer): Linear(in_features=32, out_features=11, bias=True)\n",
      "    (relu): ReLU()\n",
      "  )\n",
      "  (criterion): MSELoss()\n",
      ")\n"
     ]
    }
   ],
   "source": [
    "# Instanciation\n",
    "autoencoder = Autoencoder(args)\n",
    "print(autoencoder)"
   ]
  },
  {
   "cell_type": "code",
   "execution_count": 7,
   "metadata": {},
   "outputs": [],
   "source": [
    "# Training\n",
    "optimizer = torch.optim.Adam(autoencoder.parameters(), lr=args.lr)\n",
    "train_autoencoder(autoencoder, train_loader, val_loader, optimizer, args)"
   ]
  },
  {
   "cell_type": "code",
   "execution_count": 8,
   "metadata": {},
   "outputs": [
    {
     "data": {
      "image/png": "[encoded data removed]",
      "text/plain": [
       "<Figure size 1080x504 with 1 Axes>"
      ]
     },
     "metadata": {
      "needs_background": "light"
     },
     "output_type": "display_data"
    }
   ],
   "source": [
    "# Plot validation and training losses\n",
    "epochs = range(1, args.epochs+1)\n",
    "plt.figure(figsize=(15, 7))\n",
    "plt.title(\"Mean square error (MSE) against the epochs for training and validation sets\")\n",
    "plt.plot(epochs, autoencoder.logs[\"train loss\"], label=\"training\")\n",
    "plt.plot(epochs, autoencoder.logs[\"val loss\"], label=\"validation\")\n",
    "plt.xticks(range(1, args.epochs+1, 2))\n",
    "plt.ylim(0, 40)\n",
    "plt.legend(loc=1)\n",
    "plt.show()"
   ]
  },
  {
   "cell_type": "code",
   "execution_count": 9,
   "metadata": {},
   "outputs": [],
   "source": [
    "torch.save(autoencoder.decoder, \"../Saved_Models/decoder.pt\")"
   ]
  },
  {
   "cell_type": "markdown",
   "metadata": {},
   "source": [
    "**Training of medWGAN-GP**"
   ]
  },
  {
   "cell_type": "code",
   "execution_count": 10,
   "metadata": {},
   "outputs": [],
   "source": [
    "# Gans' arguments \n",
    "args = Arguments_gan(epochs=1500,\n",
    "                     input_dim=11,\n",
    "                     hidden_D=(64,),\n",
    "                     hidden_G=(64,),\n",
    "                     lambda_gp=5,\n",
    "                     is_finetuning=True,\n",
    "                     decoder=torch.load(\"../Saved_Models/decoder.pt\"),\n",
    "                    #  decoder=autoencoder.decoder,\n",
    "                     device=\"cuda\",\n",
    "                     verbose=False)"
   ]
  },
  {
   "cell_type": "code",
   "execution_count": 11,
   "metadata": {},
   "outputs": [
    {
     "name": "stdout",
     "output_type": "stream",
     "text": [
      "GAN(\n",
      "  (G): Generator(\n",
      "    (decoder): Decoder(\n",
      "      (input_layer): Linear(in_features=64, out_features=32, bias=True)\n",
      "      (layers): ModuleList()\n",
      "      (output_layer): Linear(in_features=32, out_features=11, bias=True)\n",
      "      (relu): ReLU()\n",
      "    )\n",
      "    (input_layer): Linear(in_features=100, out_features=64, bias=True)\n",
      "    (input_activation): ReLU()\n",
      "    (layers): ModuleList()\n",
      "    (output_layer): Linear(in_features=64, out_features=64, bias=True)\n",
      "    (output_activation): Tanh()\n",
      "  )\n",
      "  (D): Discriminator(\n",
      "    (input_layer): Linear(in_features=11, out_features=64, bias=True)\n",
      "    (input_activation): ReLU()\n",
      "    (layers): ModuleList()\n",
      "    (output_layer): Linear(in_features=64, out_features=1, bias=True)\n",
      "  )\n",
      ")\n"
     ]
    }
   ],
   "source": [
    "# Instanciation\n",
    "gan = GAN(args)\n",
    "gan.to(args.device)\n",
    "print(gan)"
   ]
  },
  {
   "cell_type": "code",
   "execution_count": 12,
   "metadata": {},
   "outputs": [],
   "source": [
    "# Training \n",
    "optimizer_D = torch.optim.RMSprop(gan.D.parameters(), args.lr)\n",
    "optimizer_G = torch.optim.RMSprop(gan.G.parameters(), args.lr)\n",
    "train_gan(gan, train_loader, optimizer_D, optimizer_G, args)"
   ]
  },
  {
   "cell_type": "code",
   "execution_count": 13,
   "metadata": {},
   "outputs": [
    {
     "data": {
      "image/png": "[encoded data removed]",
      "text/plain": [
       "<Figure size 1080x504 with 1 Axes>"
      ]
     },
     "metadata": {
      "needs_background": "light"
     },
     "output_type": "display_data"
    }
   ],
   "source": [
    "# Wasserstein distance\n",
    "plt.figure(figsize=(15, 7))\n",
    "plt.title(\"D loss\")\n",
    "plt.xlabel(\"Generator iterations\")\n",
    "plt.ylabel(\"Wasserstein estimate\")\n",
    "plt.plot(gan.logs[\"approx. EM distance\"])\n",
    "plt.show()"
   ]
  },
  {
   "cell_type": "markdown",
   "metadata": {},
   "source": [
    "**Save and load**"
   ]
  },
  {
   "cell_type": "code",
   "execution_count": 14,
   "metadata": {},
   "outputs": [],
   "source": [
    "torch.save(gan, \"../Saved_Models/medWGAN-GP.pt\")"
   ]
  },
  {
   "cell_type": "code",
   "execution_count": 15,
   "metadata": {},
   "outputs": [],
   "source": [
    "gan = torch.load(\"../Saved_Models/medWGAN-GP.pt\")"
   ]
  },
  {
   "cell_type": "markdown",
   "metadata": {},
   "source": [
    "**Generate train data**"
   ]
  },
  {
   "cell_type": "code",
   "execution_count": 16,
   "metadata": {},
   "outputs": [],
   "source": [
    "medGAN_train_df = pd.DataFrame(generate_samples(gan.G, train_df.shape[0], args), columns=train_df.columns)"
   ]
  },
  {
   "cell_type": "code",
   "execution_count": 17,
   "metadata": {},
   "outputs": [],
   "source": [
    "# Domain of train set\n",
    "train_domain = {}\n",
    "for dim in train_df:\n",
    "    train_domain[dim] = np.unique(train_df[dim])"
   ]
  },
  {
   "cell_type": "code",
   "execution_count": 18,
   "metadata": {},
   "outputs": [],
   "source": [
    "dim_to_project = [\"HINCP\", \"NP\", \"AGEP\", \"RAC1P\", \"ESR\", \"SEX\", \"WIF\", \"HUPAC\", \"HHT\", \"PUMA\", \"ST\"]"
   ]
  },
  {
   "cell_type": "code",
   "execution_count": 19,
   "metadata": {},
   "outputs": [
    {
     "data": {
      "text/html": [
       "<div>\n",
       "<style scoped>\n",
       "    .dataframe tbody tr th:only-of-type {\n",
       "        vertical-align: middle;\n",
       "    }\n",
       "\n",
       "    .dataframe tbody tr th {\n",
       "        vertical-align: top;\n",
       "    }\n",
       "\n",
       "    .dataframe thead th {\n",
       "        text-align: right;\n",
       "    }\n",
       "</style>\n",
       "<table border=\"1\" class=\"dataframe\">\n",
       "  <thead>\n",
       "    <tr style=\"text-align: right;\">\n",
       "      <th></th>\n",
       "      <th>HINCP</th>\n",
       "      <th>NP</th>\n",
       "      <th>AGEP</th>\n",
       "      <th>RAC1P</th>\n",
       "      <th>ESR</th>\n",
       "      <th>SEX</th>\n",
       "      <th>WIF</th>\n",
       "      <th>HUPAC</th>\n",
       "      <th>HHT</th>\n",
       "      <th>PUMA</th>\n",
       "      <th>ST</th>\n",
       "    </tr>\n",
       "  </thead>\n",
       "  <tbody>\n",
       "    <tr>\n",
       "      <th>0</th>\n",
       "      <td>4.0</td>\n",
       "      <td>2.0</td>\n",
       "      <td>65.0</td>\n",
       "      <td>1.0</td>\n",
       "      <td>1.0</td>\n",
       "      <td>1.0</td>\n",
       "      <td>3.0</td>\n",
       "      <td>4.0</td>\n",
       "      <td>1.0</td>\n",
       "      <td>2.0</td>\n",
       "      <td>24.0</td>\n",
       "    </tr>\n",
       "    <tr>\n",
       "      <th>1</th>\n",
       "      <td>5.0</td>\n",
       "      <td>4.0</td>\n",
       "      <td>11.0</td>\n",
       "      <td>1.0</td>\n",
       "      <td>0.0</td>\n",
       "      <td>1.0</td>\n",
       "      <td>4.0</td>\n",
       "      <td>2.0</td>\n",
       "      <td>2.0</td>\n",
       "      <td>1.0</td>\n",
       "      <td>24.0</td>\n",
       "    </tr>\n",
       "    <tr>\n",
       "      <th>2</th>\n",
       "      <td>2.0</td>\n",
       "      <td>2.0</td>\n",
       "      <td>8.0</td>\n",
       "      <td>1.0</td>\n",
       "      <td>1.0</td>\n",
       "      <td>1.0</td>\n",
       "      <td>3.0</td>\n",
       "      <td>2.0</td>\n",
       "      <td>1.0</td>\n",
       "      <td>1.0</td>\n",
       "      <td>24.0</td>\n",
       "    </tr>\n",
       "    <tr>\n",
       "      <th>3</th>\n",
       "      <td>6.0</td>\n",
       "      <td>4.0</td>\n",
       "      <td>40.0</td>\n",
       "      <td>1.0</td>\n",
       "      <td>1.0</td>\n",
       "      <td>2.0</td>\n",
       "      <td>3.0</td>\n",
       "      <td>3.0</td>\n",
       "      <td>2.0</td>\n",
       "      <td>2.0</td>\n",
       "      <td>24.0</td>\n",
       "    </tr>\n",
       "    <tr>\n",
       "      <th>4</th>\n",
       "      <td>5.0</td>\n",
       "      <td>5.0</td>\n",
       "      <td>9.0</td>\n",
       "      <td>1.0</td>\n",
       "      <td>0.0</td>\n",
       "      <td>2.0</td>\n",
       "      <td>2.0</td>\n",
       "      <td>3.0</td>\n",
       "      <td>2.0</td>\n",
       "      <td>2.0</td>\n",
       "      <td>24.0</td>\n",
       "    </tr>\n",
       "    <tr>\n",
       "      <th>...</th>\n",
       "      <td>...</td>\n",
       "      <td>...</td>\n",
       "      <td>...</td>\n",
       "      <td>...</td>\n",
       "      <td>...</td>\n",
       "      <td>...</td>\n",
       "      <td>...</td>\n",
       "      <td>...</td>\n",
       "      <td>...</td>\n",
       "      <td>...</td>\n",
       "      <td>...</td>\n",
       "    </tr>\n",
       "    <tr>\n",
       "      <th>13502</th>\n",
       "      <td>5.0</td>\n",
       "      <td>6.0</td>\n",
       "      <td>14.0</td>\n",
       "      <td>1.0</td>\n",
       "      <td>0.0</td>\n",
       "      <td>2.0</td>\n",
       "      <td>4.0</td>\n",
       "      <td>2.0</td>\n",
       "      <td>2.0</td>\n",
       "      <td>1.0</td>\n",
       "      <td>24.0</td>\n",
       "    </tr>\n",
       "    <tr>\n",
       "      <th>13503</th>\n",
       "      <td>5.0</td>\n",
       "      <td>4.0</td>\n",
       "      <td>45.0</td>\n",
       "      <td>1.0</td>\n",
       "      <td>6.0</td>\n",
       "      <td>2.0</td>\n",
       "      <td>3.0</td>\n",
       "      <td>4.0</td>\n",
       "      <td>2.0</td>\n",
       "      <td>1.0</td>\n",
       "      <td>24.0</td>\n",
       "    </tr>\n",
       "    <tr>\n",
       "      <th>13504</th>\n",
       "      <td>6.0</td>\n",
       "      <td>3.0</td>\n",
       "      <td>59.0</td>\n",
       "      <td>1.0</td>\n",
       "      <td>1.0</td>\n",
       "      <td>1.0</td>\n",
       "      <td>4.0</td>\n",
       "      <td>3.0</td>\n",
       "      <td>2.0</td>\n",
       "      <td>2.0</td>\n",
       "      <td>24.0</td>\n",
       "    </tr>\n",
       "    <tr>\n",
       "      <th>13505</th>\n",
       "      <td>5.0</td>\n",
       "      <td>4.0</td>\n",
       "      <td>5.0</td>\n",
       "      <td>1.0</td>\n",
       "      <td>0.0</td>\n",
       "      <td>1.0</td>\n",
       "      <td>3.0</td>\n",
       "      <td>2.0</td>\n",
       "      <td>2.0</td>\n",
       "      <td>2.0</td>\n",
       "      <td>24.0</td>\n",
       "    </tr>\n",
       "    <tr>\n",
       "      <th>13506</th>\n",
       "      <td>4.0</td>\n",
       "      <td>4.0</td>\n",
       "      <td>10.0</td>\n",
       "      <td>1.0</td>\n",
       "      <td>0.0</td>\n",
       "      <td>1.0</td>\n",
       "      <td>3.0</td>\n",
       "      <td>1.0</td>\n",
       "      <td>1.0</td>\n",
       "      <td>1.0</td>\n",
       "      <td>24.0</td>\n",
       "    </tr>\n",
       "  </tbody>\n",
       "</table>\n",
       "<p>13507 rows × 11 columns</p>\n",
       "</div>"
      ],
      "text/plain": [
       "       HINCP   NP  AGEP  RAC1P  ESR  SEX  WIF  HUPAC  HHT  PUMA    ST\n",
       "0        4.0  2.0  65.0    1.0  1.0  1.0  3.0    4.0  1.0   2.0  24.0\n",
       "1        5.0  4.0  11.0    1.0  0.0  1.0  4.0    2.0  2.0   1.0  24.0\n",
       "2        2.0  2.0   8.0    1.0  1.0  1.0  3.0    2.0  1.0   1.0  24.0\n",
       "3        6.0  4.0  40.0    1.0  1.0  2.0  3.0    3.0  2.0   2.0  24.0\n",
       "4        5.0  5.0   9.0    1.0  0.0  2.0  2.0    3.0  2.0   2.0  24.0\n",
       "...      ...  ...   ...    ...  ...  ...  ...    ...  ...   ...   ...\n",
       "13502    5.0  6.0  14.0    1.0  0.0  2.0  4.0    2.0  2.0   1.0  24.0\n",
       "13503    5.0  4.0  45.0    1.0  6.0  2.0  3.0    4.0  2.0   1.0  24.0\n",
       "13504    6.0  3.0  59.0    1.0  1.0  1.0  4.0    3.0  2.0   2.0  24.0\n",
       "13505    5.0  4.0   5.0    1.0  0.0  1.0  3.0    2.0  2.0   2.0  24.0\n",
       "13506    4.0  4.0  10.0    1.0  0.0  1.0  3.0    1.0  1.0   1.0  24.0\n",
       "\n",
       "[13507 rows x 11 columns]"
      ]
     },
     "execution_count": 19,
     "metadata": {},
     "output_type": "execute_result"
    }
   ],
   "source": [
    "# Inplace projection\n",
    "project_samples(medGAN_train_df, dim_to_project, train_domain)"
   ]
  },
  {
   "cell_type": "markdown",
   "metadata": {},
   "source": [
    "**Generate test data**"
   ]
  },
  {
   "cell_type": "code",
   "execution_count": 20,
   "metadata": {},
   "outputs": [],
   "source": [
    "medGAN_df = pd.DataFrame(generate_samples(gan.G, test_df.shape[0], args), columns=train_df.columns)"
   ]
  },
  {
   "cell_type": "code",
   "execution_count": 21,
   "metadata": {},
   "outputs": [],
   "source": [
    "# Domain of train set\n",
    "train_domain = {}\n",
    "for dim in train_df:\n",
    "    train_domain[dim] = np.unique(train_df[dim])"
   ]
  },
  {
   "cell_type": "code",
   "execution_count": 22,
   "metadata": {},
   "outputs": [],
   "source": [
    "dim_to_project = [\"HINCP\", \"NP\", \"AGEP\", \"RAC1P\", \"ESR\", \"SEX\", \"WIF\", \"HUPAC\", \"HHT\", \"PUMA\", \"ST\"]"
   ]
  },
  {
   "cell_type": "code",
   "execution_count": 23,
   "metadata": {},
   "outputs": [
    {
     "data": {
      "text/html": [
       "<div>\n",
       "<style scoped>\n",
       "    .dataframe tbody tr th:only-of-type {\n",
       "        vertical-align: middle;\n",
       "    }\n",
       "\n",
       "    .dataframe tbody tr th {\n",
       "        vertical-align: top;\n",
       "    }\n",
       "\n",
       "    .dataframe thead th {\n",
       "        text-align: right;\n",
       "    }\n",
       "</style>\n",
       "<table border=\"1\" class=\"dataframe\">\n",
       "  <thead>\n",
       "    <tr style=\"text-align: right;\">\n",
       "      <th></th>\n",
       "      <th>HINCP</th>\n",
       "      <th>NP</th>\n",
       "      <th>AGEP</th>\n",
       "      <th>RAC1P</th>\n",
       "      <th>ESR</th>\n",
       "      <th>SEX</th>\n",
       "      <th>WIF</th>\n",
       "      <th>HUPAC</th>\n",
       "      <th>HHT</th>\n",
       "      <th>PUMA</th>\n",
       "      <th>ST</th>\n",
       "    </tr>\n",
       "  </thead>\n",
       "  <tbody>\n",
       "    <tr>\n",
       "      <th>0</th>\n",
       "      <td>5.0</td>\n",
       "      <td>3.0</td>\n",
       "      <td>67.0</td>\n",
       "      <td>1.0</td>\n",
       "      <td>1.0</td>\n",
       "      <td>2.0</td>\n",
       "      <td>3.0</td>\n",
       "      <td>4.0</td>\n",
       "      <td>1.0</td>\n",
       "      <td>2.0</td>\n",
       "      <td>24.0</td>\n",
       "    </tr>\n",
       "    <tr>\n",
       "      <th>1</th>\n",
       "      <td>4.0</td>\n",
       "      <td>4.0</td>\n",
       "      <td>3.0</td>\n",
       "      <td>1.0</td>\n",
       "      <td>0.0</td>\n",
       "      <td>2.0</td>\n",
       "      <td>3.0</td>\n",
       "      <td>1.0</td>\n",
       "      <td>2.0</td>\n",
       "      <td>1.0</td>\n",
       "      <td>24.0</td>\n",
       "    </tr>\n",
       "    <tr>\n",
       "      <th>2</th>\n",
       "      <td>5.0</td>\n",
       "      <td>5.0</td>\n",
       "      <td>14.0</td>\n",
       "      <td>1.0</td>\n",
       "      <td>0.0</td>\n",
       "      <td>1.0</td>\n",
       "      <td>3.0</td>\n",
       "      <td>2.0</td>\n",
       "      <td>2.0</td>\n",
       "      <td>2.0</td>\n",
       "      <td>24.0</td>\n",
       "    </tr>\n",
       "    <tr>\n",
       "      <th>3</th>\n",
       "      <td>6.0</td>\n",
       "      <td>4.0</td>\n",
       "      <td>52.0</td>\n",
       "      <td>1.0</td>\n",
       "      <td>1.0</td>\n",
       "      <td>2.0</td>\n",
       "      <td>3.0</td>\n",
       "      <td>3.0</td>\n",
       "      <td>2.0</td>\n",
       "      <td>2.0</td>\n",
       "      <td>24.0</td>\n",
       "    </tr>\n",
       "    <tr>\n",
       "      <th>4</th>\n",
       "      <td>6.0</td>\n",
       "      <td>4.0</td>\n",
       "      <td>79.0</td>\n",
       "      <td>1.0</td>\n",
       "      <td>1.0</td>\n",
       "      <td>1.0</td>\n",
       "      <td>4.0</td>\n",
       "      <td>4.0</td>\n",
       "      <td>1.0</td>\n",
       "      <td>2.0</td>\n",
       "      <td>24.0</td>\n",
       "    </tr>\n",
       "    <tr>\n",
       "      <th>...</th>\n",
       "      <td>...</td>\n",
       "      <td>...</td>\n",
       "      <td>...</td>\n",
       "      <td>...</td>\n",
       "      <td>...</td>\n",
       "      <td>...</td>\n",
       "      <td>...</td>\n",
       "      <td>...</td>\n",
       "      <td>...</td>\n",
       "      <td>...</td>\n",
       "      <td>...</td>\n",
       "    </tr>\n",
       "    <tr>\n",
       "      <th>5785</th>\n",
       "      <td>3.0</td>\n",
       "      <td>3.0</td>\n",
       "      <td>20.0</td>\n",
       "      <td>1.0</td>\n",
       "      <td>0.0</td>\n",
       "      <td>1.0</td>\n",
       "      <td>2.0</td>\n",
       "      <td>2.0</td>\n",
       "      <td>1.0</td>\n",
       "      <td>1.0</td>\n",
       "      <td>24.0</td>\n",
       "    </tr>\n",
       "    <tr>\n",
       "      <th>5786</th>\n",
       "      <td>5.0</td>\n",
       "      <td>3.0</td>\n",
       "      <td>68.0</td>\n",
       "      <td>1.0</td>\n",
       "      <td>6.0</td>\n",
       "      <td>1.0</td>\n",
       "      <td>2.0</td>\n",
       "      <td>4.0</td>\n",
       "      <td>1.0</td>\n",
       "      <td>1.0</td>\n",
       "      <td>24.0</td>\n",
       "    </tr>\n",
       "    <tr>\n",
       "      <th>5787</th>\n",
       "      <td>4.0</td>\n",
       "      <td>3.0</td>\n",
       "      <td>63.0</td>\n",
       "      <td>1.0</td>\n",
       "      <td>6.0</td>\n",
       "      <td>1.0</td>\n",
       "      <td>2.0</td>\n",
       "      <td>4.0</td>\n",
       "      <td>1.0</td>\n",
       "      <td>1.0</td>\n",
       "      <td>24.0</td>\n",
       "    </tr>\n",
       "    <tr>\n",
       "      <th>5788</th>\n",
       "      <td>5.0</td>\n",
       "      <td>5.0</td>\n",
       "      <td>12.0</td>\n",
       "      <td>5.0</td>\n",
       "      <td>0.0</td>\n",
       "      <td>1.0</td>\n",
       "      <td>4.0</td>\n",
       "      <td>2.0</td>\n",
       "      <td>1.0</td>\n",
       "      <td>1.0</td>\n",
       "      <td>24.0</td>\n",
       "    </tr>\n",
       "    <tr>\n",
       "      <th>5789</th>\n",
       "      <td>6.0</td>\n",
       "      <td>4.0</td>\n",
       "      <td>61.0</td>\n",
       "      <td>1.0</td>\n",
       "      <td>1.0</td>\n",
       "      <td>1.0</td>\n",
       "      <td>4.0</td>\n",
       "      <td>4.0</td>\n",
       "      <td>2.0</td>\n",
       "      <td>2.0</td>\n",
       "      <td>24.0</td>\n",
       "    </tr>\n",
       "  </tbody>\n",
       "</table>\n",
       "<p>5790 rows × 11 columns</p>\n",
       "</div>"
      ],
      "text/plain": [
       "      HINCP   NP  AGEP  RAC1P  ESR  SEX  WIF  HUPAC  HHT  PUMA    ST\n",
       "0       5.0  3.0  67.0    1.0  1.0  2.0  3.0    4.0  1.0   2.0  24.0\n",
       "1       4.0  4.0   3.0    1.0  0.0  2.0  3.0    1.0  2.0   1.0  24.0\n",
       "2       5.0  5.0  14.0    1.0  0.0  1.0  3.0    2.0  2.0   2.0  24.0\n",
       "3       6.0  4.0  52.0    1.0  1.0  2.0  3.0    3.0  2.0   2.0  24.0\n",
       "4       6.0  4.0  79.0    1.0  1.0  1.0  4.0    4.0  1.0   2.0  24.0\n",
       "...     ...  ...   ...    ...  ...  ...  ...    ...  ...   ...   ...\n",
       "5785    3.0  3.0  20.0    1.0  0.0  1.0  2.0    2.0  1.0   1.0  24.0\n",
       "5786    5.0  3.0  68.0    1.0  6.0  1.0  2.0    4.0  1.0   1.0  24.0\n",
       "5787    4.0  3.0  63.0    1.0  6.0  1.0  2.0    4.0  1.0   1.0  24.0\n",
       "5788    5.0  5.0  12.0    5.0  0.0  1.0  4.0    2.0  1.0   1.0  24.0\n",
       "5789    6.0  4.0  61.0    1.0  1.0  1.0  4.0    4.0  2.0   2.0  24.0\n",
       "\n",
       "[5790 rows x 11 columns]"
      ]
     },
     "execution_count": 23,
     "metadata": {},
     "output_type": "execute_result"
    }
   ],
   "source": [
    "# Inplace projection\n",
    "project_samples(medGAN_df, dim_to_project, train_domain)"
   ]
  },
  {
   "cell_type": "markdown",
   "metadata": {},
   "source": [
    "**Visualization of the marginals**"
   ]
  },
  {
   "cell_type": "code",
   "execution_count": 24,
   "metadata": {},
   "outputs": [
    {
     "name": "stderr",
     "output_type": "stream",
     "text": [
      "C:\\Users\\yzc97\\anaconda3\\lib\\site-packages\\seaborn\\distributions.py:2557: FutureWarning: `distplot` is a deprecated function and will be removed in a future version. Please adapt your code to use either `displot` (a figure-level function with similar flexibility) or `histplot` (an axes-level function for histograms).\n",
      "  warnings.warn(msg, FutureWarning)\n"
     ]
    },
    {
     "data": {
      "image/png": "[encoded data removed]",
      "text/plain": [
       "<Figure size 1440x504 with 10 Axes>"
      ]
     },
     "metadata": {
      "needs_background": "light"
     },
     "output_type": "display_data"
    }
   ],
   "source": [
    "fig, ax = plt.subplots(2, 5, figsize=(20, 7))\n",
    "k = 0\n",
    "col = train_df.columns\n",
    "for i in range(2):\n",
    "  for j in range(5):\n",
    "    sns.distplot(test_df[col[k]], kde=False, ax=ax[i, j])\n",
    "    sns.distplot(medGAN_df[col[k]], kde=False, ax=ax[i, j])\n",
    "    k += 1\n",
    "plt.show()"
   ]
  },
  {
   "cell_type": "markdown",
   "metadata": {},
   "source": [
    "**Single column metrics**"
   ]
  },
  {
   "cell_type": "code",
   "execution_count": 25,
   "metadata": {},
   "outputs": [],
   "source": [
    "from sdmetrics.single_column.statistical.cstest import CSTest"
   ]
  },
  {
   "cell_type": "code",
   "execution_count": 26,
   "metadata": {},
   "outputs": [
    {
     "name": "stdout",
     "output_type": "stream",
     "text": [
      "Chi-Squared \n",
      "min=0.0, max=1.0\n",
      "Goal=Goal.MAXIMIZE\n",
      "\n",
      "HINCP \t 0.97\n",
      "NP \t 1.00\n",
      "AGEP \t 1.00\n",
      "RAC1P \t 0.97\n",
      "ESR \t 0.97\n",
      "SEX \t 0.93\n",
      "WIF \t 1.00\n",
      "HUPAC \t 0.87\n",
      "HHT \t 0.51\n",
      "PUMA \t 0.83\n",
      "ST \t 1.00\n"
     ]
    }
   ],
   "source": [
    "cs_test = CSTest()\n",
    "print(f\"{cs_test.name} \\nmin={cs_test.min_value}, max={cs_test.max_value}\\nGoal={cs_test.goal}\\n\")\n",
    "for col in test_df.columns:\n",
    "    print(f\"{col} \\t {cs_test.compute(test_df[col], medGAN_df[col]):.2f}\")"
   ]
  },
  {
   "cell_type": "markdown",
   "metadata": {},
   "source": [
    "**Detection metric**"
   ]
  },
  {
   "cell_type": "code",
   "execution_count": 27,
   "metadata": {},
   "outputs": [],
   "source": [
    "from sdmetrics.single_table.detection.sklearn import LogisticDetection"
   ]
  },
  {
   "cell_type": "code",
   "execution_count": 28,
   "metadata": {},
   "outputs": [
    {
     "name": "stdout",
     "output_type": "stream",
     "text": [
      "LogisticRegression Detection \n",
      "min=0.0, max=1.0\n",
      "Goal=Goal.MAXIMIZE\n",
      "\n",
      "0.9072484272508434\n"
     ]
    }
   ],
   "source": [
    "logisticDetection = LogisticDetection()\n",
    "print(f\"{logisticDetection.name} \\nmin={logisticDetection.min_value}, max={logisticDetection.max_value}\\nGoal={logisticDetection.goal}\\n\")\n",
    "print(logisticDetection.compute(test_df, medGAN_df))"
   ]
  },
  {
   "cell_type": "markdown",
   "metadata": {},
   "source": [
    "**Dimension-wise prediction**"
   ]
  },
  {
   "cell_type": "code",
   "execution_count": 29,
   "metadata": {},
   "outputs": [
    {
     "name": "stdout",
     "output_type": "stream",
     "text": [
      "Dimension-wise prediction (DWP)\n",
      "min=0.0, max=1.0\n",
      "Goal=Maximize\n"
     ]
    },
    {
     "name": "stderr",
     "output_type": "stream",
     "text": [
      "C:\\Users\\yzc97\\anaconda3\\lib\\site-packages\\sklearn\\linear_model\\_logistic.py:763: ConvergenceWarning: lbfgs failed to converge (status=1):\n",
      "STOP: TOTAL NO. of ITERATIONS REACHED LIMIT.\n",
      "\n",
      "Increase the number of iterations (max_iter) or scale the data as shown in:\n",
      "    https://scikit-learn.org/stable/modules/preprocessing.html\n",
      "Please also refer to the documentation for alternative solver options:\n",
      "    https://scikit-learn.org/stable/modules/linear_model.html#logistic-regression\n",
      "  n_iter_i = _check_optimize_result(\n",
      "C:\\Users\\yzc97\\anaconda3\\lib\\site-packages\\sklearn\\linear_model\\_logistic.py:763: ConvergenceWarning: lbfgs failed to converge (status=1):\n",
      "STOP: TOTAL NO. of ITERATIONS REACHED LIMIT.\n",
      "\n",
      "Increase the number of iterations (max_iter) or scale the data as shown in:\n",
      "    https://scikit-learn.org/stable/modules/preprocessing.html\n",
      "Please also refer to the documentation for alternative solver options:\n",
      "    https://scikit-learn.org/stable/modules/linear_model.html#logistic-regression\n",
      "  n_iter_i = _check_optimize_result(\n",
      "C:\\Users\\yzc97\\anaconda3\\lib\\site-packages\\sklearn\\linear_model\\_logistic.py:763: ConvergenceWarning: lbfgs failed to converge (status=1):\n",
      "STOP: TOTAL NO. of ITERATIONS REACHED LIMIT.\n",
      "\n",
      "Increase the number of iterations (max_iter) or scale the data as shown in:\n",
      "    https://scikit-learn.org/stable/modules/preprocessing.html\n",
      "Please also refer to the documentation for alternative solver options:\n",
      "    https://scikit-learn.org/stable/modules/linear_model.html#logistic-regression\n",
      "  n_iter_i = _check_optimize_result(\n",
      "C:\\Users\\yzc97\\anaconda3\\lib\\site-packages\\sklearn\\linear_model\\_logistic.py:763: ConvergenceWarning: lbfgs failed to converge (status=1):\n",
      "STOP: TOTAL NO. of ITERATIONS REACHED LIMIT.\n",
      "\n",
      "Increase the number of iterations (max_iter) or scale the data as shown in:\n",
      "    https://scikit-learn.org/stable/modules/preprocessing.html\n",
      "Please also refer to the documentation for alternative solver options:\n",
      "    https://scikit-learn.org/stable/modules/linear_model.html#logistic-regression\n",
      "  n_iter_i = _check_optimize_result(\n",
      "C:\\Users\\yzc97\\anaconda3\\lib\\site-packages\\sklearn\\linear_model\\_logistic.py:763: ConvergenceWarning: lbfgs failed to converge (status=1):\n",
      "STOP: TOTAL NO. of ITERATIONS REACHED LIMIT.\n",
      "\n",
      "Increase the number of iterations (max_iter) or scale the data as shown in:\n",
      "    https://scikit-learn.org/stable/modules/preprocessing.html\n",
      "Please also refer to the documentation for alternative solver options:\n",
      "    https://scikit-learn.org/stable/modules/linear_model.html#logistic-regression\n",
      "  n_iter_i = _check_optimize_result(\n"
     ]
    },
    {
     "name": "stdout",
     "output_type": "stream",
     "text": [
      "\n",
      "\n",
      "label=HINCP\n",
      "Real=0.32, Synthetic=0.26\n",
      "label=NP\n",
      "Real=0.41, Synthetic=0.31\n",
      "label=AGEP\n",
      "Real=0.04, Synthetic=0.02\n",
      "label=RAC1P\n",
      "Real=0.72, Synthetic=0.67\n",
      "label=ESR\n",
      "Real=0.80, Synthetic=0.62\n",
      "label=SEX\n",
      "Real=0.54, Synthetic=0.50\n",
      "label=WIF\n",
      "Real=0.56, Synthetic=0.49\n",
      "label=HUPAC\n",
      "Real=0.64, Synthetic=0.36\n",
      "label=HHT\n",
      "Real=0.76, Synthetic=0.57\n",
      "label=PUMA\n",
      "Real=0.33, Synthetic=0.15\n"
     ]
    },
    {
     "name": "stderr",
     "output_type": "stream",
     "text": [
      "C:\\Users\\yzc97\\anaconda3\\lib\\site-packages\\sklearn\\linear_model\\_logistic.py:763: ConvergenceWarning: lbfgs failed to converge (status=1):\n",
      "STOP: TOTAL NO. of ITERATIONS REACHED LIMIT.\n",
      "\n",
      "Increase the number of iterations (max_iter) or scale the data as shown in:\n",
      "    https://scikit-learn.org/stable/modules/preprocessing.html\n",
      "Please also refer to the documentation for alternative solver options:\n",
      "    https://scikit-learn.org/stable/modules/linear_model.html#logistic-regression\n",
      "  n_iter_i = _check_optimize_result(\n"
     ]
    }
   ],
   "source": [
    "print(\"Dimension-wise prediction (DWP)\")\n",
    "print(\"min=0.0, max=1.0\\nGoal=Maximize\")\n",
    "score_real = {}\n",
    "score_synthetic = {}\n",
    "for col in test_df.columns:\n",
    "    if col == \"ST\":\n",
    "        continue\n",
    "    score_real[col] = DWP(train_df, test_df, col)\n",
    "    try:\n",
    "        score_synthetic[col] = DWP(medGAN_train_df, test_df, col)\n",
    "    except:\n",
    "        score_synthetic[col] = np.NAN\n",
    "print(\"\\n\")\n",
    "for col in test_df.columns:\n",
    "    if col == \"ST\":\n",
    "        continue\n",
    "    print(f\"label={col}\\nReal={score_real[col]:.2f}, Synthetic={score_synthetic[col]:.2f}\")"
   ]
  },
  {
   "cell_type": "markdown",
   "metadata": {},
   "source": [
    "**Sampling zeros**"
   ]
  },
  {
   "cell_type": "code",
   "execution_count": 30,
   "metadata": {},
   "outputs": [
    {
     "name": "stdout",
     "output_type": "stream",
     "text": [
      "80 sampling zeros on 13507 synthetic samples\n"
     ]
    }
   ],
   "source": [
    "s_z = sampling_zeros(train_df, test_df, medGAN_train_df)\n",
    "print(f\"{s_z} sampling zeros on {medGAN_train_df.shape[0]} synthetic samples\")"
   ]
  },
  {
   "cell_type": "markdown",
   "metadata": {},
   "source": [
    "## VAE-GAN"
   ]
  },
  {
   "cell_type": "markdown",
   "metadata": {
    "id": "Vg6CGRnMaxqn"
   },
   "source": [
    "**Parameters**"
   ]
  },
  {
   "cell_type": "code",
   "execution_count": 5,
   "metadata": {
    "id": "u1KM_yOyjo5w"
   },
   "outputs": [],
   "source": [
    "# Params\n",
    "N_sample = len(train_tensor)\n",
    "batch_size = 64\n",
    "\n",
    "# models'a args\n",
    "@dataclass\n",
    "class Arguments_gan:\n",
    "  # Data\n",
    "  data_folder: str = '../Data'\n",
    "  batch_size: int = batch_size\n",
    "\n",
    "  # Model\n",
    "  input_dim: int = 11\n",
    "  embedding_dim: int = 64\n",
    "  random_dim: int = 100\n",
    "  is_finetuning: bool = False\n",
    "  hidden_D: Tuple[int, ...] = (32,)\n",
    "  hidden_G: Tuple[int, ...] = (32,)\n",
    "\n",
    "  # Optimization (inspired by WGAN paper)\n",
    "  n_critic: int = 5\n",
    "  lr: float = 0.00005\n",
    "  epochs: int = 50\n",
    "  lambda_gp: int = 10\n",
    "\n",
    "  # Miscellaneous\n",
    "  device: str = 'cpu'\n",
    "  decoder: torch.nn.Module = None\n",
    "  verbose: bool = True\n",
    "\n",
    "@dataclass\n",
    "class Arguments_vae:\n",
    "  # Data\n",
    "  data_folder: str = '../Data'\n",
    "  batch_size: int = batch_size\n",
    "\n",
    "  # Model\n",
    "  input_dim: int = 11\n",
    "  latent_dim: int = 64  # Overcomplete AE\n",
    "  hidden: Tuple[int, ...] = (32,)\n",
    "\n",
    "  # Optimization\n",
    "  lr: float = 1e-3\n",
    "  epochs: int = 50 \n",
    "  p_zero: float = None  # if not None: Denoising AE \n",
    "\n",
    "  # Miscellaneous\n",
    "  device: str = 'cpu'\n"
   ]
  },
  {
   "cell_type": "markdown",
   "metadata": {
    "id": "n-2c2ndrpZcO"
   },
   "source": [
    "**Pre-train the embedding**"
   ]
  },
  {
   "cell_type": "code",
   "execution_count": 6,
   "metadata": {
    "id": "WVg1quG34D_l"
   },
   "outputs": [],
   "source": [
    "# Vae arguments\n",
    "args = Arguments_vae(batch_size=64,\n",
    "                    input_dim=11,\n",
    "                    latent_dim=64,  # Overcomplete VAE\n",
    "                    hidden=(32,),\n",
    "                    lr=1e-3,\n",
    "                    epochs=100,\n",
    "                    p_zero=0,  # Denoizing Vae\n",
    "                    device=\"cuda\")"
   ]
  },
  {
   "cell_type": "code",
   "execution_count": 7,
   "metadata": {
    "colab": {
     "base_uri": "https://localhost:8080/"
    },
    "executionInfo": {
     "elapsed": 19928,
     "status": "ok",
     "timestamp": 1637168750629,
     "user": {
      "displayName": "Pascal Jutras",
      "photoUrl": "https://lh3.googleusercontent.com/a-/AOh14Gh01s2MUuIZEpjZiU7Ln4JxgLvixFsdVV2QUGcJ=s64",
      "userId": "03293336261239430336"
     },
     "user_tz": 300
    },
    "id": "UvxcrWhibv-W",
    "outputId": "bf2b474b-e23b-496d-8a46-bb947c84ae26"
   },
   "outputs": [
    {
     "name": "stdout",
     "output_type": "stream",
     "text": [
      "VAE(\n",
      "  (encoder): Encoder(\n",
      "    (input_layer): Linear(in_features=11, out_features=32, bias=True)\n",
      "    (layers): ModuleList()\n",
      "    (output_layer): Linear(in_features=32, out_features=64, bias=True)\n",
      "    (relu): ReLU()\n",
      "    (tanh): Tanh()\n",
      "  )\n",
      "  (decoder): Decoder(\n",
      "    (input_layer): Linear(in_features=64, out_features=32, bias=True)\n",
      "    (layers): ModuleList()\n",
      "    (output_layer): Linear(in_features=32, out_features=11, bias=True)\n",
      "    (relu): ReLU()\n",
      "  )\n",
      "  (criterion): MSELoss()\n",
      ")\n"
     ]
    }
   ],
   "source": [
    "# Instanciation\n",
    "vae = VAE(args)\n",
    "print(vae)"
   ]
  },
  {
   "cell_type": "code",
   "execution_count": 8,
   "metadata": {
    "id": "afbRCdCXb7SY"
   },
   "outputs": [],
   "source": [
    "# Training\n",
    "optimizer = torch.optim.Adam(vae.parameters(), lr=args.lr)\n",
    "train_vae(vae, train_loader, val_loader, optimizer, args)"
   ]
  },
  {
   "cell_type": "code",
   "execution_count": 12,
   "metadata": {
    "colab": {
     "base_uri": "https://localhost:8080/",
     "height": 444
    },
    "executionInfo": {
     "elapsed": 1770,
     "status": "ok",
     "timestamp": 1637168817858,
     "user": {
      "displayName": "Pascal Jutras",
      "photoUrl": "https://lh3.googleusercontent.com/a-/AOh14Gh01s2MUuIZEpjZiU7Ln4JxgLvixFsdVV2QUGcJ=s64",
      "userId": "03293336261239430336"
     },
     "user_tz": 300
    },
    "id": "Xwcmmy86b_Oa",
    "outputId": "20a31e95-4e79-429b-c0dd-44434c703ded"
   },
   "outputs": [
    {
     "data": {
      "image/png": "[encoded data removed]",
      "text/plain": [
       "<Figure size 1080x504 with 1 Axes>"
      ]
     },
     "metadata": {
      "needs_background": "light"
     },
     "output_type": "display_data"
    }
   ],
   "source": [
    "# Plot validation and training losses\n",
    "epochs = range(1, args.epochs+1)\n",
    "plt.figure(figsize=(15, 7))\n",
    "plt.title(\"Mean square error (MSE) against the epochs for training and validation sets\")\n",
    "plt.plot(epochs, vae.logs[\"train loss\"], label=\"training\")\n",
    "plt.plot(epochs, vae.logs[\"val loss\"], label=\"validation\")\n",
    "plt.xticks(range(1, args.epochs+1, 2))\n",
    "plt.ylim(0, 100)\n",
    "plt.legend(loc=1)\n",
    "plt.show()"
   ]
  },
  {
   "cell_type": "code",
   "execution_count": 13,
   "metadata": {
    "id": "-ngbzeS8cGz-"
   },
   "outputs": [],
   "source": [
    " torch.save(vae.decoder, \"../Data/VAEdecoder.pt\")"
   ]
  },
  {
   "cell_type": "markdown",
   "metadata": {
    "id": "VvOzt0TcdO8q"
   },
   "source": [
    "**Training of medWGAN-GP**"
   ]
  },
  {
   "cell_type": "code",
   "execution_count": 14,
   "metadata": {
    "id": "qiBauxBQdSQI"
   },
   "outputs": [],
   "source": [
    "# Gans' arguments \n",
    "args = Arguments_gan(epochs=1500,\n",
    "                     input_dim=11,\n",
    "                     hidden_D=(64,),\n",
    "                     hidden_G=(64,),\n",
    "                     lambda_gp=5,\n",
    "                     is_finetuning=True,\n",
    "                     decoder=torch.load(\"../Saved_Models/VAEdecoder.pt\"),\n",
    "                    #  decoder=autoencoder.decoder,\n",
    "                     device=\"cuda\",\n",
    "                     verbose=False)"
   ]
  },
  {
   "cell_type": "code",
   "execution_count": 15,
   "metadata": {
    "colab": {
     "base_uri": "https://localhost:8080/"
    },
    "executionInfo": {
     "elapsed": 8,
     "status": "ok",
     "timestamp": 1637168817859,
     "user": {
      "displayName": "Pascal Jutras",
      "photoUrl": "https://lh3.googleusercontent.com/a-/AOh14Gh01s2MUuIZEpjZiU7Ln4JxgLvixFsdVV2QUGcJ=s64",
      "userId": "03293336261239430336"
     },
     "user_tz": 300
    },
    "id": "Hr-L_9oZeyWU",
    "outputId": "add2f1d5-3d2a-4eaa-ab7d-d6cec1b589c0"
   },
   "outputs": [
    {
     "name": "stdout",
     "output_type": "stream",
     "text": [
      "GAN(\n",
      "  (G): Generator(\n",
      "    (decoder): Decoder(\n",
      "      (input_layer): Linear(in_features=64, out_features=32, bias=True)\n",
      "      (layers): ModuleList()\n",
      "      (output_layer): Linear(in_features=32, out_features=11, bias=True)\n",
      "      (relu): ReLU()\n",
      "    )\n",
      "    (input_layer): Linear(in_features=100, out_features=64, bias=True)\n",
      "    (input_activation): ReLU()\n",
      "    (layers): ModuleList()\n",
      "    (output_layer): Linear(in_features=64, out_features=64, bias=True)\n",
      "    (output_activation): Tanh()\n",
      "  )\n",
      "  (D): Discriminator(\n",
      "    (input_layer): Linear(in_features=11, out_features=64, bias=True)\n",
      "    (input_activation): ReLU()\n",
      "    (layers): ModuleList()\n",
      "    (output_layer): Linear(in_features=64, out_features=1, bias=True)\n",
      "  )\n",
      ")\n"
     ]
    }
   ],
   "source": [
    "# Instanciation\n",
    "gan = GAN(args)\n",
    "gan.to(args.device)\n",
    "print(gan)"
   ]
  },
  {
   "cell_type": "code",
   "execution_count": 16,
   "metadata": {
    "id": "RFCnH7kje36g"
   },
   "outputs": [],
   "source": [
    "# Training \n",
    "optimizer_D = torch.optim.RMSprop(gan.D.parameters(), args.lr)\n",
    "optimizer_G = torch.optim.RMSprop(gan.G.parameters(), args.lr)\n",
    "train_gan(gan, train_loader, optimizer_D, optimizer_G, args)"
   ]
  },
  {
   "cell_type": "code",
   "execution_count": 17,
   "metadata": {
    "colab": {
     "base_uri": "https://localhost:8080/",
     "height": 458
    },
    "executionInfo": {
     "elapsed": 929,
     "status": "ok",
     "timestamp": 1637170331531,
     "user": {
      "displayName": "Pascal Jutras",
      "photoUrl": "https://lh3.googleusercontent.com/a-/AOh14Gh01s2MUuIZEpjZiU7Ln4JxgLvixFsdVV2QUGcJ=s64",
      "userId": "03293336261239430336"
     },
     "user_tz": 300
    },
    "id": "Ii-K1RxAe6wD",
    "outputId": "80ad87c0-a666-4c9a-b9d6-e345263e575a"
   },
   "outputs": [
    {
     "data": {
      "image/png": "[encoded data removed]",
      "text/plain": [
       "<Figure size 1080x504 with 1 Axes>"
      ]
     },
     "metadata": {
      "needs_background": "light"
     },
     "output_type": "display_data"
    }
   ],
   "source": [
    "# Wasserstein distance\n",
    "plt.figure(figsize=(15, 7))\n",
    "plt.title(\"D loss\")\n",
    "plt.xlabel(\"Generator iterations\")\n",
    "plt.ylabel(\"Wasserstein estimate\")\n",
    "plt.plot(gan.logs[\"approx. EM distance\"])\n",
    "plt.show()"
   ]
  },
  {
   "cell_type": "markdown",
   "metadata": {
    "id": "Gg4lFLrNwSU5"
   },
   "source": [
    "**Save and load**"
   ]
  },
  {
   "cell_type": "code",
   "execution_count": 18,
   "metadata": {
    "id": "vlhxJ2ISfOQx"
   },
   "outputs": [],
   "source": [
    " torch.save(gan, \"../Saved_Models/VAE-GAN.pt\")"
   ]
  },
  {
   "cell_type": "code",
   "execution_count": 19,
   "metadata": {
    "id": "55F4VkkGwP8R"
   },
   "outputs": [],
   "source": [
    "gan = torch.load(\"../Saved_Models/VAE-GAN.pt\")"
   ]
  },
  {
   "cell_type": "markdown",
   "metadata": {
    "id": "d3QDrTjK1_4m"
   },
   "source": [
    "**Generate train data**"
   ]
  },
  {
   "cell_type": "code",
   "execution_count": 20,
   "metadata": {
    "id": "Xi0LAyAj2DqF"
   },
   "outputs": [],
   "source": [
    "vaegan_train_df = pd.DataFrame(generate_samples(gan.G, train_df.shape[0], args), columns=train_df.columns)"
   ]
  },
  {
   "cell_type": "code",
   "execution_count": 21,
   "metadata": {
    "id": "tiPAw65x2Ecz"
   },
   "outputs": [],
   "source": [
    "# Domain of train set\n",
    "train_domain = {}\n",
    "for dim in train_df:\n",
    "    train_domain[dim] = np.unique(train_df[dim])"
   ]
  },
  {
   "cell_type": "code",
   "execution_count": 22,
   "metadata": {
    "id": "ya8JXrrB2Ff7"
   },
   "outputs": [],
   "source": [
    "dim_to_project = [\"HINCP\", \"NP\", \"AGEP\", \"RAC1P\", \"ESR\", \"SEX\", \"WIF\", \"HUPAC\", \"HHT\", \"PUMA\", \"ST\"]"
   ]
  },
  {
   "cell_type": "code",
   "execution_count": 23,
   "metadata": {
    "colab": {
     "base_uri": "https://localhost:8080/",
     "height": 424
    },
    "executionInfo": {
     "elapsed": 4809,
     "status": "ok",
     "timestamp": 1637170336758,
     "user": {
      "displayName": "Pascal Jutras",
      "photoUrl": "https://lh3.googleusercontent.com/a-/AOh14Gh01s2MUuIZEpjZiU7Ln4JxgLvixFsdVV2QUGcJ=s64",
      "userId": "03293336261239430336"
     },
     "user_tz": 300
    },
    "id": "XV1avuem2Ggl",
    "outputId": "2258601d-f076-476a-fb4f-197355b21b13"
   },
   "outputs": [
    {
     "data": {
      "text/html": [
       "<div>\n",
       "<style scoped>\n",
       "    .dataframe tbody tr th:only-of-type {\n",
       "        vertical-align: middle;\n",
       "    }\n",
       "\n",
       "    .dataframe tbody tr th {\n",
       "        vertical-align: top;\n",
       "    }\n",
       "\n",
       "    .dataframe thead th {\n",
       "        text-align: right;\n",
       "    }\n",
       "</style>\n",
       "<table border=\"1\" class=\"dataframe\">\n",
       "  <thead>\n",
       "    <tr style=\"text-align: right;\">\n",
       "      <th></th>\n",
       "      <th>HINCP</th>\n",
       "      <th>NP</th>\n",
       "      <th>AGEP</th>\n",
       "      <th>RAC1P</th>\n",
       "      <th>ESR</th>\n",
       "      <th>SEX</th>\n",
       "      <th>WIF</th>\n",
       "      <th>HUPAC</th>\n",
       "      <th>HHT</th>\n",
       "      <th>PUMA</th>\n",
       "      <th>ST</th>\n",
       "    </tr>\n",
       "  </thead>\n",
       "  <tbody>\n",
       "    <tr>\n",
       "      <th>0</th>\n",
       "      <td>3.0</td>\n",
       "      <td>5.0</td>\n",
       "      <td>51.0</td>\n",
       "      <td>9.0</td>\n",
       "      <td>4.0</td>\n",
       "      <td>2.0</td>\n",
       "      <td>3.0</td>\n",
       "      <td>2.0</td>\n",
       "      <td>2.0</td>\n",
       "      <td>1.0</td>\n",
       "      <td>24.0</td>\n",
       "    </tr>\n",
       "    <tr>\n",
       "      <th>1</th>\n",
       "      <td>5.0</td>\n",
       "      <td>3.0</td>\n",
       "      <td>72.0</td>\n",
       "      <td>9.0</td>\n",
       "      <td>6.0</td>\n",
       "      <td>1.0</td>\n",
       "      <td>3.0</td>\n",
       "      <td>4.0</td>\n",
       "      <td>1.0</td>\n",
       "      <td>1.0</td>\n",
       "      <td>24.0</td>\n",
       "    </tr>\n",
       "    <tr>\n",
       "      <th>2</th>\n",
       "      <td>4.0</td>\n",
       "      <td>4.0</td>\n",
       "      <td>46.0</td>\n",
       "      <td>9.0</td>\n",
       "      <td>4.0</td>\n",
       "      <td>2.0</td>\n",
       "      <td>3.0</td>\n",
       "      <td>2.0</td>\n",
       "      <td>2.0</td>\n",
       "      <td>2.0</td>\n",
       "      <td>24.0</td>\n",
       "    </tr>\n",
       "    <tr>\n",
       "      <th>3</th>\n",
       "      <td>3.0</td>\n",
       "      <td>3.0</td>\n",
       "      <td>62.0</td>\n",
       "      <td>9.0</td>\n",
       "      <td>6.0</td>\n",
       "      <td>2.0</td>\n",
       "      <td>2.0</td>\n",
       "      <td>3.0</td>\n",
       "      <td>1.0</td>\n",
       "      <td>1.0</td>\n",
       "      <td>24.0</td>\n",
       "    </tr>\n",
       "    <tr>\n",
       "      <th>4</th>\n",
       "      <td>5.0</td>\n",
       "      <td>4.0</td>\n",
       "      <td>4.0</td>\n",
       "      <td>9.0</td>\n",
       "      <td>0.0</td>\n",
       "      <td>2.0</td>\n",
       "      <td>2.0</td>\n",
       "      <td>3.0</td>\n",
       "      <td>1.0</td>\n",
       "      <td>3.0</td>\n",
       "      <td>24.0</td>\n",
       "    </tr>\n",
       "    <tr>\n",
       "      <th>...</th>\n",
       "      <td>...</td>\n",
       "      <td>...</td>\n",
       "      <td>...</td>\n",
       "      <td>...</td>\n",
       "      <td>...</td>\n",
       "      <td>...</td>\n",
       "      <td>...</td>\n",
       "      <td>...</td>\n",
       "      <td>...</td>\n",
       "      <td>...</td>\n",
       "      <td>...</td>\n",
       "    </tr>\n",
       "    <tr>\n",
       "      <th>13502</th>\n",
       "      <td>5.0</td>\n",
       "      <td>5.0</td>\n",
       "      <td>9.0</td>\n",
       "      <td>9.0</td>\n",
       "      <td>0.0</td>\n",
       "      <td>2.0</td>\n",
       "      <td>4.0</td>\n",
       "      <td>3.0</td>\n",
       "      <td>1.0</td>\n",
       "      <td>1.0</td>\n",
       "      <td>24.0</td>\n",
       "    </tr>\n",
       "    <tr>\n",
       "      <th>13503</th>\n",
       "      <td>6.0</td>\n",
       "      <td>3.0</td>\n",
       "      <td>64.0</td>\n",
       "      <td>9.0</td>\n",
       "      <td>6.0</td>\n",
       "      <td>1.0</td>\n",
       "      <td>3.0</td>\n",
       "      <td>4.0</td>\n",
       "      <td>1.0</td>\n",
       "      <td>3.0</td>\n",
       "      <td>24.0</td>\n",
       "    </tr>\n",
       "    <tr>\n",
       "      <th>13504</th>\n",
       "      <td>4.0</td>\n",
       "      <td>4.0</td>\n",
       "      <td>31.0</td>\n",
       "      <td>8.0</td>\n",
       "      <td>0.0</td>\n",
       "      <td>2.0</td>\n",
       "      <td>3.0</td>\n",
       "      <td>2.0</td>\n",
       "      <td>1.0</td>\n",
       "      <td>2.0</td>\n",
       "      <td>24.0</td>\n",
       "    </tr>\n",
       "    <tr>\n",
       "      <th>13505</th>\n",
       "      <td>2.0</td>\n",
       "      <td>5.0</td>\n",
       "      <td>1.0</td>\n",
       "      <td>9.0</td>\n",
       "      <td>0.0</td>\n",
       "      <td>2.0</td>\n",
       "      <td>2.0</td>\n",
       "      <td>3.0</td>\n",
       "      <td>1.0</td>\n",
       "      <td>2.0</td>\n",
       "      <td>24.0</td>\n",
       "    </tr>\n",
       "    <tr>\n",
       "      <th>13506</th>\n",
       "      <td>4.0</td>\n",
       "      <td>2.0</td>\n",
       "      <td>85.0</td>\n",
       "      <td>9.0</td>\n",
       "      <td>6.0</td>\n",
       "      <td>2.0</td>\n",
       "      <td>1.0</td>\n",
       "      <td>4.0</td>\n",
       "      <td>1.0</td>\n",
       "      <td>1.0</td>\n",
       "      <td>24.0</td>\n",
       "    </tr>\n",
       "  </tbody>\n",
       "</table>\n",
       "<p>13507 rows × 11 columns</p>\n",
       "</div>"
      ],
      "text/plain": [
       "       HINCP   NP  AGEP  RAC1P  ESR  SEX  WIF  HUPAC  HHT  PUMA    ST\n",
       "0        3.0  5.0  51.0    9.0  4.0  2.0  3.0    2.0  2.0   1.0  24.0\n",
       "1        5.0  3.0  72.0    9.0  6.0  1.0  3.0    4.0  1.0   1.0  24.0\n",
       "2        4.0  4.0  46.0    9.0  4.0  2.0  3.0    2.0  2.0   2.0  24.0\n",
       "3        3.0  3.0  62.0    9.0  6.0  2.0  2.0    3.0  1.0   1.0  24.0\n",
       "4        5.0  4.0   4.0    9.0  0.0  2.0  2.0    3.0  1.0   3.0  24.0\n",
       "...      ...  ...   ...    ...  ...  ...  ...    ...  ...   ...   ...\n",
       "13502    5.0  5.0   9.0    9.0  0.0  2.0  4.0    3.0  1.0   1.0  24.0\n",
       "13503    6.0  3.0  64.0    9.0  6.0  1.0  3.0    4.0  1.0   3.0  24.0\n",
       "13504    4.0  4.0  31.0    8.0  0.0  2.0  3.0    2.0  1.0   2.0  24.0\n",
       "13505    2.0  5.0   1.0    9.0  0.0  2.0  2.0    3.0  1.0   2.0  24.0\n",
       "13506    4.0  2.0  85.0    9.0  6.0  2.0  1.0    4.0  1.0   1.0  24.0\n",
       "\n",
       "[13507 rows x 11 columns]"
      ]
     },
     "execution_count": 23,
     "metadata": {},
     "output_type": "execute_result"
    }
   ],
   "source": [
    "# Inplace projection\n",
    "project_samples(vaegan_train_df, dim_to_project, train_domain)"
   ]
  },
  {
   "cell_type": "markdown",
   "metadata": {
    "id": "lMCVh3LyVMBx"
   },
   "source": [
    "**Generate test data**"
   ]
  },
  {
   "cell_type": "code",
   "execution_count": 24,
   "metadata": {
    "id": "TT8IFimDVQPI"
   },
   "outputs": [],
   "source": [
    "vaegan_df = pd.DataFrame(generate_samples(gan.G, test_df.shape[0], args), columns=train_df.columns)"
   ]
  },
  {
   "cell_type": "markdown",
   "metadata": {
    "id": "pY8_FOzI85X0"
   },
   "source": [
    "apply projection on original train domain"
   ]
  },
  {
   "cell_type": "code",
   "execution_count": 25,
   "metadata": {
    "id": "j1ge-ZuF8wJt"
   },
   "outputs": [],
   "source": [
    "# Domain of train set\n",
    "train_domain = {}\n",
    "for dim in train_df:\n",
    "    train_domain[dim] = np.unique(train_df[dim])"
   ]
  },
  {
   "cell_type": "code",
   "execution_count": 26,
   "metadata": {
    "id": "eRKjNVz989DK"
   },
   "outputs": [],
   "source": [
    "dim_to_project = [\"HINCP\", \"NP\", \"AGEP\", \"RAC1P\", \"ESR\", \"SEX\", \"WIF\", \"HUPAC\", \"HHT\", \"PUMA\", \"ST\"]"
   ]
  },
  {
   "cell_type": "code",
   "execution_count": 27,
   "metadata": {
    "colab": {
     "base_uri": "https://localhost:8080/",
     "height": 424
    },
    "executionInfo": {
     "elapsed": 2115,
     "status": "ok",
     "timestamp": 1637170338867,
     "user": {
      "displayName": "Pascal Jutras",
      "photoUrl": "https://lh3.googleusercontent.com/a-/AOh14Gh01s2MUuIZEpjZiU7Ln4JxgLvixFsdVV2QUGcJ=s64",
      "userId": "03293336261239430336"
     },
     "user_tz": 300
    },
    "id": "dUtnhp2r9PR8",
    "outputId": "88a7e9ee-75e6-4ceb-8fe3-ab9b9e818354"
   },
   "outputs": [
    {
     "data": {
      "text/html": [
       "<div>\n",
       "<style scoped>\n",
       "    .dataframe tbody tr th:only-of-type {\n",
       "        vertical-align: middle;\n",
       "    }\n",
       "\n",
       "    .dataframe tbody tr th {\n",
       "        vertical-align: top;\n",
       "    }\n",
       "\n",
       "    .dataframe thead th {\n",
       "        text-align: right;\n",
       "    }\n",
       "</style>\n",
       "<table border=\"1\" class=\"dataframe\">\n",
       "  <thead>\n",
       "    <tr style=\"text-align: right;\">\n",
       "      <th></th>\n",
       "      <th>HINCP</th>\n",
       "      <th>NP</th>\n",
       "      <th>AGEP</th>\n",
       "      <th>RAC1P</th>\n",
       "      <th>ESR</th>\n",
       "      <th>SEX</th>\n",
       "      <th>WIF</th>\n",
       "      <th>HUPAC</th>\n",
       "      <th>HHT</th>\n",
       "      <th>PUMA</th>\n",
       "      <th>ST</th>\n",
       "    </tr>\n",
       "  </thead>\n",
       "  <tbody>\n",
       "    <tr>\n",
       "      <th>0</th>\n",
       "      <td>4.0</td>\n",
       "      <td>4.0</td>\n",
       "      <td>49.0</td>\n",
       "      <td>9.0</td>\n",
       "      <td>3.0</td>\n",
       "      <td>2.0</td>\n",
       "      <td>3.0</td>\n",
       "      <td>3.0</td>\n",
       "      <td>1.0</td>\n",
       "      <td>0.0</td>\n",
       "      <td>24.0</td>\n",
       "    </tr>\n",
       "    <tr>\n",
       "      <th>1</th>\n",
       "      <td>6.0</td>\n",
       "      <td>2.0</td>\n",
       "      <td>49.0</td>\n",
       "      <td>9.0</td>\n",
       "      <td>0.0</td>\n",
       "      <td>2.0</td>\n",
       "      <td>3.0</td>\n",
       "      <td>3.0</td>\n",
       "      <td>1.0</td>\n",
       "      <td>2.0</td>\n",
       "      <td>24.0</td>\n",
       "    </tr>\n",
       "    <tr>\n",
       "      <th>2</th>\n",
       "      <td>4.0</td>\n",
       "      <td>4.0</td>\n",
       "      <td>53.0</td>\n",
       "      <td>9.0</td>\n",
       "      <td>6.0</td>\n",
       "      <td>2.0</td>\n",
       "      <td>2.0</td>\n",
       "      <td>3.0</td>\n",
       "      <td>1.0</td>\n",
       "      <td>2.0</td>\n",
       "      <td>24.0</td>\n",
       "    </tr>\n",
       "    <tr>\n",
       "      <th>3</th>\n",
       "      <td>5.0</td>\n",
       "      <td>3.0</td>\n",
       "      <td>74.0</td>\n",
       "      <td>9.0</td>\n",
       "      <td>6.0</td>\n",
       "      <td>2.0</td>\n",
       "      <td>2.0</td>\n",
       "      <td>4.0</td>\n",
       "      <td>1.0</td>\n",
       "      <td>1.0</td>\n",
       "      <td>24.0</td>\n",
       "    </tr>\n",
       "    <tr>\n",
       "      <th>4</th>\n",
       "      <td>3.0</td>\n",
       "      <td>3.0</td>\n",
       "      <td>55.0</td>\n",
       "      <td>8.0</td>\n",
       "      <td>6.0</td>\n",
       "      <td>2.0</td>\n",
       "      <td>1.0</td>\n",
       "      <td>3.0</td>\n",
       "      <td>2.0</td>\n",
       "      <td>1.0</td>\n",
       "      <td>24.0</td>\n",
       "    </tr>\n",
       "    <tr>\n",
       "      <th>...</th>\n",
       "      <td>...</td>\n",
       "      <td>...</td>\n",
       "      <td>...</td>\n",
       "      <td>...</td>\n",
       "      <td>...</td>\n",
       "      <td>...</td>\n",
       "      <td>...</td>\n",
       "      <td>...</td>\n",
       "      <td>...</td>\n",
       "      <td>...</td>\n",
       "      <td>...</td>\n",
       "    </tr>\n",
       "    <tr>\n",
       "      <th>5785</th>\n",
       "      <td>3.0</td>\n",
       "      <td>3.0</td>\n",
       "      <td>33.0</td>\n",
       "      <td>9.0</td>\n",
       "      <td>0.0</td>\n",
       "      <td>2.0</td>\n",
       "      <td>3.0</td>\n",
       "      <td>3.0</td>\n",
       "      <td>2.0</td>\n",
       "      <td>2.0</td>\n",
       "      <td>24.0</td>\n",
       "    </tr>\n",
       "    <tr>\n",
       "      <th>5786</th>\n",
       "      <td>4.0</td>\n",
       "      <td>5.0</td>\n",
       "      <td>51.0</td>\n",
       "      <td>9.0</td>\n",
       "      <td>0.0</td>\n",
       "      <td>1.0</td>\n",
       "      <td>4.0</td>\n",
       "      <td>1.0</td>\n",
       "      <td>3.0</td>\n",
       "      <td>3.0</td>\n",
       "      <td>24.0</td>\n",
       "    </tr>\n",
       "    <tr>\n",
       "      <th>5787</th>\n",
       "      <td>6.0</td>\n",
       "      <td>2.0</td>\n",
       "      <td>57.0</td>\n",
       "      <td>9.0</td>\n",
       "      <td>0.0</td>\n",
       "      <td>1.0</td>\n",
       "      <td>4.0</td>\n",
       "      <td>4.0</td>\n",
       "      <td>2.0</td>\n",
       "      <td>3.0</td>\n",
       "      <td>24.0</td>\n",
       "    </tr>\n",
       "    <tr>\n",
       "      <th>5788</th>\n",
       "      <td>3.0</td>\n",
       "      <td>4.0</td>\n",
       "      <td>20.0</td>\n",
       "      <td>9.0</td>\n",
       "      <td>0.0</td>\n",
       "      <td>2.0</td>\n",
       "      <td>3.0</td>\n",
       "      <td>2.0</td>\n",
       "      <td>1.0</td>\n",
       "      <td>2.0</td>\n",
       "      <td>24.0</td>\n",
       "    </tr>\n",
       "    <tr>\n",
       "      <th>5789</th>\n",
       "      <td>6.0</td>\n",
       "      <td>3.0</td>\n",
       "      <td>22.0</td>\n",
       "      <td>9.0</td>\n",
       "      <td>1.0</td>\n",
       "      <td>2.0</td>\n",
       "      <td>2.0</td>\n",
       "      <td>4.0</td>\n",
       "      <td>1.0</td>\n",
       "      <td>1.0</td>\n",
       "      <td>24.0</td>\n",
       "    </tr>\n",
       "  </tbody>\n",
       "</table>\n",
       "<p>5790 rows × 11 columns</p>\n",
       "</div>"
      ],
      "text/plain": [
       "      HINCP   NP  AGEP  RAC1P  ESR  SEX  WIF  HUPAC  HHT  PUMA    ST\n",
       "0       4.0  4.0  49.0    9.0  3.0  2.0  3.0    3.0  1.0   0.0  24.0\n",
       "1       6.0  2.0  49.0    9.0  0.0  2.0  3.0    3.0  1.0   2.0  24.0\n",
       "2       4.0  4.0  53.0    9.0  6.0  2.0  2.0    3.0  1.0   2.0  24.0\n",
       "3       5.0  3.0  74.0    9.0  6.0  2.0  2.0    4.0  1.0   1.0  24.0\n",
       "4       3.0  3.0  55.0    8.0  6.0  2.0  1.0    3.0  2.0   1.0  24.0\n",
       "...     ...  ...   ...    ...  ...  ...  ...    ...  ...   ...   ...\n",
       "5785    3.0  3.0  33.0    9.0  0.0  2.0  3.0    3.0  2.0   2.0  24.0\n",
       "5786    4.0  5.0  51.0    9.0  0.0  1.0  4.0    1.0  3.0   3.0  24.0\n",
       "5787    6.0  2.0  57.0    9.0  0.0  1.0  4.0    4.0  2.0   3.0  24.0\n",
       "5788    3.0  4.0  20.0    9.0  0.0  2.0  3.0    2.0  1.0   2.0  24.0\n",
       "5789    6.0  3.0  22.0    9.0  1.0  2.0  2.0    4.0  1.0   1.0  24.0\n",
       "\n",
       "[5790 rows x 11 columns]"
      ]
     },
     "execution_count": 27,
     "metadata": {},
     "output_type": "execute_result"
    }
   ],
   "source": [
    "# Inplace projection\n",
    "project_samples(vaegan_df, dim_to_project, train_domain)"
   ]
  },
  {
   "cell_type": "markdown",
   "metadata": {
    "id": "FhCjKktOP6nT"
   },
   "source": [
    "**Visualization of the marginals**"
   ]
  },
  {
   "cell_type": "code",
   "execution_count": 28,
   "metadata": {
    "colab": {
     "base_uri": "https://localhost:8080/",
     "height": 501
    },
    "executionInfo": {
     "elapsed": 3006,
     "status": "ok",
     "timestamp": 1637170341870,
     "user": {
      "displayName": "Pascal Jutras",
      "photoUrl": "https://lh3.googleusercontent.com/a-/AOh14Gh01s2MUuIZEpjZiU7Ln4JxgLvixFsdVV2QUGcJ=s64",
      "userId": "03293336261239430336"
     },
     "user_tz": 300
    },
    "id": "qMkhHlyOQH4B",
    "outputId": "8e997708-2932-4ef1-eb02-2bd96416a504"
   },
   "outputs": [
    {
     "name": "stderr",
     "output_type": "stream",
     "text": [
      "C:\\Users\\yzc97\\anaconda3\\lib\\site-packages\\seaborn\\distributions.py:2557: FutureWarning: `distplot` is a deprecated function and will be removed in a future version. Please adapt your code to use either `displot` (a figure-level function with similar flexibility) or `histplot` (an axes-level function for histograms).\n",
      "  warnings.warn(msg, FutureWarning)\n"
     ]
    },
    {
     "data": {
      "image/png": "[encoded data removed]",
      "text/plain": [
       "<Figure size 1440x504 with 10 Axes>"
      ]
     },
     "metadata": {
      "needs_background": "light"
     },
     "output_type": "display_data"
    }
   ],
   "source": [
    "fig, ax = plt.subplots(2, 5, figsize=(20, 7))\n",
    "k = 0\n",
    "col = train_df.columns\n",
    "for i in range(2):\n",
    "  for j in range(5):\n",
    "    sns.distplot(test_df[col[k]], kde=False, ax=ax[i, j])\n",
    "    sns.distplot(vaegan_df[col[k]], kde=False, ax=ax[i, j])\n",
    "    k += 1\n",
    "plt.show()"
   ]
  },
  {
   "cell_type": "markdown",
   "metadata": {
    "id": "83VdIzG3fXNz"
   },
   "source": [
    "**Single column metrics**"
   ]
  },
  {
   "cell_type": "code",
   "execution_count": 29,
   "metadata": {
    "id": "5vT6zNchX1s4"
   },
   "outputs": [],
   "source": [
    "from sdmetrics.single_column.statistical.cstest import CSTest"
   ]
  },
  {
   "cell_type": "code",
   "execution_count": 30,
   "metadata": {
    "colab": {
     "base_uri": "https://localhost:8080/"
    },
    "executionInfo": {
     "elapsed": 20,
     "status": "ok",
     "timestamp": 1637170344173,
     "user": {
      "displayName": "Pascal Jutras",
      "photoUrl": "https://lh3.googleusercontent.com/a-/AOh14Gh01s2MUuIZEpjZiU7Ln4JxgLvixFsdVV2QUGcJ=s64",
      "userId": "03293336261239430336"
     },
     "user_tz": 300
    },
    "id": "Fet1dUn8Yd8k",
    "outputId": "23beeb9c-6143-43b3-de59-42b2d7e643e7"
   },
   "outputs": [
    {
     "name": "stdout",
     "output_type": "stream",
     "text": [
      "Chi-Squared \n",
      "min=0.0, max=1.0\n",
      "Goal=Goal.MAXIMIZE\n",
      "\n",
      "HINCP \t 0.99\n",
      "NP \t 1.00\n",
      "AGEP \t 1.00\n",
      "RAC1P \t 0.00\n",
      "ESR \t 0.93\n",
      "SEX \t 0.55\n",
      "WIF \t 1.00\n",
      "HUPAC \t 0.92\n",
      "HHT \t 0.77\n",
      "PUMA \t 0.94\n",
      "ST \t 1.00\n"
     ]
    }
   ],
   "source": [
    "cs_test = CSTest()\n",
    "print(f\"{cs_test.name} \\nmin={cs_test.min_value}, max={cs_test.max_value}\\nGoal={cs_test.goal}\\n\")\n",
    "for col in test_df.columns:\n",
    "    print(f\"{col} \\t {cs_test.compute(test_df[col], vaegan_df[col]):.2f}\")"
   ]
  },
  {
   "cell_type": "markdown",
   "metadata": {
    "id": "mLc7SRjfdyU4"
   },
   "source": [
    "**Detection metric**\n"
   ]
  },
  {
   "cell_type": "code",
   "execution_count": 31,
   "metadata": {
    "id": "yZG2h9YzhyoJ"
   },
   "outputs": [],
   "source": [
    "from sdmetrics.single_table.detection.sklearn import LogisticDetection"
   ]
  },
  {
   "cell_type": "code",
   "execution_count": 32,
   "metadata": {
    "colab": {
     "base_uri": "https://localhost:8080/"
    },
    "executionInfo": {
     "elapsed": 18,
     "status": "ok",
     "timestamp": 1637170344175,
     "user": {
      "displayName": "Pascal Jutras",
      "photoUrl": "https://lh3.googleusercontent.com/a-/AOh14Gh01s2MUuIZEpjZiU7Ln4JxgLvixFsdVV2QUGcJ=s64",
      "userId": "03293336261239430336"
     },
     "user_tz": 300
    },
    "id": "26c8sOTYeRZy",
    "outputId": "4a105d98-d747-4a47-a348-86ead3852f85"
   },
   "outputs": [
    {
     "name": "stdout",
     "output_type": "stream",
     "text": [
      "LogisticRegression Detection \n",
      "min=0.0, max=1.0\n",
      "Goal=Goal.MAXIMIZE\n",
      "\n",
      "0.010667221491404866\n"
     ]
    }
   ],
   "source": [
    "logisticDetection = LogisticDetection()\n",
    "print(f\"{logisticDetection.name} \\nmin={logisticDetection.min_value}, max={logisticDetection.max_value}\\nGoal={logisticDetection.goal}\\n\")\n",
    "print(logisticDetection.compute(test_df, vaegan_df))"
   ]
  },
  {
   "cell_type": "markdown",
   "metadata": {
    "id": "gRTRQBkLtZ8P"
   },
   "source": [
    "**Dimension-wise prediction**\n"
   ]
  },
  {
   "cell_type": "code",
   "execution_count": 33,
   "metadata": {
    "colab": {
     "base_uri": "https://localhost:8080/"
    },
    "executionInfo": {
     "elapsed": 291826,
     "status": "ok",
     "timestamp": 1637170635987,
     "user": {
      "displayName": "Pascal Jutras",
      "photoUrl": "https://lh3.googleusercontent.com/a-/AOh14Gh01s2MUuIZEpjZiU7Ln4JxgLvixFsdVV2QUGcJ=s64",
      "userId": "03293336261239430336"
     },
     "user_tz": 300
    },
    "id": "eVkqgLJlsxcw",
    "outputId": "9c3914c8-2ff9-47f6-8430-cfddb30fd921"
   },
   "outputs": [
    {
     "name": "stdout",
     "output_type": "stream",
     "text": [
      "Dimension-wise prediction (DWP)\n",
      "min=0.0, max=1.0\n",
      "Goal=Maximize\n"
     ]
    },
    {
     "name": "stderr",
     "output_type": "stream",
     "text": [
      "C:\\Users\\yzc97\\anaconda3\\lib\\site-packages\\sklearn\\linear_model\\_logistic.py:763: ConvergenceWarning: lbfgs failed to converge (status=1):\n",
      "STOP: TOTAL NO. of ITERATIONS REACHED LIMIT.\n",
      "\n",
      "Increase the number of iterations (max_iter) or scale the data as shown in:\n",
      "    https://scikit-learn.org/stable/modules/preprocessing.html\n",
      "Please also refer to the documentation for alternative solver options:\n",
      "    https://scikit-learn.org/stable/modules/linear_model.html#logistic-regression\n",
      "  n_iter_i = _check_optimize_result(\n",
      "C:\\Users\\yzc97\\anaconda3\\lib\\site-packages\\sklearn\\linear_model\\_logistic.py:763: ConvergenceWarning: lbfgs failed to converge (status=1):\n",
      "STOP: TOTAL NO. of ITERATIONS REACHED LIMIT.\n",
      "\n",
      "Increase the number of iterations (max_iter) or scale the data as shown in:\n",
      "    https://scikit-learn.org/stable/modules/preprocessing.html\n",
      "Please also refer to the documentation for alternative solver options:\n",
      "    https://scikit-learn.org/stable/modules/linear_model.html#logistic-regression\n",
      "  n_iter_i = _check_optimize_result(\n",
      "C:\\Users\\yzc97\\anaconda3\\lib\\site-packages\\sklearn\\linear_model\\_logistic.py:763: ConvergenceWarning: lbfgs failed to converge (status=1):\n",
      "STOP: TOTAL NO. of ITERATIONS REACHED LIMIT.\n",
      "\n",
      "Increase the number of iterations (max_iter) or scale the data as shown in:\n",
      "    https://scikit-learn.org/stable/modules/preprocessing.html\n",
      "Please also refer to the documentation for alternative solver options:\n",
      "    https://scikit-learn.org/stable/modules/linear_model.html#logistic-regression\n",
      "  n_iter_i = _check_optimize_result(\n",
      "C:\\Users\\yzc97\\anaconda3\\lib\\site-packages\\sklearn\\linear_model\\_logistic.py:763: ConvergenceWarning: lbfgs failed to converge (status=1):\n",
      "STOP: TOTAL NO. of ITERATIONS REACHED LIMIT.\n",
      "\n",
      "Increase the number of iterations (max_iter) or scale the data as shown in:\n",
      "    https://scikit-learn.org/stable/modules/preprocessing.html\n",
      "Please also refer to the documentation for alternative solver options:\n",
      "    https://scikit-learn.org/stable/modules/linear_model.html#logistic-regression\n",
      "  n_iter_i = _check_optimize_result(\n",
      "C:\\Users\\yzc97\\anaconda3\\lib\\site-packages\\sklearn\\linear_model\\_logistic.py:763: ConvergenceWarning: lbfgs failed to converge (status=1):\n",
      "STOP: TOTAL NO. of ITERATIONS REACHED LIMIT.\n",
      "\n",
      "Increase the number of iterations (max_iter) or scale the data as shown in:\n",
      "    https://scikit-learn.org/stable/modules/preprocessing.html\n",
      "Please also refer to the documentation for alternative solver options:\n",
      "    https://scikit-learn.org/stable/modules/linear_model.html#logistic-regression\n",
      "  n_iter_i = _check_optimize_result(\n"
     ]
    },
    {
     "name": "stdout",
     "output_type": "stream",
     "text": [
      "\n",
      "\n",
      "label=HINCP\n",
      "Real=0.32, Synthetic=0.28\n",
      "label=NP\n",
      "Real=0.41, Synthetic=0.26\n",
      "label=AGEP\n",
      "Real=0.04, Synthetic=0.00\n",
      "label=RAC1P\n",
      "Real=0.72, Synthetic=0.00\n",
      "label=ESR\n",
      "Real=0.80, Synthetic=0.12\n",
      "label=SEX\n",
      "Real=0.54, Synthetic=0.50\n",
      "label=WIF\n",
      "Real=0.56, Synthetic=0.31\n",
      "label=HUPAC\n",
      "Real=0.64, Synthetic=0.05\n",
      "label=HHT\n",
      "Real=0.76, Synthetic=0.51\n",
      "label=PUMA\n",
      "Real=0.33, Synthetic=0.17\n"
     ]
    }
   ],
   "source": [
    "print(\"Dimension-wise prediction (DWP)\")\n",
    "print(\"min=0.0, max=1.0\\nGoal=Maximize\")\n",
    "score_real = {}\n",
    "score_synthetic = {}\n",
    "for col in test_df.columns:\n",
    "    if col == \"ST\":\n",
    "        continue\n",
    "    score_real[col] = DWP(train_df, test_df, col)\n",
    "    try:\n",
    "        score_synthetic[col] = DWP(vaegan_train_df, test_df, col)\n",
    "    except:\n",
    "        score_synthetic[col] = np.NAN\n",
    "print(\"\\n\")\n",
    "for col in test_df.columns:\n",
    "    if col == \"ST\":\n",
    "        continue\n",
    "    print(f\"label={col}\\nReal={score_real[col]:.2f}, Synthetic={score_synthetic[col]:.2f}\")"
   ]
  },
  {
   "cell_type": "markdown",
   "metadata": {
    "id": "177SfkfcY_mh"
   },
   "source": [
    "**Sampling zeros**"
   ]
  },
  {
   "cell_type": "code",
   "execution_count": 34,
   "metadata": {
    "colab": {
     "base_uri": "https://localhost:8080/"
    },
    "executionInfo": {
     "elapsed": 12,
     "status": "ok",
     "timestamp": 1637170635987,
     "user": {
      "displayName": "Pascal Jutras",
      "photoUrl": "https://lh3.googleusercontent.com/a-/AOh14Gh01s2MUuIZEpjZiU7Ln4JxgLvixFsdVV2QUGcJ=s64",
      "userId": "03293336261239430336"
     },
     "user_tz": 300
    },
    "id": "-YMXBsHrZHrY",
    "outputId": "72c15d7a-3cae-401c-9fff-b4ee7104556e"
   },
   "outputs": [
    {
     "name": "stdout",
     "output_type": "stream",
     "text": [
      "3 sampling zeros on 13507 synthetic samples\n"
     ]
    }
   ],
   "source": [
    "s_z = sampling_zeros(train_df, test_df, vaegan_train_df)\n",
    "print(f\"{s_z} sampling zeros on {vaegan_train_df.shape[0]} synthetic samples\")"
   ]
  },
  {
   "cell_type": "markdown",
   "metadata": {
    "id": "YfuTXIwrQAkd"
   },
   "source": [
    "## IPF\n"
   ]
  },
  {
   "cell_type": "markdown",
   "metadata": {
    "id": "H35o1iUWbMxA"
   },
   "source": [
    "\n",
    "The IPF based techniques involve two step process. In the fitting step, a Contingency Table (CT) is fitted to the available marginals. PUMS is used to initialize the CT. The underlying assumption here is that the sample represents the true correlation structure among the attributes. The second step of IPF based techniques involves creating the synthetic population using the fitted CT. This is done by cloning/replication of the sample, based on cell weights. The fractions are incorporated in the synthetic population using Inverse Transform Sampling in a Monte Carlo simulation\n",
    "\n",
    "Unlike GAN and Gibbs, we don't assume that the PUMA sample represents the thue distribution. How to evaluate IPF accordingly?"
   ]
  },
  {
   "cell_type": "code",
   "execution_count": null,
   "metadata": {
    "id": "H1CZ-QT6QCWp"
   },
   "outputs": [],
   "source": [
    "# Generated data \n",
    "ipf_df = pd.read_csv(\"/content/gdrive/MyDrive/Maryland/data/IPFAllVariables.csv\")\n"
   ]
  },
  {
   "cell_type": "markdown",
   "metadata": {
    "id": "7KVM8aVsHqHc"
   },
   "source": [
    "**Unique samples**"
   ]
  },
  {
   "cell_type": "code",
   "execution_count": null,
   "metadata": {
    "id": "NvvqjYBydNPw"
   },
   "outputs": [],
   "source": [
    "puma1201 = pd.concat([train_df[train_df[\"PUMA\"] == 0], test_df[test_df[\"PUMA\"] == 0]])\n",
    "puma1201.drop([\"PUMA\", \"ST\"], axis=1, inplace=True)"
   ]
  },
  {
   "cell_type": "code",
   "execution_count": null,
   "metadata": {
    "colab": {
     "base_uri": "https://localhost:8080/"
    },
    "executionInfo": {
     "elapsed": 11,
     "status": "ok",
     "timestamp": 1637170638217,
     "user": {
      "displayName": "Pascal Jutras",
      "photoUrl": "https://lh3.googleusercontent.com/a-/AOh14Gh01s2MUuIZEpjZiU7Ln4JxgLvixFsdVV2QUGcJ=s64",
      "userId": "03293336261239430336"
     },
     "user_tz": 300
    },
    "id": "sPSt8S-HiTyW",
    "outputId": "d59aa3c3-aac5-47c3-ab13-2e507f9b7edd"
   },
   "outputs": [
    {
     "name": "stdout",
     "output_type": "stream",
     "text": [
      "4880\n"
     ]
    }
   ],
   "source": [
    "uniques_1201 = puma1201.groupby(puma1201.columns.tolist(),as_index=False).size()\n",
    "print(uniques_1201.shape[0])"
   ]
  },
  {
   "cell_type": "code",
   "execution_count": null,
   "metadata": {
    "colab": {
     "base_uri": "https://localhost:8080/"
    },
    "executionInfo": {
     "elapsed": 7,
     "status": "ok",
     "timestamp": 1637170638218,
     "user": {
      "displayName": "Pascal Jutras",
      "photoUrl": "https://lh3.googleusercontent.com/a-/AOh14Gh01s2MUuIZEpjZiU7Ln4JxgLvixFsdVV2QUGcJ=s64",
      "userId": "03293336261239430336"
     },
     "user_tz": 300
    },
    "id": "Qy2T084HYwFC",
    "outputId": "6aa65e00-896e-43b6-879b-6571567034ed"
   },
   "outputs": [
    {
     "name": "stdout",
     "output_type": "stream",
     "text": [
      "4492 unique samples on 174187 samples (0.026%)\n"
     ]
    }
   ],
   "source": [
    "uniques = ipf_df.groupby(ipf_df.columns.tolist(),as_index=False).size()\n",
    "print(f\"{uniques.shape[0]} unique samples on {ipf_df.shape[0]} samples ({uniques.shape[0]/ipf_df.shape[0]:.3f}%)\")"
   ]
  },
  {
   "cell_type": "markdown",
   "metadata": {
    "id": "TKtJPDVsLOQg"
   },
   "source": [
    "**Intersection with 1201**"
   ]
  },
  {
   "cell_type": "code",
   "execution_count": null,
   "metadata": {
    "colab": {
     "base_uri": "https://localhost:8080/"
    },
    "executionInfo": {
     "elapsed": 5,
     "status": "ok",
     "timestamp": 1637170638218,
     "user": {
      "displayName": "Pascal Jutras",
      "photoUrl": "https://lh3.googleusercontent.com/a-/AOh14Gh01s2MUuIZEpjZiU7Ln4JxgLvixFsdVV2QUGcJ=s64",
      "userId": "03293336261239430336"
     },
     "user_tz": 300
    },
    "id": "COnN2P9fLCx3",
    "outputId": "3736d4af-dc49-4769-94ab-f9c21ac8bb50"
   },
   "outputs": [
    {
     "name": "stdout",
     "output_type": "stream",
     "text": [
      "383 samples in the intersection of the synthetic population and the original population\n",
      "for 5778 samples in the original population\n"
     ]
    }
   ],
   "source": [
    "print(f\"{pd.merge(puma1201, uniques, how='inner').shape[0]} samples in the intersection of the synthetic population and the original population\")\n",
    "print(f\"for {puma1201.shape[0]} samples in the original population\")"
   ]
  },
  {
   "cell_type": "markdown",
   "metadata": {
    "id": "R2zH4LTnUdps"
   },
   "source": [
    "**Vizualisation of the marginals**"
   ]
  },
  {
   "cell_type": "code",
   "execution_count": null,
   "metadata": {
    "id": "5eZJeJwpYJhm"
   },
   "outputs": [],
   "source": [
    "ipf_df = ipf_df.sample(n=test_df.shape[0], random_state=42, axis=0)"
   ]
  },
  {
   "cell_type": "code",
   "execution_count": null,
   "metadata": {
    "colab": {
     "base_uri": "https://localhost:8080/"
    },
    "executionInfo": {
     "elapsed": 2953,
     "status": "ok",
     "timestamp": 1637170641167,
     "user": {
      "displayName": "Pascal Jutras",
      "photoUrl": "https://lh3.googleusercontent.com/a-/AOh14Gh01s2MUuIZEpjZiU7Ln4JxgLvixFsdVV2QUGcJ=s64",
      "userId": "03293336261239430336"
     },
     "user_tz": 300
    },
    "id": "TDTdcY4VUWtz",
    "outputId": "1d10aa3e-e6f2-4fcb-844f-378184a3dcfe"
   },
   "outputs": [
    {
     "name": "stderr",
     "output_type": "stream",
     "text": [
      "/usr/local/lib/python3.7/dist-packages/seaborn/distributions.py:2619: FutureWarning: `distplot` is a deprecated function and will be removed in a future version. Please adapt your code to use either `displot` (a figure-level function with similar flexibility) or `histplot` (an axes-level function for histograms).\n",
      "  warnings.warn(msg, FutureWarning)\n"
     ]
    },
    {
     "data": {
      "image/png": "[encoded data removed]",
      "text/plain": [
       "<Figure size 1440x504 with 10 Axes>"
      ]
     },
     "metadata": {
      "needs_background": "light"
     },
     "output_type": "display_data"
    }
   ],
   "source": [
    "fig, ax = plt.subplots(2, 5, figsize=(20, 7))\n",
    "k = 0\n",
    "col = train_df.columns\n",
    "for i in range(2):\n",
    "  for j in range(5):\n",
    "    if col[k] == \"PUMA\": \n",
    "        break\n",
    "    sns.distplot(test_df[col[k]], kde=False, ax=ax[i, j])\n",
    "    sns.distplot(ipf_df[col[k]], kde=False, ax=ax[i, j])\n",
    "    k += 1\n",
    "plt.show()"
   ]
  },
  {
   "cell_type": "markdown",
   "metadata": {
    "id": "S1muAP2-Vu-s"
   },
   "source": [
    "**$\\chi^2$ test**"
   ]
  },
  {
   "cell_type": "code",
   "execution_count": null,
   "metadata": {
    "colab": {
     "base_uri": "https://localhost:8080/"
    },
    "executionInfo": {
     "elapsed": 6,
     "status": "ok",
     "timestamp": 1637170641168,
     "user": {
      "displayName": "Pascal Jutras",
      "photoUrl": "https://lh3.googleusercontent.com/a-/AOh14Gh01s2MUuIZEpjZiU7Ln4JxgLvixFsdVV2QUGcJ=s64",
      "userId": "03293336261239430336"
     },
     "user_tz": 300
    },
    "id": "YTr17-WsV-fH",
    "outputId": "37d2223d-c2cf-4d42-88e6-22b082f1507c"
   },
   "outputs": [
    {
     "name": "stdout",
     "output_type": "stream",
     "text": [
      "Chi-Squared \n",
      "min=0.0, max=1.0\n",
      "Goal=Goal.MAXIMIZE\n",
      "\n",
      "HINCP \t 0.00\n",
      "NP \t 1.00\n",
      "AGEP \t 1.00\n",
      "RAC1P \t 1.00\n",
      "ESR \t 1.00\n",
      "SEX \t 0.99\n",
      "WIF \t 0.00\n",
      "HUPAC \t 1.00\n",
      "HHT \t 0.99\n"
     ]
    },
    {
     "name": "stderr",
     "output_type": "stream",
     "text": [
      "/usr/local/lib/python3.7/dist-packages/sdmetrics/utils.py:62: UserWarning: Unexpected value 1 in synthetic data.\n",
      "  warnings.warn(f'Unexpected value {value} in synthetic data.')\n",
      "/usr/local/lib/python3.7/dist-packages/sdmetrics/utils.py:62: UserWarning: Unexpected value 0 in synthetic data.\n",
      "  warnings.warn(f'Unexpected value {value} in synthetic data.')\n"
     ]
    }
   ],
   "source": [
    "cs_test = CSTest()\n",
    "print(f\"{cs_test.name} \\nmin={cs_test.min_value}, max={cs_test.max_value}\\nGoal={cs_test.goal}\\n\")\n",
    "for col in ipf_df.columns:\n",
    "    print(f\"{col} \\t {cs_test.compute(test_df[col], ipf_df[col]):.2f}\")"
   ]
  },
  {
   "cell_type": "markdown",
   "metadata": {
    "id": "5unGsuM4XxZh"
   },
   "source": [
    "**Detection metric**"
   ]
  },
  {
   "cell_type": "code",
   "execution_count": null,
   "metadata": {
    "colab": {
     "base_uri": "https://localhost:8080/"
    },
    "executionInfo": {
     "elapsed": 4,
     "status": "ok",
     "timestamp": 1637170641168,
     "user": {
      "displayName": "Pascal Jutras",
      "photoUrl": "https://lh3.googleusercontent.com/a-/AOh14Gh01s2MUuIZEpjZiU7Ln4JxgLvixFsdVV2QUGcJ=s64",
      "userId": "03293336261239430336"
     },
     "user_tz": 300
    },
    "id": "wseagI6FX2ls",
    "outputId": "bcce9ecc-cb04-44d4-beb0-d6c4f813b373"
   },
   "outputs": [
    {
     "name": "stdout",
     "output_type": "stream",
     "text": [
      "LogisticRegression Detection \n",
      "min=0.0, max=1.0\n",
      "Goal=Goal.MAXIMIZE\n",
      "\n",
      "0.3710102284625091\n"
     ]
    }
   ],
   "source": [
    "logisticDetection = LogisticDetection()\n",
    "print(f\"{logisticDetection.name} \\nmin={logisticDetection.min_value}, max={logisticDetection.max_value}\\nGoal={logisticDetection.goal}\\n\")\n",
    "print(logisticDetection.compute(test_df.drop([\"PUMA\", \"ST\"], axis=1), ipf_df))"
   ]
  },
  {
   "cell_type": "markdown",
   "metadata": {
    "id": "ftOvHgDx_JnK"
   },
   "source": [
    "**DWP**"
   ]
  },
  {
   "cell_type": "markdown",
   "metadata": {
    "id": "QDdGlsS6ApWB"
   },
   "source": [
    "We need to be carefull! We should only show the training data to IPF when training... TODO "
   ]
  },
  {
   "cell_type": "code",
   "execution_count": null,
   "metadata": {
    "colab": {
     "base_uri": "https://localhost:8080/"
    },
    "executionInfo": {
     "elapsed": 249809,
     "status": "ok",
     "timestamp": 1637170890974,
     "user": {
      "displayName": "Pascal Jutras",
      "photoUrl": "https://lh3.googleusercontent.com/a-/AOh14Gh01s2MUuIZEpjZiU7Ln4JxgLvixFsdVV2QUGcJ=s64",
      "userId": "03293336261239430336"
     },
     "user_tz": 300
    },
    "id": "JP88AVj__I6n",
    "outputId": "9b1b5a4f-897f-4e33-a2fa-0755b108d9f5"
   },
   "outputs": [
    {
     "name": "stdout",
     "output_type": "stream",
     "text": [
      "Dimension-wise prediction (DWP)\n",
      "min=0.0, max=1.0\n",
      "Goal=Maximize\n"
     ]
    },
    {
     "name": "stderr",
     "output_type": "stream",
     "text": [
      "/usr/local/lib/python3.7/dist-packages/sklearn/linear_model/_logistic.py:818: ConvergenceWarning: lbfgs failed to converge (status=1):\n",
      "STOP: TOTAL NO. of ITERATIONS REACHED LIMIT.\n",
      "\n",
      "Increase the number of iterations (max_iter) or scale the data as shown in:\n",
      "    https://scikit-learn.org/stable/modules/preprocessing.html\n",
      "Please also refer to the documentation for alternative solver options:\n",
      "    https://scikit-learn.org/stable/modules/linear_model.html#logistic-regression\n",
      "  extra_warning_msg=_LOGISTIC_SOLVER_CONVERGENCE_MSG,\n",
      "/usr/local/lib/python3.7/dist-packages/sklearn/linear_model/_logistic.py:818: ConvergenceWarning: lbfgs failed to converge (status=1):\n",
      "STOP: TOTAL NO. of ITERATIONS REACHED LIMIT.\n",
      "\n",
      "Increase the number of iterations (max_iter) or scale the data as shown in:\n",
      "    https://scikit-learn.org/stable/modules/preprocessing.html\n",
      "Please also refer to the documentation for alternative solver options:\n",
      "    https://scikit-learn.org/stable/modules/linear_model.html#logistic-regression\n",
      "  extra_warning_msg=_LOGISTIC_SOLVER_CONVERGENCE_MSG,\n",
      "/usr/local/lib/python3.7/dist-packages/sklearn/linear_model/_logistic.py:818: ConvergenceWarning: lbfgs failed to converge (status=1):\n",
      "STOP: TOTAL NO. of ITERATIONS REACHED LIMIT.\n",
      "\n",
      "Increase the number of iterations (max_iter) or scale the data as shown in:\n",
      "    https://scikit-learn.org/stable/modules/preprocessing.html\n",
      "Please also refer to the documentation for alternative solver options:\n",
      "    https://scikit-learn.org/stable/modules/linear_model.html#logistic-regression\n",
      "  extra_warning_msg=_LOGISTIC_SOLVER_CONVERGENCE_MSG,\n",
      "/usr/local/lib/python3.7/dist-packages/sklearn/linear_model/_logistic.py:818: ConvergenceWarning: lbfgs failed to converge (status=1):\n",
      "STOP: TOTAL NO. of ITERATIONS REACHED LIMIT.\n",
      "\n",
      "Increase the number of iterations (max_iter) or scale the data as shown in:\n",
      "    https://scikit-learn.org/stable/modules/preprocessing.html\n",
      "Please also refer to the documentation for alternative solver options:\n",
      "    https://scikit-learn.org/stable/modules/linear_model.html#logistic-regression\n",
      "  extra_warning_msg=_LOGISTIC_SOLVER_CONVERGENCE_MSG,\n",
      "/usr/local/lib/python3.7/dist-packages/sklearn/linear_model/_logistic.py:818: ConvergenceWarning: lbfgs failed to converge (status=1):\n",
      "STOP: TOTAL NO. of ITERATIONS REACHED LIMIT.\n",
      "\n",
      "Increase the number of iterations (max_iter) or scale the data as shown in:\n",
      "    https://scikit-learn.org/stable/modules/preprocessing.html\n",
      "Please also refer to the documentation for alternative solver options:\n",
      "    https://scikit-learn.org/stable/modules/linear_model.html#logistic-regression\n",
      "  extra_warning_msg=_LOGISTIC_SOLVER_CONVERGENCE_MSG,\n",
      "/usr/local/lib/python3.7/dist-packages/sklearn/linear_model/_logistic.py:818: ConvergenceWarning: lbfgs failed to converge (status=1):\n",
      "STOP: TOTAL NO. of ITERATIONS REACHED LIMIT.\n",
      "\n",
      "Increase the number of iterations (max_iter) or scale the data as shown in:\n",
      "    https://scikit-learn.org/stable/modules/preprocessing.html\n",
      "Please also refer to the documentation for alternative solver options:\n",
      "    https://scikit-learn.org/stable/modules/linear_model.html#logistic-regression\n",
      "  extra_warning_msg=_LOGISTIC_SOLVER_CONVERGENCE_MSG,\n",
      "/usr/local/lib/python3.7/dist-packages/sklearn/linear_model/_logistic.py:818: ConvergenceWarning: lbfgs failed to converge (status=1):\n",
      "STOP: TOTAL NO. of ITERATIONS REACHED LIMIT.\n",
      "\n",
      "Increase the number of iterations (max_iter) or scale the data as shown in:\n",
      "    https://scikit-learn.org/stable/modules/preprocessing.html\n",
      "Please also refer to the documentation for alternative solver options:\n",
      "    https://scikit-learn.org/stable/modules/linear_model.html#logistic-regression\n",
      "  extra_warning_msg=_LOGISTIC_SOLVER_CONVERGENCE_MSG,\n"
     ]
    },
    {
     "name": "stdout",
     "output_type": "stream",
     "text": [
      "\n",
      "\n",
      "label=HINCP\n",
      "Real=0.31, Synthetic=0.28\n",
      "label=NP\n",
      "Real=0.40, Synthetic=0.32\n",
      "label=AGEP\n",
      "Real=0.04, Synthetic=0.03\n",
      "label=RAC1P\n",
      "Real=0.71, Synthetic=0.73\n",
      "label=ESR\n",
      "Real=0.80, Synthetic=0.74\n",
      "label=SEX\n",
      "Real=0.54, Synthetic=0.54\n",
      "label=WIF\n",
      "Real=0.56, Synthetic=0.19\n",
      "label=HUPAC\n",
      "Real=0.64, Synthetic=0.53\n",
      "label=HHT\n",
      "Real=0.76, Synthetic=0.74\n"
     ]
    }
   ],
   "source": [
    "print(\"Dimension-wise prediction (DWP)\")\n",
    "print(\"min=0.0, max=1.0\\nGoal=Maximize\")\n",
    "score_real = {}\n",
    "score_synthetic = {}\n",
    "for col in ipf_df.columns:\n",
    "    score_real[col] = DWP(train_df.drop([\"PUMA\", \"ST\"], axis=1), test_df.drop([\"PUMA\", \"ST\"], axis=1), col)\n",
    "    score_synthetic[col] = DWP(ipf_df, test_df.drop([\"PUMA\", \"ST\"], axis=1), col)\n",
    "print(\"\\n\")\n",
    "for col in ipf_df.columns:\n",
    "    print(f\"label={col}\\nReal={score_real[col]:.2f}, Synthetic={score_synthetic[col]:.2f}\")"
   ]
  },
  {
   "cell_type": "markdown",
   "metadata": {
    "id": "FBbqKIRyHIse"
   },
   "source": [
    "## Gibbs sampling"
   ]
  },
  {
   "cell_type": "markdown",
   "metadata": {
    "id": "JZBVaXVKm60C"
   },
   "source": [
    "Ref: [How to generate micro-agents? A deep generative modeling approach to population synthesis.](https://reader.elsevier.com/reader/sd/pii/S0968090X1831180X?token=8ED8DCD28D5EBD45B3C3D18D1926A80F4C0A3CDCD3DF4DD8BB276515E853A7C714619135C4F7C880088840D6618B5DCD&originRegion=us-east-1&originCreation=20211108140650) \n",
    "\n",
    "In statistics, Gibbs sampling or a Gibbs sampler is a Markov chain Monte Carlo (MCMC) algorithm for obtaining a sequence of observations which are approximated from a specified multivariate probability distribution by sampling from the conditional distributions. \n",
    "\n",
    "First, we select a random example from the training set to be our initial value $x^{0}$. Then each attribute $x_i^{k+1}$ is updated according to $P(x_i|x_1^{k+1}, \\ldots x_{i-1}^{k+1}, x_{i+1}^{k}, \\ldots, x_d^{k})$ until all the components are updated. The process is repeated using the new sample as a starting point until we get the desired number of sample. \n",
    "\n",
    "In the simplest case, we use the empirical conditional probabilities (ECDF) to compute the conditionals $P(x_i|x_1^{k+1}, \\ldots x_{i-1}^{k+1}, x_{i+1}^{k}, \\ldots, x_d^{k})$. That is, we select all the examples in the training set that have the same values for the dimensions on which we conditioned (as a frequency table or counts by category).\n",
    "\n",
    "Using the full and consistent conditionals, if the Gibbs sampler is ran for an extended amount of iterations, it eventually reaches a stationary state (warm up phase). At that point any draw will be as if the draw was from p(x). To avoid the correlation between the consecutive draws, certain number of draws between two recorded draws are skipped. (see simulation based population synthesis for details)\n",
    "\n",
    "\n",
    "Challenges:\n",
    "- **Curse of dimensionality** The amount of data to uniformly fill a hypercube grows exponentially with its dimensions. For higher dimensions, it may lead to the existence of isolated or loosely connected probability density islands (in the ECDF). We face the same problem when a dimension has many possible values (p.e. the age). We can try to discretize these dimensions with uniform bins.\n",
    "- **Sampling zero** Sampling agents which are missing from the original sample but exist in the real population. When using a frequency table, we exactly replicate the examples of the training sample. In *Simulation Based Population Synthesis* (https://www.sciencedirect.com/science/article/pii/S0191261513001720), they estimate the conditionals with discrete choice models. And we can also use regression trees.  "
   ]
  },
  {
   "cell_type": "markdown",
   "metadata": {
    "id": "3RoF32M6-F9D"
   },
   "source": [
    "**9 dimensions**"
   ]
  },
  {
   "cell_type": "code",
   "execution_count": null,
   "metadata": {
    "id": "g4AZlo9U625E"
   },
   "outputs": [],
   "source": [
    "n_warmup = 1000\n",
    "n = train_df.shape[0]\n",
    "gibbs_sampler = Gibbs()"
   ]
  },
  {
   "cell_type": "code",
   "execution_count": null,
   "metadata": {
    "id": "XLUsMhJhkvXX"
   },
   "outputs": [],
   "source": [
    "gibbs_df = generate_samples_gibbs(gibbs_sampler, train_df, n_warmup + n)\n",
    "gibbs_df = gibbs_df.loc[n_warmup:]"
   ]
  },
  {
   "cell_type": "markdown",
   "metadata": {
    "id": "MeSoOjBx1D9D"
   },
   "source": [
    "**Visualization of the marginals**"
   ]
  },
  {
   "cell_type": "code",
   "execution_count": null,
   "metadata": {
    "colab": {
     "base_uri": "https://localhost:8080/"
    },
    "executionInfo": {
     "elapsed": 3016,
     "status": "ok",
     "timestamp": 1637172155483,
     "user": {
      "displayName": "Pascal Jutras",
      "photoUrl": "https://lh3.googleusercontent.com/a-/AOh14Gh01s2MUuIZEpjZiU7Ln4JxgLvixFsdVV2QUGcJ=s64",
      "userId": "03293336261239430336"
     },
     "user_tz": 300
    },
    "id": "DmQiba5r1A3z",
    "outputId": "4e6db498-2544-4026-8cdf-52ca763e4c37"
   },
   "outputs": [
    {
     "name": "stderr",
     "output_type": "stream",
     "text": [
      "/usr/local/lib/python3.7/dist-packages/seaborn/distributions.py:2619: FutureWarning: `distplot` is a deprecated function and will be removed in a future version. Please adapt your code to use either `displot` (a figure-level function with similar flexibility) or `histplot` (an axes-level function for histograms).\n",
      "  warnings.warn(msg, FutureWarning)\n"
     ]
    },
    {
     "data": {
      "image/png": "[encoded data removed]",
      "text/plain": [
       "<Figure size 1440x504 with 10 Axes>"
      ]
     },
     "metadata": {
      "needs_background": "light"
     },
     "output_type": "display_data"
    }
   ],
   "source": [
    "fig, ax = plt.subplots(2, 5, figsize=(20, 7))\n",
    "k = 0\n",
    "col = train_df.columns\n",
    "for i in range(2):\n",
    "  for j in range(5):\n",
    "    sns.distplot(test_df[col[k]], kde=False, ax=ax[i, j])\n",
    "    sns.distplot(gibbs_df.iloc[:test_df.shape[0]][col[k]], kde=False, ax=ax[i, j])\n",
    "    k += 1\n",
    "plt.show()"
   ]
  },
  {
   "cell_type": "markdown",
   "metadata": {
    "id": "qsu0rNK16Ek2"
   },
   "source": [
    "**Single column metrics**"
   ]
  },
  {
   "cell_type": "code",
   "execution_count": null,
   "metadata": {
    "colab": {
     "base_uri": "https://localhost:8080/"
    },
    "executionInfo": {
     "elapsed": 10,
     "status": "ok",
     "timestamp": 1637172155484,
     "user": {
      "displayName": "Pascal Jutras",
      "photoUrl": "https://lh3.googleusercontent.com/a-/AOh14Gh01s2MUuIZEpjZiU7Ln4JxgLvixFsdVV2QUGcJ=s64",
      "userId": "03293336261239430336"
     },
     "user_tz": 300
    },
    "id": "d1wcg1wT6GI0",
    "outputId": "0ea91c28-008a-451b-e655-fe4e6c0ebd3d"
   },
   "outputs": [
    {
     "name": "stdout",
     "output_type": "stream",
     "text": [
      "Chi-Squared \n",
      "min=0.0, max=1.0\n",
      "Goal=Goal.MAXIMIZE\n",
      "\n",
      "HINCP \t 1.00\n",
      "NP \t 1.00\n",
      "AGEP \t 1.00\n",
      "RAC1P \t 1.00\n",
      "ESR \t 1.00\n",
      "SEX \t 0.96\n",
      "WIF \t 1.00\n",
      "HUPAC \t 0.96\n",
      "HHT \t 0.97\n",
      "PUMA \t 1.00\n",
      "ST \t 1.00\n"
     ]
    }
   ],
   "source": [
    "cs_test = CSTest()\n",
    "print(f\"{cs_test.name} \\nmin={cs_test.min_value}, max={cs_test.max_value}\\nGoal={cs_test.goal}\\n\")\n",
    "for col in test_df.columns:\n",
    "    print(f\"{col} \\t {cs_test.compute(test_df[col], gibbs_df[col]):.2f}\")"
   ]
  },
  {
   "cell_type": "markdown",
   "metadata": {
    "id": "W3yZhzIC6Vgb"
   },
   "source": [
    "**Detection metric**"
   ]
  },
  {
   "cell_type": "code",
   "execution_count": null,
   "metadata": {
    "colab": {
     "base_uri": "https://localhost:8080/"
    },
    "executionInfo": {
     "elapsed": 5,
     "status": "ok",
     "timestamp": 1637172155484,
     "user": {
      "displayName": "Pascal Jutras",
      "photoUrl": "https://lh3.googleusercontent.com/a-/AOh14Gh01s2MUuIZEpjZiU7Ln4JxgLvixFsdVV2QUGcJ=s64",
      "userId": "03293336261239430336"
     },
     "user_tz": 300
    },
    "id": "4y7TsnhW6f6c",
    "outputId": "28cd195a-5cb5-486f-cfb4-9117940f1656"
   },
   "outputs": [
    {
     "name": "stdout",
     "output_type": "stream",
     "text": [
      "LogisticRegression Detection \n",
      "min=0.0, max=1.0\n",
      "Goal=Goal.MAXIMIZE\n",
      "\n",
      "0.6040106159592069\n"
     ]
    }
   ],
   "source": [
    "logisticDetection = LogisticDetection()\n",
    "print(f\"{logisticDetection.name} \\nmin={logisticDetection.min_value}, max={logisticDetection.max_value}\\nGoal={logisticDetection.goal}\\n\")\n",
    "print(logisticDetection.compute(test_df, gibbs_df))"
   ]
  },
  {
   "cell_type": "markdown",
   "metadata": {
    "id": "F592b-qU6gZs"
   },
   "source": [
    "**Dimension-wise prediction**"
   ]
  },
  {
   "cell_type": "code",
   "execution_count": null,
   "metadata": {
    "colab": {
     "base_uri": "https://localhost:8080/"
    },
    "executionInfo": {
     "elapsed": 291240,
     "status": "ok",
     "timestamp": 1637172448100,
     "user": {
      "displayName": "Pascal Jutras",
      "photoUrl": "https://lh3.googleusercontent.com/a-/AOh14Gh01s2MUuIZEpjZiU7Ln4JxgLvixFsdVV2QUGcJ=s64",
      "userId": "03293336261239430336"
     },
     "user_tz": 300
    },
    "id": "kIWFB5cj6kDV",
    "outputId": "c4751d19-2ce3-446b-e839-cced455c5e7e"
   },
   "outputs": [
    {
     "name": "stdout",
     "output_type": "stream",
     "text": [
      "Dimension-wise prediction (DWP)\n",
      "min=0.0, max=1.0\n",
      "Goal=Maximize\n"
     ]
    },
    {
     "name": "stderr",
     "output_type": "stream",
     "text": [
      "/usr/local/lib/python3.7/dist-packages/sklearn/linear_model/_logistic.py:818: ConvergenceWarning: lbfgs failed to converge (status=1):\n",
      "STOP: TOTAL NO. of ITERATIONS REACHED LIMIT.\n",
      "\n",
      "Increase the number of iterations (max_iter) or scale the data as shown in:\n",
      "    https://scikit-learn.org/stable/modules/preprocessing.html\n",
      "Please also refer to the documentation for alternative solver options:\n",
      "    https://scikit-learn.org/stable/modules/linear_model.html#logistic-regression\n",
      "  extra_warning_msg=_LOGISTIC_SOLVER_CONVERGENCE_MSG,\n",
      "/usr/local/lib/python3.7/dist-packages/sklearn/linear_model/_logistic.py:818: ConvergenceWarning: lbfgs failed to converge (status=1):\n",
      "STOP: TOTAL NO. of ITERATIONS REACHED LIMIT.\n",
      "\n",
      "Increase the number of iterations (max_iter) or scale the data as shown in:\n",
      "    https://scikit-learn.org/stable/modules/preprocessing.html\n",
      "Please also refer to the documentation for alternative solver options:\n",
      "    https://scikit-learn.org/stable/modules/linear_model.html#logistic-regression\n",
      "  extra_warning_msg=_LOGISTIC_SOLVER_CONVERGENCE_MSG,\n",
      "/usr/local/lib/python3.7/dist-packages/sklearn/linear_model/_logistic.py:818: ConvergenceWarning: lbfgs failed to converge (status=1):\n",
      "STOP: TOTAL NO. of ITERATIONS REACHED LIMIT.\n",
      "\n",
      "Increase the number of iterations (max_iter) or scale the data as shown in:\n",
      "    https://scikit-learn.org/stable/modules/preprocessing.html\n",
      "Please also refer to the documentation for alternative solver options:\n",
      "    https://scikit-learn.org/stable/modules/linear_model.html#logistic-regression\n",
      "  extra_warning_msg=_LOGISTIC_SOLVER_CONVERGENCE_MSG,\n",
      "/usr/local/lib/python3.7/dist-packages/sklearn/linear_model/_logistic.py:818: ConvergenceWarning: lbfgs failed to converge (status=1):\n",
      "STOP: TOTAL NO. of ITERATIONS REACHED LIMIT.\n",
      "\n",
      "Increase the number of iterations (max_iter) or scale the data as shown in:\n",
      "    https://scikit-learn.org/stable/modules/preprocessing.html\n",
      "Please also refer to the documentation for alternative solver options:\n",
      "    https://scikit-learn.org/stable/modules/linear_model.html#logistic-regression\n",
      "  extra_warning_msg=_LOGISTIC_SOLVER_CONVERGENCE_MSG,\n",
      "/usr/local/lib/python3.7/dist-packages/sklearn/linear_model/_logistic.py:818: ConvergenceWarning: lbfgs failed to converge (status=1):\n",
      "STOP: TOTAL NO. of ITERATIONS REACHED LIMIT.\n",
      "\n",
      "Increase the number of iterations (max_iter) or scale the data as shown in:\n",
      "    https://scikit-learn.org/stable/modules/preprocessing.html\n",
      "Please also refer to the documentation for alternative solver options:\n",
      "    https://scikit-learn.org/stable/modules/linear_model.html#logistic-regression\n",
      "  extra_warning_msg=_LOGISTIC_SOLVER_CONVERGENCE_MSG,\n",
      "/usr/local/lib/python3.7/dist-packages/sklearn/linear_model/_logistic.py:818: ConvergenceWarning: lbfgs failed to converge (status=1):\n",
      "STOP: TOTAL NO. of ITERATIONS REACHED LIMIT.\n",
      "\n",
      "Increase the number of iterations (max_iter) or scale the data as shown in:\n",
      "    https://scikit-learn.org/stable/modules/preprocessing.html\n",
      "Please also refer to the documentation for alternative solver options:\n",
      "    https://scikit-learn.org/stable/modules/linear_model.html#logistic-regression\n",
      "  extra_warning_msg=_LOGISTIC_SOLVER_CONVERGENCE_MSG,\n"
     ]
    },
    {
     "name": "stdout",
     "output_type": "stream",
     "text": [
      "\n",
      "\n",
      "label=HINCP\n",
      "Real=0.32, Synthetic=0.27\n",
      "label=NP\n",
      "Real=0.41, Synthetic=0.38\n",
      "label=AGEP\n",
      "Real=0.04, Synthetic=0.02\n",
      "label=RAC1P\n",
      "Real=0.72, Synthetic=0.71\n",
      "label=ESR\n",
      "Real=0.80, Synthetic=0.73\n",
      "label=SEX\n",
      "Real=0.54, Synthetic=0.50\n",
      "label=WIF\n",
      "Real=0.56, Synthetic=0.49\n",
      "label=HUPAC\n",
      "Real=0.64, Synthetic=0.44\n",
      "label=HHT\n",
      "Real=0.76, Synthetic=0.65\n",
      "label=PUMA\n",
      "Real=0.33, Synthetic=0.20\n"
     ]
    }
   ],
   "source": [
    "print(\"Dimension-wise prediction (DWP)\")\n",
    "print(\"min=0.0, max=1.0\\nGoal=Maximize\")\n",
    "score_real = {}\n",
    "score_synthetic = {}\n",
    "for col in test_df.columns:\n",
    "    if col == \"ST\":\n",
    "        continue\n",
    "    score_real[col] = DWP(train_df, test_df, col)\n",
    "    try:\n",
    "        score_synthetic[col] = DWP(medGAN_train_df, test_df, col)\n",
    "    except:\n",
    "        score_synthetic[col] = np.NAN\n",
    "print(\"\\n\")\n",
    "for col in test_df.columns:\n",
    "    if col == \"ST\":\n",
    "        continue\n",
    "    print(f\"label={col}\\nReal={score_real[col]:.2f}, Synthetic={score_synthetic[col]:.2f}\")"
   ]
  },
  {
   "cell_type": "markdown",
   "metadata": {
    "id": "XjQsL4tHbWV0"
   },
   "source": [
    "**Sampling zeros**"
   ]
  },
  {
   "cell_type": "code",
   "execution_count": null,
   "metadata": {
    "colab": {
     "base_uri": "https://localhost:8080/"
    },
    "executionInfo": {
     "elapsed": 18,
     "status": "ok",
     "timestamp": 1637172448101,
     "user": {
      "displayName": "Pascal Jutras",
      "photoUrl": "https://lh3.googleusercontent.com/a-/AOh14Gh01s2MUuIZEpjZiU7Ln4JxgLvixFsdVV2QUGcJ=s64",
      "userId": "03293336261239430336"
     },
     "user_tz": 300
    },
    "id": "ysA68cPNbX7P",
    "outputId": "85fd281e-2c81-4234-d136-81ac65e8c0b7"
   },
   "outputs": [
    {
     "name": "stdout",
     "output_type": "stream",
     "text": [
      "0 sampling zeros on 13507 synthetic samples\n"
     ]
    }
   ],
   "source": [
    "s_z = sampling_zeros(train_df, test_df, gibbs_df)\n",
    "print(f\"{s_z} sampling zeros on {gibbs_df.shape[0]} synthetic samples\")"
   ]
  },
  {
   "cell_type": "code",
   "execution_count": null,
   "metadata": {
    "id": "mUtjAgdUbabH"
   },
   "outputs": [],
   "source": []
  }
 ],
 "metadata": {
  "accelerator": "GPU",
  "colab": {
   "authorship_tag": "ABX9TyMwr9LAXWrfFqIOHIFZ02Au",
   "collapsed_sections": [
    "BZPpiyl7DT_1",
    "2C0jzAaIZOUv",
    "BWgCXtAjaPxQ",
    "WVGdBeococaS",
    "VXF2eOCyoMGm",
    "_i8gejhoCwOD",
    "YfuTXIwrQAkd",
    "FBbqKIRyHIse"
   ],
   "name": "modelComparions.ipynb",
   "provenance": []
  },
  "kernelspec": {
   "display_name": "Python 3",
   "language": "python",
   "name": "python3"
  },
  "language_info": {
   "codemirror_mode": {
    "name": "ipython",
    "version": 3
   },
   "file_extension": ".py",
   "mimetype": "text/x-python",
   "name": "python",
   "nbconvert_exporter": "python",
   "pygments_lexer": "ipython3",
   "version": "3.8.8"
  }
 },
 "nbformat": 4,
 "nbformat_minor": 1
}
