{
 "cells": [
  {
   "cell_type": "markdown",
   "metadata": {},
   "source": [
    "## Imports"
   ]
  },
  {
   "cell_type": "code",
   "execution_count": 13,
   "metadata": {},
   "outputs": [],
   "source": [
    "# Miscellaneous\n",
    "%matplotlib inline\n",
    "import numpy as np\n",
    "import pandas as pd\n",
    "import matplotlib.pyplot as plt\n",
    "import itertools\n",
    "import os\n",
    "# CTGAN and TVAE\n",
    "from sdv.tabular import CTGAN, TVAE\n",
    "# BN\n",
    "from pomegranate import *\n",
    "# Copula\n",
    "from utils import Copula_scaler, pseudo_inverse, project_samples\n",
    "# Copula\n",
    "from copula import CopulaScaler\n",
    "\n",
    "# Utils\n",
    "from sklearn.model_selection import train_test_split\n",
    "# Evaluation\n",
    "from utils import srmse, DWP, sampling_zeros\n",
    "from sdmetrics import single_column\n",
    "from sdv.metrics.tabular import CSTest, SVCDetection\n"
   ]
  },
  {
   "cell_type": "markdown",
   "metadata": {},
   "source": [
    "# Traditional population synthesis"
   ]
  },
  {
   "cell_type": "markdown",
   "metadata": {},
   "source": [
    "## Experiment 1:target at state level"
   ]
  },
  {
   "cell_type": "markdown",
   "metadata": {},
   "source": [
    "## Data"
   ]
  },
  {
   "cell_type": "code",
   "execution_count": 14,
   "metadata": {},
   "outputs": [],
   "source": [
    "data_dir = \"../Data/data\"\n",
    "dfs = []\n",
    "for subdir, dirs, files in os.walk(data_dir):\n",
    "    for file in files:\n",
    "        path = os.path.join(subdir, file)\n",
    "        if path == \"../Data/data/.DS_Store\":\n",
    "            continue\n",
    "        county = os.path.basename(subdir)\n",
    "        df = pd.read_csv(os.path.join(subdir, file),encoding = 'unicode_escape')\n",
    "        df[\"COUNTY\"] = county\n",
    "        dfs.append(df)\n",
    "df = pd.concat(dfs)\n",
    "df = df.drop(df[df.COUNTY == \"data\"].index)\n",
    "del df['Unnamed: 0']\n",
    "df.to_csv(\"../Data/maryland.csv\", index=False)\n"
   ]
  },
  {
   "cell_type": "code",
   "execution_count": 15,
   "metadata": {},
   "outputs": [],
   "source": [
    "target = pd.read_csv(\"../Data/maryland.csv\")\n",
    "mapping = dict([(county, code) for code, county in enumerate(np.unique(target[\"COUNTY\"]))])\n",
    "target[\"COUNTY\"] = target[\"COUNTY\"].replace(mapping)\n",
    "target.drop([\"PUMA\"], axis=1, inplace=True)\n",
    "source = target.sample(frac=0.01)  # 0.1% PUMS \n",
    "target.drop(source.index, inplace=True)  # Remove source from target\n",
    "target=target.astype(np.int64)\n",
    "source=source.astype(np.int64)\n",
    "target.to_csv(\"../Data/exp1/target.csv\", index=False)\n",
    "source.to_csv(\"../Data/exp1/source.csv\", index=False)\n"
   ]
  },
  {
   "cell_type": "code",
   "execution_count": 16,
   "metadata": {},
   "outputs": [],
   "source": [
    "target = pd.read_csv(\"../Data/exp1/target.csv\")\n",
    "source = pd.read_csv(\"../Data/exp1/source.csv\")\n",
    "columns = target.columns\n",
    "synthetic = {}  # Will hold synthetic data\n",
    "models = [\"Ind\",\"IPF\",\"CTGAN\",\"CTGAN+Copula\",\"TVAE\",\"TVAE+Copula\",\"BN\", \"BN+Copula\"]"
   ]
  },
  {
   "cell_type": "markdown",
   "metadata": {},
   "source": [
    "### Independent baseline"
   ]
  },
  {
   "cell_type": "code",
   "execution_count": 34,
   "metadata": {},
   "outputs": [],
   "source": [
    "ind_data = np.zeros(shape=target.shape)\n",
    "for i in range(ind_data.shape[0]):\n",
    "    for j in range(ind_data.shape[1]):\n",
    "        ind_data[i,j] = source[columns[j]].sample(1)\n",
    "\n",
    "ind_data = pd.DataFrame(ind_data, columns=columns)\n",
    "synthetic[\"Ind\"] = ind_data"
   ]
  },
  {
   "cell_type": "markdown",
   "metadata": {},
   "source": [
    "### IPF"
   ]
  },
  {
   "cell_type": "code",
   "execution_count": 35,
   "metadata": {},
   "outputs": [],
   "source": [
    "# Data for IPF\n",
    "target_ipf = target.copy()\n",
    "source_ipf = source.copy()\n",
    "target_ipf[\"WIF\"] += 1\n",
    "source_ipf[\"WIF\"] += 1\n",
    "source_ipf.to_csv(f\"../Data/exp1/ipfData/source.csv\", index=False)\n",
    "for col in columns:\n",
    "    unique, counts = np.unique(target_ipf[col], return_counts=True)\n",
    "    # Remove values from target that are not in source\n",
    "    unique_source = np.unique(source_ipf[col])\n",
    "    unique_cleaned = list(unique)\n",
    "    counts_cleaned = list(counts)\n",
    "    for value in unique:\n",
    "        if value not in unique_source:\n",
    "            idx = unique_cleaned.index(value)\n",
    "            unique_cleaned.pop(idx)\n",
    "            counts_cleaned.pop(idx)\n",
    "    df = pd.DataFrame(dict(zip(unique_cleaned, counts_cleaned)), index=[0])\n",
    "    # Put 0 where data in source not in target\n",
    "    for value in unique_source:\n",
    "        if value not in unique:\n",
    "            df[value] = 0\n",
    "    df.to_csv(f\"../Data/exp1/ipfData/{col}.csv\", index=False)"
   ]
  },
  {
   "cell_type": "code",
   "execution_count": 36,
   "metadata": {},
   "outputs": [],
   "source": [
    "ipf_w = pd.read_csv(\"../Data/exp1/ipfData/weights.csv\")\n",
    "ipf_w[\"weight\"] = (ipf_w[\"weight\"]).astype(int)\n",
    "ipf_w = ipf_w.loc[ipf_w.index.repeat(ipf_w[\"weight\"])].reset_index(drop=True)\n",
    "ipf_data = ipf_w.drop([\"weight\", \"id\", \"geo_all\", \"avg_weight\" ,\"weight_factor\"], axis=1)\n",
    "ipf_data[\"WIF\"] -= 1\n",
    "synthetic[\"IPF\"] = ipf_data"
   ]
  },
  {
   "cell_type": "markdown",
   "metadata": {},
   "source": [
    "## CTGAN"
   ]
  },
  {
   "cell_type": "code",
   "execution_count": 37,
   "metadata": {},
   "outputs": [],
   "source": [
    "source_ctgan = source.drop_duplicates()\n",
    "\n",
    "target_scaler = CopulaScaler()\n",
    "target_scaler = target_scaler.fit(target)\n",
    "\n",
    "source_scaler = CopulaScaler()\n",
    "source_scaler = source_scaler.fit(source_ctgan)\n",
    "source_scaled = source_scaler.transform(source_ctgan)"
   ]
  },
  {
   "cell_type": "code",
   "execution_count": 38,
   "metadata": {},
   "outputs": [],
   "source": [
    "field_types = {\n",
    "    \"HINCP\": {\"type\": \"categorical\"},\n",
    "    'NP': {\"type\": \"categorical\"},\n",
    "    \"AGEP\": {\"type\": \"categorical\"},\n",
    "    \"RAC1P\": {\"type\": \"categorical\"},\n",
    "    \"ESR\": {\"type\": \"categorical\"},\n",
    "    \"SEX\": {\"type\": \"categorical\"},\n",
    "    \"WIF\": {\"type\": \"categorical\"}, \n",
    "    \"HUPAC\": {\"type\": \"categorical\"},\n",
    "    \"HHT\": {\"type\": \"categorical\"},\n",
    "    \"COUNTY\": {\"type\": \"categorical\"}\n",
    "}"
   ]
  },
  {
   "cell_type": "code",
   "execution_count": 39,
   "metadata": {},
   "outputs": [],
   "source": [
    "# Model definition\n",
    "ctgan_args = {\n",
    "    \"field_types\":field_types,\n",
    "    \"embedding_dim\": 128,\n",
    "    \"generator_dim\": (256, 256),\n",
    "    \"discriminator_dim\": (256, 256),\n",
    "    \"generator_lr\": 2e-4,\n",
    "    \"generator_decay\": 1e-6,\n",
    "    \"discriminator_lr\": 2e-4,\n",
    "    \"discriminator_decay\": 1e-6,\n",
    "    \"batch_size\": 120,  # Default is 500\n",
    "    \"discriminator_steps\": 1,\n",
    "    \"epochs\": 1000,  # Default is 300\n",
    "    \"cuda\": False\n",
    "}\n",
    "ctgan = CTGAN(**ctgan_args)"
   ]
  },
  {
   "cell_type": "code",
   "execution_count": 40,
   "metadata": {},
   "outputs": [],
   "source": [
    "# Training\n",
    "ctgan.fit(source_scaled)"
   ]
  },
  {
   "cell_type": "code",
   "execution_count": 41,
   "metadata": {},
   "outputs": [],
   "source": [
    "ctgan.save(\"../Saved_Models/exp1/ctgan.pkl\")"
   ]
  },
  {
   "cell_type": "code",
   "execution_count": 42,
   "metadata": {},
   "outputs": [],
   "source": [
    "ctgan = CTGAN.load(\"../Saved_Models/exp1/ctgan.pkl\")"
   ]
  },
  {
   "cell_type": "code",
   "execution_count": 43,
   "metadata": {},
   "outputs": [],
   "source": [
    "ctgan_data = ctgan.sample(target.shape[0])"
   ]
  },
  {
   "cell_type": "code",
   "execution_count": 44,
   "metadata": {},
   "outputs": [],
   "source": [
    "synthetic[\"CTGAN\"] = ctgan_data\n",
    "ctgan_data_transfer = source_scaler.resampling_trick(ctgan_data, columns)\n",
    "synthetic[\"CTGAN+Copula\"] = target_scaler.inverse_transform(ctgan_data_transfer)"
   ]
  },
  {
   "cell_type": "markdown",
   "metadata": {},
   "source": [
    "## TVAE"
   ]
  },
  {
   "cell_type": "code",
   "execution_count": 45,
   "metadata": {},
   "outputs": [],
   "source": [
    "# Model definition\n",
    "tvae_args = {\n",
    "    \"field_types\": field_types,\n",
    "    \"embedding_dim\": 128,\n",
    "    \"compress_dims\": (128, 128),\n",
    "    \"decompress_dims\": (128, 128),\n",
    "    \"l2scale\": 1e-5,\n",
    "    \"batch_size\": 120,  # Default is 500\n",
    "    \"epochs\": 1000,  # Default is 300\n",
    "    \"cuda\": False\n",
    "}\n",
    "tvae = TVAE(**tvae_args)"
   ]
  },
  {
   "cell_type": "code",
   "execution_count": 46,
   "metadata": {},
   "outputs": [],
   "source": [
    "# Training\n",
    "tvae.fit(source_scaled)"
   ]
  },
  {
   "cell_type": "code",
   "execution_count": 47,
   "metadata": {},
   "outputs": [],
   "source": [
    "tvae.save(\"../Saved_Models/exp1/tvae.pkl\")"
   ]
  },
  {
   "cell_type": "code",
   "execution_count": 48,
   "metadata": {},
   "outputs": [],
   "source": [
    "tvae = TVAE.load(\"../Saved_Models/exp1/tvae.pkl\")"
   ]
  },
  {
   "cell_type": "code",
   "execution_count": 49,
   "metadata": {},
   "outputs": [],
   "source": [
    "tvae_data = tvae.sample(target.shape[0])"
   ]
  },
  {
   "cell_type": "code",
   "execution_count": 50,
   "metadata": {},
   "outputs": [],
   "source": [
    "synthetic[\"TVAE\"] = source_scaler.inverse_transform(tvae_data)\n",
    "\n",
    "tvae_data_transfer = source_scaler.resampling_trick(tvae_data, columns)\n",
    "synthetic[\"TVAE+Copula\"] = target_scaler.inverse_transform(tvae_data_transfer)"
   ]
  },
  {
   "cell_type": "markdown",
   "metadata": {},
   "source": [
    "## BN"
   ]
  },
  {
   "cell_type": "code",
   "execution_count": 51,
   "metadata": {},
   "outputs": [],
   "source": [
    "bn = BayesianNetwork.from_samples(source, algorithm=\"greedy\")\n",
    "bn_data = bn.sample(n=target.shape[0], algorithm=\"rejection\")\n",
    "bn_data = pd.DataFrame(bn_data ,columns=columns)\n",
    "synthetic[\"BN\"] = bn_data"
   ]
  },
  {
   "cell_type": "code",
   "execution_count": 52,
   "metadata": {},
   "outputs": [],
   "source": [
    "scaler_source = Copula_scaler(source)\n",
    "scaler_target = Copula_scaler(target)\n",
    "# Copula uniform\n",
    "source_enc = scaler_source.encode(source)\n",
    "# Training and sampling\n",
    "bn_copula = BayesianNetwork.from_samples(source_enc, algorithm=\"greedy\")\n",
    "bn_copula_data = bn_copula.sample(n=target.shape[0], algorithm=\"rejection\")\n",
    "bn_copula_data = pd.DataFrame(bn_copula_data, columns=columns)\n",
    "# Resampling trick\n",
    "bn_copula_data = scaler_source.resampling_trick(bn_copula_data)\n",
    "# Pseudo inverse\n",
    "bn_copula_data = scaler_target.decode(bn_copula_data)\n",
    "synthetic[\"BN+Copula\"] = bn_copula_data\n"
   ]
  },
  {
   "cell_type": "markdown",
   "metadata": {},
   "source": [
    "## Evaluation"
   ]
  },
  {
   "cell_type": "code",
   "execution_count": 5,
   "metadata": {},
   "outputs": [],
   "source": [
    "#Save data\n",
    "for model in synthetic:\n",
    "     df = synthetic[model]\n",
    "     df.to_csv(f\"../Data/exp1/synthesis/{model}.csv\", index=False)"
   ]
  },
  {
   "cell_type": "code",
   "execution_count": 17,
   "metadata": {},
   "outputs": [],
   "source": [
    "models = [\"Ind\",\"IPF\",\"CTGAN\",\"CTGAN+Copula\",\"TVAE\",\"TVAE+Copula\",\"BN\", \"BN+Copula\"]"
   ]
  },
  {
   "cell_type": "code",
   "execution_count": 18,
   "metadata": {},
   "outputs": [],
   "source": [
    "# Load synthetic data\n",
    "for model in models:\n",
    "    synthetic[model] = pd.read_csv(f\"../Data/exp1/synthesis/{model}.csv\")"
   ]
  },
  {
   "cell_type": "code",
   "execution_count": 19,
   "metadata": {},
   "outputs": [],
   "source": [
    "csTest = CSTest(single_column.statistical.CSTest)\n",
    "svcDetection = SVCDetection()\n",
    "\n",
    "results = {}\n",
    "metadata = {\"fields\":{}}\n",
    "for col in columns:\n",
    "     metadata[\"fields\"][col] = {\"type\": \"categorical\"}"
   ]
  },
  {
   "cell_type": "code",
   "execution_count": 20,
   "metadata": {},
   "outputs": [
    {
     "name": "stderr",
     "output_type": "stream",
     "text": [
      "C:\\Users\\yzc97\\anaconda3\\lib\\site-packages\\sdmetrics\\utils.py:62: UserWarning: Unexpected value 0.19489825164803667 in synthetic data.\n",
      "  warnings.warn(f'Unexpected value {value} in synthetic data.')\n",
      "C:\\Users\\yzc97\\anaconda3\\lib\\site-packages\\sdmetrics\\utils.py:62: UserWarning: Unexpected value 0.35196331327027797 in synthetic data.\n",
      "  warnings.warn(f'Unexpected value {value} in synthetic data.')\n",
      "C:\\Users\\yzc97\\anaconda3\\lib\\site-packages\\sdmetrics\\utils.py:62: UserWarning: Unexpected value 0.8343364860991688 in synthetic data.\n",
      "  warnings.warn(f'Unexpected value {value} in synthetic data.')\n",
      "C:\\Users\\yzc97\\anaconda3\\lib\\site-packages\\sdmetrics\\utils.py:62: UserWarning: Unexpected value 0.7162510748065348 in synthetic data.\n",
      "  warnings.warn(f'Unexpected value {value} in synthetic data.')\n",
      "C:\\Users\\yzc97\\anaconda3\\lib\\site-packages\\sdmetrics\\utils.py:62: UserWarning: Unexpected value 0.585554600171969 in synthetic data.\n",
      "  warnings.warn(f'Unexpected value {value} in synthetic data.')\n",
      "C:\\Users\\yzc97\\anaconda3\\lib\\site-packages\\sdmetrics\\utils.py:62: UserWarning: Unexpected value 0.4560045858412153 in synthetic data.\n",
      "  warnings.warn(f'Unexpected value {value} in synthetic data.')\n",
      "C:\\Users\\yzc97\\anaconda3\\lib\\site-packages\\sdmetrics\\utils.py:62: UserWarning: Unexpected value 0.475494411006019 in synthetic data.\n",
      "  warnings.warn(f'Unexpected value {value} in synthetic data.')\n",
      "C:\\Users\\yzc97\\anaconda3\\lib\\site-packages\\sdmetrics\\utils.py:62: UserWarning: Unexpected value 0.27343078245915736 in synthetic data.\n",
      "  warnings.warn(f'Unexpected value {value} in synthetic data.')\n",
      "C:\\Users\\yzc97\\anaconda3\\lib\\site-packages\\sdmetrics\\utils.py:62: UserWarning: Unexpected value 0.5531670965892805 in synthetic data.\n",
      "  warnings.warn(f'Unexpected value {value} in synthetic data.')\n",
      "C:\\Users\\yzc97\\anaconda3\\lib\\site-packages\\sdmetrics\\utils.py:62: UserWarning: Unexpected value 0.5104614502722843 in synthetic data.\n",
      "  warnings.warn(f'Unexpected value {value} in synthetic data.')\n",
      "C:\\Users\\yzc97\\anaconda3\\lib\\site-packages\\sdmetrics\\utils.py:62: UserWarning: Unexpected value 0.08942390369733448 in synthetic data.\n",
      "  warnings.warn(f'Unexpected value {value} in synthetic data.')\n",
      "C:\\Users\\yzc97\\anaconda3\\lib\\site-packages\\sdmetrics\\utils.py:62: UserWarning: Unexpected value 0.9552880481513328 in synthetic data.\n",
      "  warnings.warn(f'Unexpected value {value} in synthetic data.')\n",
      "C:\\Users\\yzc97\\anaconda3\\lib\\site-packages\\sdmetrics\\utils.py:62: UserWarning: Unexpected value 0.4201777013470909 in synthetic data.\n",
      "  warnings.warn(f'Unexpected value {value} in synthetic data.')\n",
      "C:\\Users\\yzc97\\anaconda3\\lib\\site-packages\\sdmetrics\\utils.py:62: UserWarning: Unexpected value 0.9340785325308112 in synthetic data.\n",
      "  warnings.warn(f'Unexpected value {value} in synthetic data.')\n",
      "C:\\Users\\yzc97\\anaconda3\\lib\\site-packages\\sdmetrics\\utils.py:62: UserWarning: Unexpected value 0.9770707939237604 in synthetic data.\n",
      "  warnings.warn(f'Unexpected value {value} in synthetic data.')\n",
      "C:\\Users\\yzc97\\anaconda3\\lib\\site-packages\\sdmetrics\\utils.py:62: UserWarning: Unexpected value 0.8624247635425624 in synthetic data.\n",
      "  warnings.warn(f'Unexpected value {value} in synthetic data.')\n",
      "C:\\Users\\yzc97\\anaconda3\\lib\\site-packages\\sdmetrics\\utils.py:62: UserWarning: Unexpected value 0.3900831183720264 in synthetic data.\n",
      "  warnings.warn(f'Unexpected value {value} in synthetic data.')\n",
      "C:\\Users\\yzc97\\anaconda3\\lib\\site-packages\\sdmetrics\\utils.py:62: UserWarning: Unexpected value 0.29406706792777304 in synthetic data.\n",
      "  warnings.warn(f'Unexpected value {value} in synthetic data.')\n",
      "C:\\Users\\yzc97\\anaconda3\\lib\\site-packages\\sdmetrics\\utils.py:62: UserWarning: Unexpected value 0.3238750358268845 in synthetic data.\n",
      "  warnings.warn(f'Unexpected value {value} in synthetic data.')\n",
      "C:\\Users\\yzc97\\anaconda3\\lib\\site-packages\\sdmetrics\\utils.py:62: UserWarning: Unexpected value 0.8867870449985669 in synthetic data.\n",
      "  warnings.warn(f'Unexpected value {value} in synthetic data.')\n",
      "C:\\Users\\yzc97\\anaconda3\\lib\\site-packages\\sdmetrics\\utils.py:62: UserWarning: Unexpected value 0.9036973344797936 in synthetic data.\n",
      "  warnings.warn(f'Unexpected value {value} in synthetic data.')\n",
      "C:\\Users\\yzc97\\anaconda3\\lib\\site-packages\\sdmetrics\\utils.py:62: UserWarning: Unexpected value 0.3665806821438808 in synthetic data.\n",
      "  warnings.warn(f'Unexpected value {value} in synthetic data.')\n",
      "C:\\Users\\yzc97\\anaconda3\\lib\\site-packages\\sdmetrics\\utils.py:62: UserWarning: Unexpected value 0.02321582115219261 in synthetic data.\n",
      "  warnings.warn(f'Unexpected value {value} in synthetic data.')\n",
      "C:\\Users\\yzc97\\anaconda3\\lib\\site-packages\\sdmetrics\\utils.py:62: UserWarning: Unexpected value 0.2679850960160505 in synthetic data.\n",
      "  warnings.warn(f'Unexpected value {value} in synthetic data.')\n",
      "C:\\Users\\yzc97\\anaconda3\\lib\\site-packages\\sdmetrics\\utils.py:62: UserWarning: Unexpected value 0.8842075093149899 in synthetic data.\n",
      "  warnings.warn(f'Unexpected value {value} in synthetic data.')\n",
      "C:\\Users\\yzc97\\anaconda3\\lib\\site-packages\\sdmetrics\\utils.py:62: UserWarning: Unexpected value 0.4342218400687877 in synthetic data.\n",
      "  warnings.warn(f'Unexpected value {value} in synthetic data.')\n",
      "C:\\Users\\yzc97\\anaconda3\\lib\\site-packages\\sdmetrics\\utils.py:62: UserWarning: Unexpected value 0.1114932645457151 in synthetic data.\n",
      "  warnings.warn(f'Unexpected value {value} in synthetic data.')\n",
      "C:\\Users\\yzc97\\anaconda3\\lib\\site-packages\\sdmetrics\\utils.py:62: UserWarning: Unexpected value 0.5818286041845799 in synthetic data.\n",
      "  warnings.warn(f'Unexpected value {value} in synthetic data.')\n",
      "C:\\Users\\yzc97\\anaconda3\\lib\\site-packages\\sdmetrics\\utils.py:62: UserWarning: Unexpected value 0.10174835196331328 in synthetic data.\n",
      "  warnings.warn(f'Unexpected value {value} in synthetic data.')\n",
      "C:\\Users\\yzc97\\anaconda3\\lib\\site-packages\\sdmetrics\\utils.py:62: UserWarning: Unexpected value 0.5978790484379478 in synthetic data.\n",
      "  warnings.warn(f'Unexpected value {value} in synthetic data.')\n",
      "C:\\Users\\yzc97\\anaconda3\\lib\\site-packages\\sdmetrics\\utils.py:62: UserWarning: Unexpected value 0.8134135855546002 in synthetic data.\n",
      "  warnings.warn(f'Unexpected value {value} in synthetic data.')\n",
      "C:\\Users\\yzc97\\anaconda3\\lib\\site-packages\\sdmetrics\\utils.py:62: UserWarning: Unexpected value 0.4006878761822872 in synthetic data.\n",
      "  warnings.warn(f'Unexpected value {value} in synthetic data.')\n",
      "C:\\Users\\yzc97\\anaconda3\\lib\\site-packages\\sdmetrics\\utils.py:62: UserWarning: Unexpected value 0.9627400401261106 in synthetic data.\n",
      "  warnings.warn(f'Unexpected value {value} in synthetic data.')\n",
      "C:\\Users\\yzc97\\anaconda3\\lib\\site-packages\\sdmetrics\\utils.py:62: UserWarning: Unexpected value 0.9186013184293492 in synthetic data.\n",
      "  warnings.warn(f'Unexpected value {value} in synthetic data.')\n",
      "C:\\Users\\yzc97\\anaconda3\\lib\\site-packages\\sdmetrics\\utils.py:62: UserWarning: Unexpected value 0.2619661794210376 in synthetic data.\n",
      "  warnings.warn(f'Unexpected value {value} in synthetic data.')\n",
      "C:\\Users\\yzc97\\anaconda3\\lib\\site-packages\\sdmetrics\\utils.py:62: UserWarning: Unexpected value 0.35626253940957303 in synthetic data.\n",
      "  warnings.warn(f'Unexpected value {value} in synthetic data.')\n",
      "C:\\Users\\yzc97\\anaconda3\\lib\\site-packages\\sdmetrics\\utils.py:62: UserWarning: Unexpected value 0.6368586987675552 in synthetic data.\n",
      "  warnings.warn(f'Unexpected value {value} in synthetic data.')\n",
      "C:\\Users\\yzc97\\anaconda3\\lib\\site-packages\\sdmetrics\\utils.py:62: UserWarning: Unexpected value 0.2118085411292634 in synthetic data.\n",
      "  warnings.warn(f'Unexpected value {value} in synthetic data.')\n",
      "C:\\Users\\yzc97\\anaconda3\\lib\\site-packages\\sdmetrics\\utils.py:62: UserWarning: Unexpected value 0.9931212381771279 in synthetic data.\n",
      "  warnings.warn(f'Unexpected value {value} in synthetic data.')\n",
      "C:\\Users\\yzc97\\anaconda3\\lib\\site-packages\\sdmetrics\\utils.py:62: UserWarning: Unexpected value 0.43966752651189456 in synthetic data.\n",
      "  warnings.warn(f'Unexpected value {value} in synthetic data.')\n",
      "C:\\Users\\yzc97\\anaconda3\\lib\\site-packages\\sdmetrics\\utils.py:62: UserWarning: Unexpected value 0.9140154772141016 in synthetic data.\n",
      "  warnings.warn(f'Unexpected value {value} in synthetic data.')\n",
      "C:\\Users\\yzc97\\anaconda3\\lib\\site-packages\\sdmetrics\\utils.py:62: UserWarning: Unexpected value 0.4600171969045572 in synthetic data.\n",
      "  warnings.warn(f'Unexpected value {value} in synthetic data.')\n",
      "C:\\Users\\yzc97\\anaconda3\\lib\\site-packages\\sdmetrics\\utils.py:62: UserWarning: Unexpected value 0.586987675551734 in synthetic data.\n",
      "  warnings.warn(f'Unexpected value {value} in synthetic data.')\n",
      "C:\\Users\\yzc97\\anaconda3\\lib\\site-packages\\sdmetrics\\utils.py:62: UserWarning: Unexpected value 0.6864431069074233 in synthetic data.\n",
      "  warnings.warn(f'Unexpected value {value} in synthetic data.')\n",
      "C:\\Users\\yzc97\\anaconda3\\lib\\site-packages\\sdmetrics\\utils.py:62: UserWarning: Unexpected value 0.4726282602464891 in synthetic data.\n",
      "  warnings.warn(f'Unexpected value {value} in synthetic data.')\n",
      "C:\\Users\\yzc97\\anaconda3\\lib\\site-packages\\sdmetrics\\utils.py:62: UserWarning: Unexpected value 0.8308971051877329 in synthetic data.\n",
      "  warnings.warn(f'Unexpected value {value} in synthetic data.')\n",
      "C:\\Users\\yzc97\\anaconda3\\lib\\site-packages\\sdmetrics\\utils.py:62: UserWarning: Unexpected value 0.03238750358268845 in synthetic data.\n",
      "  warnings.warn(f'Unexpected value {value} in synthetic data.')\n",
      "C:\\Users\\yzc97\\anaconda3\\lib\\site-packages\\sdmetrics\\utils.py:62: UserWarning: Unexpected value 0.2404700487245629 in synthetic data.\n",
      "  warnings.warn(f'Unexpected value {value} in synthetic data.')\n",
      "C:\\Users\\yzc97\\anaconda3\\lib\\site-packages\\sdmetrics\\utils.py:62: UserWarning: Unexpected value 0.1888793350530238 in synthetic data.\n",
      "  warnings.warn(f'Unexpected value {value} in synthetic data.')\n",
      "C:\\Users\\yzc97\\anaconda3\\lib\\site-packages\\sdmetrics\\utils.py:62: UserWarning: Unexpected value 0.4849527085124678 in synthetic data.\n",
      "  warnings.warn(f'Unexpected value {value} in synthetic data.')\n",
      "C:\\Users\\yzc97\\anaconda3\\lib\\site-packages\\sdmetrics\\utils.py:62: UserWarning: Unexpected value 0.28747492118085416 in synthetic data.\n",
      "  warnings.warn(f'Unexpected value {value} in synthetic data.')\n",
      "C:\\Users\\yzc97\\anaconda3\\lib\\site-packages\\sdmetrics\\utils.py:62: UserWarning: Unexpected value 0.0825451418744626 in synthetic data.\n",
      "  warnings.warn(f'Unexpected value {value} in synthetic data.')\n",
      "C:\\Users\\yzc97\\anaconda3\\lib\\site-packages\\sdmetrics\\utils.py:62: UserWarning: Unexpected value 0.6061908856405847 in synthetic data.\n",
      "  warnings.warn(f'Unexpected value {value} in synthetic data.')\n",
      "C:\\Users\\yzc97\\anaconda3\\lib\\site-packages\\sdmetrics\\utils.py:62: UserWarning: Unexpected value 0.7489251934651763 in synthetic data.\n",
      "  warnings.warn(f'Unexpected value {value} in synthetic data.')\n",
      "C:\\Users\\yzc97\\anaconda3\\lib\\site-packages\\sdmetrics\\utils.py:62: UserWarning: Unexpected value 0.8733161364287761 in synthetic data.\n",
      "  warnings.warn(f'Unexpected value {value} in synthetic data.')\n",
      "C:\\Users\\yzc97\\anaconda3\\lib\\site-packages\\sdmetrics\\utils.py:62: UserWarning: Unexpected value 0.10690742333046717 in synthetic data.\n",
      "  warnings.warn(f'Unexpected value {value} in synthetic data.')\n",
      "C:\\Users\\yzc97\\anaconda3\\lib\\site-packages\\sdmetrics\\utils.py:62: UserWarning: Unexpected value 0.36744052737173977 in synthetic data.\n",
      "  warnings.warn(f'Unexpected value {value} in synthetic data.')\n",
      "C:\\Users\\yzc97\\anaconda3\\lib\\site-packages\\sdmetrics\\utils.py:62: UserWarning: Unexpected value 0.934365147606764 in synthetic data.\n",
      "  warnings.warn(f'Unexpected value {value} in synthetic data.')\n",
      "C:\\Users\\yzc97\\anaconda3\\lib\\site-packages\\sdmetrics\\utils.py:62: UserWarning: Unexpected value 0.9773574089997134 in synthetic data.\n",
      "  warnings.warn(f'Unexpected value {value} in synthetic data.')\n",
      "C:\\Users\\yzc97\\anaconda3\\lib\\site-packages\\sdmetrics\\utils.py:62: UserWarning: Unexpected value 0.5196331327027801 in synthetic data.\n",
      "  warnings.warn(f'Unexpected value {value} in synthetic data.')\n",
      "C:\\Users\\yzc97\\anaconda3\\lib\\site-packages\\sdmetrics\\utils.py:62: UserWarning: Unexpected value 0.5752364574376612 in synthetic data.\n",
      "  warnings.warn(f'Unexpected value {value} in synthetic data.')\n",
      "C:\\Users\\yzc97\\anaconda3\\lib\\site-packages\\sdmetrics\\utils.py:62: UserWarning: Unexpected value 0.13155631986242475 in synthetic data.\n",
      "  warnings.warn(f'Unexpected value {value} in synthetic data.')\n",
      "C:\\Users\\yzc97\\anaconda3\\lib\\site-packages\\sdmetrics\\utils.py:62: UserWarning: Unexpected value 0.5482946402980796 in synthetic data.\n",
      "  warnings.warn(f'Unexpected value {value} in synthetic data.')\n",
      "C:\\Users\\yzc97\\anaconda3\\lib\\site-packages\\sdmetrics\\utils.py:62: UserWarning: Unexpected value 0.4049871023215821 in synthetic data.\n",
      "  warnings.warn(f'Unexpected value {value} in synthetic data.')\n",
      "C:\\Users\\yzc97\\anaconda3\\lib\\site-packages\\sdmetrics\\utils.py:62: UserWarning: Unexpected value 0.941817139581542 in synthetic data.\n",
      "  warnings.warn(f'Unexpected value {value} in synthetic data.')\n",
      "C:\\Users\\yzc97\\anaconda3\\lib\\site-packages\\sdmetrics\\utils.py:62: UserWarning: Unexpected value 0.8200057323015191 in synthetic data.\n",
      "  warnings.warn(f'Unexpected value {value} in synthetic data.')\n",
      "C:\\Users\\yzc97\\anaconda3\\lib\\site-packages\\sdmetrics\\utils.py:62: UserWarning: Unexpected value 0.9916881627973632 in synthetic data.\n",
      "  warnings.warn(f'Unexpected value {value} in synthetic data.')\n",
      "C:\\Users\\yzc97\\anaconda3\\lib\\site-packages\\sdmetrics\\utils.py:62: UserWarning: Unexpected value 0.5070220693608484 in synthetic data.\n",
      "  warnings.warn(f'Unexpected value {value} in synthetic data.')\n",
      "C:\\Users\\yzc97\\anaconda3\\lib\\site-packages\\sdmetrics\\utils.py:62: UserWarning: Unexpected value 0.4964173115505876 in synthetic data.\n",
      "  warnings.warn(f'Unexpected value {value} in synthetic data.')\n",
      "C:\\Users\\yzc97\\anaconda3\\lib\\site-packages\\sdmetrics\\utils.py:62: UserWarning: Unexpected value 0.6213814846660934 in synthetic data.\n",
      "  warnings.warn(f'Unexpected value {value} in synthetic data.')\n",
      "C:\\Users\\yzc97\\anaconda3\\lib\\site-packages\\sdmetrics\\utils.py:62: UserWarning: Unexpected value 0.8048151332760103 in synthetic data.\n",
      "  warnings.warn(f'Unexpected value {value} in synthetic data.')\n",
      "C:\\Users\\yzc97\\anaconda3\\lib\\site-packages\\sdmetrics\\utils.py:62: UserWarning: Unexpected value 0.6686729721983377 in synthetic data.\n",
      "  warnings.warn(f'Unexpected value {value} in synthetic data.')\n",
      "C:\\Users\\yzc97\\anaconda3\\lib\\site-packages\\sdmetrics\\utils.py:62: UserWarning: Unexpected value 0.8973918028088277 in synthetic data.\n",
      "  warnings.warn(f'Unexpected value {value} in synthetic data.')\n",
      "C:\\Users\\yzc97\\anaconda3\\lib\\site-packages\\sdmetrics\\utils.py:62: UserWarning: Unexpected value 0.057609630266552025 in synthetic data.\n",
      "  warnings.warn(f'Unexpected value {value} in synthetic data.')\n",
      "C:\\Users\\yzc97\\anaconda3\\lib\\site-packages\\sdmetrics\\utils.py:62: UserWarning: Unexpected value 0.9678991114932646 in synthetic data.\n",
      "  warnings.warn(f'Unexpected value {value} in synthetic data.')\n",
      "C:\\Users\\yzc97\\anaconda3\\lib\\site-packages\\sdmetrics\\utils.py:62: UserWarning: Unexpected value 0.7773000859845227 in synthetic data.\n",
      "  warnings.warn(f'Unexpected value {value} in synthetic data.')\n",
      "C:\\Users\\yzc97\\anaconda3\\lib\\site-packages\\sdmetrics\\utils.py:62: UserWarning: Unexpected value 0.9590140441387216 in synthetic data.\n",
      "  warnings.warn(f'Unexpected value {value} in synthetic data.')\n",
      "C:\\Users\\yzc97\\anaconda3\\lib\\site-packages\\sdmetrics\\utils.py:62: UserWarning: Unexpected value 0.3416451705359702 in synthetic data.\n",
      "  warnings.warn(f'Unexpected value {value} in synthetic data.')\n",
      "C:\\Users\\yzc97\\anaconda3\\lib\\site-packages\\sdmetrics\\utils.py:62: UserWarning: Unexpected value 0.04270564631699628 in synthetic data.\n",
      "  warnings.warn(f'Unexpected value {value} in synthetic data.')\n",
      "C:\\Users\\yzc97\\anaconda3\\lib\\site-packages\\sdmetrics\\utils.py:62: UserWarning: Unexpected value 0.2762969332186873 in synthetic data.\n",
      "  warnings.warn(f'Unexpected value {value} in synthetic data.')\n",
      "C:\\Users\\yzc97\\anaconda3\\lib\\site-packages\\sdmetrics\\utils.py:62: UserWarning: Unexpected value 0.17483519633132702 in synthetic data.\n",
      "  warnings.warn(f'Unexpected value {value} in synthetic data.')\n",
      "C:\\Users\\yzc97\\anaconda3\\lib\\site-packages\\sdmetrics\\utils.py:62: UserWarning: Unexpected value 0.4230438521066208 in synthetic data.\n",
      "  warnings.warn(f'Unexpected value {value} in synthetic data.')\n",
      "C:\\Users\\yzc97\\anaconda3\\lib\\site-packages\\sdmetrics\\utils.py:62: UserWarning: Unexpected value 0.7182573803382057 in synthetic data.\n",
      "  warnings.warn(f'Unexpected value {value} in synthetic data.')\n",
      "C:\\Users\\yzc97\\anaconda3\\lib\\site-packages\\sdmetrics\\utils.py:62: UserWarning: Unexpected value 0.8472341645170536 in synthetic data.\n",
      "  warnings.warn(f'Unexpected value {value} in synthetic data.')\n",
      "C:\\Users\\yzc97\\anaconda3\\lib\\site-packages\\sdmetrics\\utils.py:62: UserWarning: Unexpected value 0.8612783032387503 in synthetic data.\n",
      "  warnings.warn(f'Unexpected value {value} in synthetic data.')\n",
      "C:\\Users\\yzc97\\anaconda3\\lib\\site-packages\\sdmetrics\\utils.py:62: UserWarning: Unexpected value 0.9286328460877042 in synthetic data.\n",
      "  warnings.warn(f'Unexpected value {value} in synthetic data.')\n",
      "C:\\Users\\yzc97\\anaconda3\\lib\\site-packages\\sdmetrics\\utils.py:62: UserWarning: Unexpected value 0.7893379191745485 in synthetic data.\n",
      "  warnings.warn(f'Unexpected value {value} in synthetic data.')\n",
      "C:\\Users\\yzc97\\anaconda3\\lib\\site-packages\\sdmetrics\\utils.py:62: UserWarning: Unexpected value 0.5597592433361994 in synthetic data.\n",
      "  warnings.warn(f'Unexpected value {value} in synthetic data.')\n",
      "C:\\Users\\yzc97\\anaconda3\\lib\\site-packages\\sdmetrics\\utils.py:62: UserWarning: Unexpected value 0.16222413298939525 in synthetic data.\n",
      "  warnings.warn(f'Unexpected value {value} in synthetic data.')\n",
      "C:\\Users\\yzc97\\anaconda3\\lib\\site-packages\\sdmetrics\\utils.py:62: UserWarning: Unexpected value 0.6566351390083118 in synthetic data.\n",
      "  warnings.warn(f'Unexpected value {value} in synthetic data.')\n",
      "C:\\Users\\yzc97\\anaconda3\\lib\\site-packages\\sdmetrics\\utils.py:62: UserWarning: Unexpected value 0.3086844368013757 in synthetic data.\n",
      "  warnings.warn(f'Unexpected value {value} in synthetic data.')\n",
      "C:\\Users\\yzc97\\anaconda3\\lib\\site-packages\\sdmetrics\\utils.py:62: UserWarning: Unexpected value 0.41301232444826597 in synthetic data.\n",
      "  warnings.warn(f'Unexpected value {value} in synthetic data.')\n",
      "C:\\Users\\yzc97\\anaconda3\\lib\\site-packages\\sdmetrics\\utils.py:62: UserWarning: Unexpected value 0.23129836629406705 in synthetic data.\n",
      "  warnings.warn(f'Unexpected value {value} in synthetic data.')\n",
      "C:\\Users\\yzc97\\anaconda3\\lib\\site-packages\\sdmetrics\\utils.py:62: UserWarning: Unexpected value 0.8827744339352249 in synthetic data.\n",
      "  warnings.warn(f'Unexpected value {value} in synthetic data.')\n",
      "C:\\Users\\yzc97\\anaconda3\\lib\\site-packages\\sdmetrics\\utils.py:62: UserWarning: Unexpected value 0.01117798796216681 in synthetic data.\n",
      "  warnings.warn(f'Unexpected value {value} in synthetic data.')\n",
      "C:\\Users\\yzc97\\anaconda3\\lib\\site-packages\\sdmetrics\\utils.py:62: UserWarning: Unexpected value 0.9054170249355116 in synthetic data.\n",
      "  warnings.warn(f'Unexpected value {value} in synthetic data.')\n",
      "C:\\Users\\yzc97\\anaconda3\\lib\\site-packages\\sdmetrics\\utils.py:62: UserWarning: Unexpected value 0.3912295786758384 in synthetic data.\n",
      "  warnings.warn(f'Unexpected value {value} in synthetic data.')\n",
      "C:\\Users\\yzc97\\anaconda3\\lib\\site-packages\\sdmetrics\\utils.py:62: UserWarning: Unexpected value 0.020349670392662653 in synthetic data.\n",
      "  warnings.warn(f'Unexpected value {value} in synthetic data.')\n",
      "C:\\Users\\yzc97\\anaconda3\\lib\\site-packages\\sdmetrics\\utils.py:62: UserWarning: Unexpected value 0.14244769274863858 in synthetic data.\n",
      "  warnings.warn(f'Unexpected value {value} in synthetic data.')\n",
      "C:\\Users\\yzc97\\anaconda3\\lib\\site-packages\\sdmetrics\\utils.py:62: UserWarning: Unexpected value 0.32960733734594444 in synthetic data.\n",
      "  warnings.warn(f'Unexpected value {value} in synthetic data.')\n",
      "C:\\Users\\yzc97\\anaconda3\\lib\\site-packages\\sdmetrics\\utils.py:62: UserWarning: Unexpected value 0.2516480366867297 in synthetic data.\n",
      "  warnings.warn(f'Unexpected value {value} in synthetic data.')\n",
      "C:\\Users\\yzc97\\anaconda3\\lib\\site-packages\\sdmetrics\\utils.py:62: UserWarning: Unexpected value 0.951562052163944 in synthetic data.\n",
      "  warnings.warn(f'Unexpected value {value} in synthetic data.')\n",
      "C:\\Users\\yzc97\\anaconda3\\lib\\site-packages\\sdmetrics\\utils.py:62: UserWarning: Unexpected value 0.9214674691888792 in synthetic data.\n",
      "  warnings.warn(f'Unexpected value {value} in synthetic data.')\n",
      "C:\\Users\\yzc97\\anaconda3\\lib\\site-packages\\sdmetrics\\utils.py:62: UserWarning: Unexpected value 0.9850960160504444 in synthetic data.\n",
      "  warnings.warn(f'Unexpected value {value} in synthetic data.')\n",
      "C:\\Users\\yzc97\\anaconda3\\lib\\site-packages\\sdmetrics\\utils.py:62: UserWarning: Unexpected value 0.0945829750644884 in synthetic data.\n",
      "  warnings.warn(f'Unexpected value {value} in synthetic data.')\n",
      "C:\\Users\\yzc97\\anaconda3\\lib\\site-packages\\sdmetrics\\utils.py:62: UserWarning: Unexpected value 0.7629693321868729 in synthetic data.\n",
      "  warnings.warn(f'Unexpected value {value} in synthetic data.')\n",
      "C:\\Users\\yzc97\\anaconda3\\lib\\site-packages\\sdmetrics\\utils.py:62: UserWarning: Unexpected value 0.9704786471768416 in synthetic data.\n",
      "  warnings.warn(f'Unexpected value {value} in synthetic data.')\n",
      "C:\\Users\\yzc97\\anaconda3\\lib\\site-packages\\sdmetrics\\utils.py:62: UserWarning: Unexpected value 0.5348237317282889 in synthetic data.\n",
      "  warnings.warn(f'Unexpected value {value} in synthetic data.')\n",
      "C:\\Users\\yzc97\\anaconda3\\lib\\site-packages\\sdmetrics\\utils.py:62: UserWarning: Unexpected value 0.06878761822871883 in synthetic data.\n",
      "  warnings.warn(f'Unexpected value {value} in synthetic data.')\n",
      "C:\\Users\\yzc97\\anaconda3\\lib\\site-packages\\sdmetrics\\utils.py:62: UserWarning: Unexpected value 0.3794783605617656 in synthetic data.\n",
      "  warnings.warn(f'Unexpected value {value} in synthetic data.')\n",
      "C:\\Users\\yzc97\\anaconda3\\lib\\site-packages\\sdmetrics\\utils.py:62: UserWarning: Unexpected value 0.3187159644597306 in synthetic data.\n",
      "  warnings.warn(f'Unexpected value {value} in synthetic data.')\n",
      "C:\\Users\\yzc97\\anaconda3\\lib\\site-packages\\sdmetrics\\utils.py:62: UserWarning: Unexpected value 0.4508455144740614 in synthetic data.\n",
      "  warnings.warn(f'Unexpected value {value} in synthetic data.')\n",
      "C:\\Users\\yzc97\\anaconda3\\lib\\site-packages\\sdmetrics\\utils.py:62: UserWarning: Unexpected value 0.297793063915162 in synthetic data.\n",
      "  warnings.warn(f'Unexpected value {value} in synthetic data.')\n",
      "C:\\Users\\yzc97\\anaconda3\\lib\\site-packages\\sdmetrics\\utils.py:62: UserWarning: Unexpected value 0.22012037833190026 in synthetic data.\n",
      "  warnings.warn(f'Unexpected value {value} in synthetic data.')\n",
      "C:\\Users\\yzc97\\anaconda3\\lib\\site-packages\\sdmetrics\\utils.py:62: UserWarning: Unexpected value 0.11951848667239898 in synthetic data.\n",
      "  warnings.warn(f'Unexpected value {value} in synthetic data.')\n",
      "C:\\Users\\yzc97\\anaconda3\\lib\\site-packages\\sdmetrics\\utils.py:62: UserWarning: Unexpected value 0.9644597305818284 in synthetic data.\n",
      "  warnings.warn(f'Unexpected value {value} in synthetic data.')\n",
      "C:\\Users\\yzc97\\anaconda3\\lib\\site-packages\\sdmetrics\\utils.py:62: UserWarning: Unexpected value 0.7340212095156206 in synthetic data.\n",
      "  warnings.warn(f'Unexpected value {value} in synthetic data.')\n",
      "C:\\Users\\yzc97\\anaconda3\\lib\\site-packages\\sdmetrics\\utils.py:62: UserWarning: Unexpected value 0.1519059902550874 in synthetic data.\n",
      "  warnings.warn(f'Unexpected value {value} in synthetic data.')\n",
      "C:\\Users\\yzc97\\anaconda3\\lib\\site-packages\\sdmetrics\\utils.py:62: UserWarning: Unexpected value 0.19747778733161364 in synthetic data.\n",
      "  warnings.warn(f'Unexpected value {value} in synthetic data.')\n",
      "C:\\Users\\yzc97\\anaconda3\\lib\\site-packages\\sdmetrics\\utils.py:62: UserWarning: Unexpected value 0.7030667813126971 in synthetic data.\n",
      "  warnings.warn(f'Unexpected value {value} in synthetic data.')\n",
      "C:\\Users\\yzc97\\anaconda3\\lib\\site-packages\\sdmetrics\\utils.py:62: UserWarning: Unexpected value 0.9893952421897392 in synthetic data.\n",
      "  warnings.warn(f'Unexpected value {value} in synthetic data.')\n",
      "C:\\Users\\yzc97\\anaconda3\\lib\\site-packages\\sdmetrics\\utils.py:62: UserWarning: Unexpected value 0.9805101748351964 in synthetic data.\n",
      "  warnings.warn(f'Unexpected value {value} in synthetic data.')\n",
      "C:\\Users\\yzc97\\anaconda3\\lib\\site-packages\\sdmetrics\\utils.py:62: UserWarning: Unexpected value 0.9871023215821152 in synthetic data.\n",
      "  warnings.warn(f'Unexpected value {value} in synthetic data.')\n",
      "C:\\Users\\yzc97\\anaconda3\\lib\\site-packages\\sdmetrics\\utils.py:62: UserWarning: Unexpected value 0.9744912582401836 in synthetic data.\n",
      "  warnings.warn(f'Unexpected value {value} in synthetic data.')\n",
      "C:\\Users\\yzc97\\anaconda3\\lib\\site-packages\\sdmetrics\\utils.py:62: UserWarning: Unexpected value 0.9466895958727428 in synthetic data.\n",
      "  warnings.warn(f'Unexpected value {value} in synthetic data.')\n",
      "C:\\Users\\yzc97\\anaconda3\\lib\\site-packages\\sdmetrics\\utils.py:62: UserWarning: Unexpected value 0.6766981943250214 in synthetic data.\n",
      "  warnings.warn(f'Unexpected value {value} in synthetic data.')\n",
      "C:\\Users\\yzc97\\anaconda3\\lib\\site-packages\\sdmetrics\\utils.py:62: UserWarning: Unexpected value 0.9484092863284608 in synthetic data.\n",
      "  warnings.warn(f'Unexpected value {value} in synthetic data.')\n",
      "C:\\Users\\yzc97\\anaconda3\\lib\\site-packages\\sdmetrics\\utils.py:62: UserWarning: Unexpected value 0.8945256520492978 in synthetic data.\n",
      "  warnings.warn(f'Unexpected value {value} in synthetic data.')\n",
      "C:\\Users\\yzc97\\anaconda3\\lib\\site-packages\\sdmetrics\\utils.py:62: UserWarning: Unexpected value 0.9690455717970764 in synthetic data.\n",
      "  warnings.warn(f'Unexpected value {value} in synthetic data.')\n",
      "C:\\Users\\yzc97\\anaconda3\\lib\\site-packages\\sdmetrics\\utils.py:62: UserWarning: Unexpected value 0.9486959014044138 in synthetic data.\n",
      "  warnings.warn(f'Unexpected value {value} in synthetic data.')\n",
      "C:\\Users\\yzc97\\anaconda3\\lib\\site-packages\\sdmetrics\\utils.py:62: UserWarning: Unexpected value 0.8968185726569218 in synthetic data.\n",
      "  warnings.warn(f'Unexpected value {value} in synthetic data.')\n",
      "C:\\Users\\yzc97\\anaconda3\\lib\\site-packages\\sdmetrics\\utils.py:62: UserWarning: Unexpected value 0.8976784178847808 in synthetic data.\n",
      "  warnings.warn(f'Unexpected value {value} in synthetic data.')\n",
      "C:\\Users\\yzc97\\anaconda3\\lib\\site-packages\\sdmetrics\\utils.py:62: UserWarning: Unexpected value 0.6887360275150473 in synthetic data.\n",
      "  warnings.warn(f'Unexpected value {value} in synthetic data.')\n",
      "C:\\Users\\yzc97\\anaconda3\\lib\\site-packages\\sdmetrics\\utils.py:62: UserWarning: Unexpected value 0.7297219833763255 in synthetic data.\n",
      "  warnings.warn(f'Unexpected value {value} in synthetic data.')\n",
      "C:\\Users\\yzc97\\anaconda3\\lib\\site-packages\\sdmetrics\\utils.py:62: UserWarning: Unexpected value 0.7331613642877615 in synthetic data.\n",
      "  warnings.warn(f'Unexpected value {value} in synthetic data.')\n",
      "C:\\Users\\yzc97\\anaconda3\\lib\\site-packages\\sdmetrics\\utils.py:62: UserWarning: Unexpected value 0.6970478647176841 in synthetic data.\n",
      "  warnings.warn(f'Unexpected value {value} in synthetic data.')\n",
      "C:\\Users\\yzc97\\anaconda3\\lib\\site-packages\\sdmetrics\\utils.py:62: UserWarning: Unexpected value 0.471481799942677 in synthetic data.\n",
      "  warnings.warn(f'Unexpected value {value} in synthetic data.')\n"
     ]
    },
    {
     "name": "stderr",
     "output_type": "stream",
     "text": [
      "C:\\Users\\yzc97\\anaconda3\\lib\\site-packages\\sdmetrics\\utils.py:62: UserWarning: Unexpected value 0.15305245055889938 in synthetic data.\n",
      "  warnings.warn(f'Unexpected value {value} in synthetic data.')\n",
      "C:\\Users\\yzc97\\anaconda3\\lib\\site-packages\\sdmetrics\\utils.py:62: UserWarning: Unexpected value 0.8584121524792204 in synthetic data.\n",
      "  warnings.warn(f'Unexpected value {value} in synthetic data.')\n",
      "C:\\Users\\yzc97\\anaconda3\\lib\\site-packages\\sdmetrics\\utils.py:62: UserWarning: Unexpected value 0.23703066781312696 in synthetic data.\n",
      "  warnings.warn(f'Unexpected value {value} in synthetic data.')\n",
      "C:\\Users\\yzc97\\anaconda3\\lib\\site-packages\\sdmetrics\\utils.py:62: UserWarning: Unexpected value 0.4895385497277157 in synthetic data.\n",
      "  warnings.warn(f'Unexpected value {value} in synthetic data.')\n",
      "C:\\Users\\yzc97\\anaconda3\\lib\\site-packages\\sdmetrics\\utils.py:62: UserWarning: Unexpected value 0.35740899971338497 in synthetic data.\n",
      "  warnings.warn(f'Unexpected value {value} in synthetic data.')\n",
      "C:\\Users\\yzc97\\anaconda3\\lib\\site-packages\\sdmetrics\\utils.py:62: UserWarning: Unexpected value 0.09200343938091143 in synthetic data.\n",
      "  warnings.warn(f'Unexpected value {value} in synthetic data.')\n",
      "C:\\Users\\yzc97\\anaconda3\\lib\\site-packages\\sdmetrics\\utils.py:62: UserWarning: Unexpected value 0.47176841501863004 in synthetic data.\n",
      "  warnings.warn(f'Unexpected value {value} in synthetic data.')\n",
      "C:\\Users\\yzc97\\anaconda3\\lib\\site-packages\\sdmetrics\\utils.py:62: UserWarning: Unexpected value 0.9727715677844656 in synthetic data.\n",
      "  warnings.warn(f'Unexpected value {value} in synthetic data.')\n",
      "C:\\Users\\yzc97\\anaconda3\\lib\\site-packages\\sdmetrics\\utils.py:62: UserWarning: Unexpected value 0.6374319289194611 in synthetic data.\n",
      "  warnings.warn(f'Unexpected value {value} in synthetic data.')\n",
      "C:\\Users\\yzc97\\anaconda3\\lib\\site-packages\\sdmetrics\\utils.py:62: UserWarning: Unexpected value 0.8469475494411006 in synthetic data.\n",
      "  warnings.warn(f'Unexpected value {value} in synthetic data.')\n",
      "C:\\Users\\yzc97\\anaconda3\\lib\\site-packages\\sdmetrics\\utils.py:62: UserWarning: Unexpected value 0.883061049011178 in synthetic data.\n",
      "  warnings.warn(f'Unexpected value {value} in synthetic data.')\n",
      "C:\\Users\\yzc97\\anaconda3\\lib\\site-packages\\sdmetrics\\utils.py:62: UserWarning: Unexpected value 0.6873029521352823 in synthetic data.\n",
      "  warnings.warn(f'Unexpected value {value} in synthetic data.')\n",
      "C:\\Users\\yzc97\\anaconda3\\lib\\site-packages\\sdmetrics\\utils.py:62: UserWarning: Unexpected value 0.9071367153912296 in synthetic data.\n",
      "  warnings.warn(f'Unexpected value {value} in synthetic data.')\n"
     ]
    }
   ],
   "source": [
    "# Compute SRMSE and Sampling Zeros\n",
    "# For detection \n",
    "n=10000\n",
    "real_sample = target.sample(n=n)\n",
    "for model in synthetic:\n",
    "    results[model] = {}\n",
    "    df = synthetic[model]\n",
    "    # Chi-squared\n",
    "    cs = csTest.compute(target, df, metadata=metadata)\n",
    "    results[model][\"CS\"] = cs\n",
    "    # Detection \n",
    "    detection = svcDetection.compute(real_sample, df.sample(n=n), metadata=metadata)\n",
    "    results[model][\"detection\"] = detection\n",
    "    # SRMSE\n",
    "    for i in range(1, 4):\n",
    "        tuples = list(itertools.combinations(columns, i))  # No repeated elements\n",
    "        SRMSE = 0 \n",
    "        for tuple in tuples:\n",
    "            SRMSE += srmse(\n",
    "                target.drop(list(columns.difference(tuple)), axis=1),\n",
    "                df.drop(list(columns.difference(tuple)), axis=1)\n",
    "            )\n",
    "        SRMSE /= len(tuples)\n",
    "        results[model][\"SRMSE\"+str(i)] = SRMSE\n",
    "    results[model][\"Sampling Zeros\"] = sampling_zeros(source, target, df)"
   ]
  },
  {
   "cell_type": "code",
   "execution_count": 21,
   "metadata": {},
   "outputs": [
    {
     "data": {
      "text/html": [
       "<div>\n",
       "<style scoped>\n",
       "    .dataframe tbody tr th:only-of-type {\n",
       "        vertical-align: middle;\n",
       "    }\n",
       "\n",
       "    .dataframe tbody tr th {\n",
       "        vertical-align: top;\n",
       "    }\n",
       "\n",
       "    .dataframe thead th {\n",
       "        text-align: right;\n",
       "    }\n",
       "</style>\n",
       "<table border=\"1\" class=\"dataframe\">\n",
       "  <thead>\n",
       "    <tr style=\"text-align: right;\">\n",
       "      <th></th>\n",
       "      <th>CS</th>\n",
       "      <th>detection</th>\n",
       "      <th>SRMSE1</th>\n",
       "      <th>SRMSE2</th>\n",
       "      <th>SRMSE3</th>\n",
       "      <th>Sampling Zeros</th>\n",
       "    </tr>\n",
       "  </thead>\n",
       "  <tbody>\n",
       "    <tr>\n",
       "      <th>Ind</th>\n",
       "      <td>0.999288</td>\n",
       "      <td>0.185326</td>\n",
       "      <td>0.044133</td>\n",
       "      <td>0.431248</td>\n",
       "      <td>1.173913</td>\n",
       "      <td>7063</td>\n",
       "    </tr>\n",
       "    <tr>\n",
       "      <th>IPF</th>\n",
       "      <td>0.999987</td>\n",
       "      <td>0.938940</td>\n",
       "      <td>0.000897</td>\n",
       "      <td>0.126231</td>\n",
       "      <td>0.485572</td>\n",
       "      <td>3395</td>\n",
       "    </tr>\n",
       "    <tr>\n",
       "      <th>CTGAN</th>\n",
       "      <td>0.000000</td>\n",
       "      <td>0.000000</td>\n",
       "      <td>2.439942</td>\n",
       "      <td>4.818622</td>\n",
       "      <td>9.547408</td>\n",
       "      <td>0</td>\n",
       "    </tr>\n",
       "    <tr>\n",
       "      <th>CTGAN+Copula</th>\n",
       "      <td>0.996843</td>\n",
       "      <td>0.516707</td>\n",
       "      <td>0.330628</td>\n",
       "      <td>0.752588</td>\n",
       "      <td>1.455524</td>\n",
       "      <td>27957</td>\n",
       "    </tr>\n",
       "    <tr>\n",
       "      <th>TVAE</th>\n",
       "      <td>0.997707</td>\n",
       "      <td>0.511376</td>\n",
       "      <td>0.423050</td>\n",
       "      <td>1.072634</td>\n",
       "      <td>2.237169</td>\n",
       "      <td>19549</td>\n",
       "    </tr>\n",
       "    <tr>\n",
       "      <th>TVAE+Copula</th>\n",
       "      <td>0.998381</td>\n",
       "      <td>0.513367</td>\n",
       "      <td>0.373568</td>\n",
       "      <td>0.922796</td>\n",
       "      <td>1.882486</td>\n",
       "      <td>25473</td>\n",
       "    </tr>\n",
       "    <tr>\n",
       "      <th>BN</th>\n",
       "      <td>0.999418</td>\n",
       "      <td>0.627322</td>\n",
       "      <td>0.044318</td>\n",
       "      <td>0.243117</td>\n",
       "      <td>0.653106</td>\n",
       "      <td>38186</td>\n",
       "    </tr>\n",
       "    <tr>\n",
       "      <th>BN+Copula</th>\n",
       "      <td>0.999898</td>\n",
       "      <td>0.642339</td>\n",
       "      <td>0.004481</td>\n",
       "      <td>0.205410</td>\n",
       "      <td>0.608936</td>\n",
       "      <td>37547</td>\n",
       "    </tr>\n",
       "  </tbody>\n",
       "</table>\n",
       "</div>"
      ],
      "text/plain": [
       "                    CS  detection    SRMSE1    SRMSE2    SRMSE3  \\\n",
       "Ind           0.999288   0.185326  0.044133  0.431248  1.173913   \n",
       "IPF           0.999987   0.938940  0.000897  0.126231  0.485572   \n",
       "CTGAN         0.000000   0.000000  2.439942  4.818622  9.547408   \n",
       "CTGAN+Copula  0.996843   0.516707  0.330628  0.752588  1.455524   \n",
       "TVAE          0.997707   0.511376  0.423050  1.072634  2.237169   \n",
       "TVAE+Copula   0.998381   0.513367  0.373568  0.922796  1.882486   \n",
       "BN            0.999418   0.627322  0.044318  0.243117  0.653106   \n",
       "BN+Copula     0.999898   0.642339  0.004481  0.205410  0.608936   \n",
       "\n",
       "              Sampling Zeros  \n",
       "Ind                     7063  \n",
       "IPF                     3395  \n",
       "CTGAN                      0  \n",
       "CTGAN+Copula           27957  \n",
       "TVAE                   19549  \n",
       "TVAE+Copula            25473  \n",
       "BN                     38186  \n",
       "BN+Copula              37547  "
      ]
     },
     "execution_count": 21,
     "metadata": {},
     "output_type": "execute_result"
    }
   ],
   "source": [
    "results_df = []\n",
    "\n",
    "for model in results:\n",
    "    if model == \"Target\": continue\n",
    "    results_df.append(\n",
    "        pd.DataFrame({i:results[model][i] for i in results[model]}, index=[model]))\n",
    "\n",
    "results_df = pd.concat(results_df)\n",
    "results_df.to_csv(\"../results/exp1/metrics.csv\")\n",
    "results_df"
   ]
  },
  {
   "cell_type": "code",
   "execution_count": 22,
   "metadata": {},
   "outputs": [
    {
     "data": {
      "image/png": "[encoded data removed]",
      "text/plain": [
       "<Figure size 1080x504 with 1 Axes>"
      ]
     },
     "metadata": {
      "needs_background": "light"
     },
     "output_type": "display_data"
    }
   ],
   "source": [
    "values = [v for v in mapping.values()]\n",
    "keys = [k for k in mapping.keys()]\n",
    "\n",
    "plt.figure(figsize=(15,7))\n",
    "plt.hist(\n",
    "    [target[\"COUNTY\"]] + [synthetic[model][\"COUNTY\"] for model in synthetic],\n",
    "    label=[\"Target\"] + [f'{model}' for model in synthetic],\n",
    "    bins=values+[values[-1]+1]\n",
    ")\n",
    "plt.xticks(\n",
    "    values, \n",
    "    keys, \n",
    "    rotation=45\n",
    ")\n",
    "plt.xlabel(\"County\")\n",
    "plt.ylabel(\"Counts\")\n",
    "plt.legend()\n",
    "plt.savefig(\"../results/figures/countymarginals.png\",bbox_inches='tight')\n",
    "plt.show()"
   ]
  },
  {
   "cell_type": "code",
   "execution_count": null,
   "metadata": {},
   "outputs": [],
   "source": []
  },
  {
   "cell_type": "code",
   "execution_count": null,
   "metadata": {},
   "outputs": [],
   "source": []
  },
  {
   "cell_type": "code",
   "execution_count": null,
   "metadata": {},
   "outputs": [],
   "source": []
  }
 ],
 "metadata": {
  "interpreter": {
   "hash": "dd88cba2c841baa4776cda69c23c1d74d3696876bfacdff47f25a3c8537e9bf6"
  },
  "kernelspec": {
   "display_name": "Python 3",
   "language": "python",
   "name": "python3"
  },
  "language_info": {
   "codemirror_mode": {
    "name": "ipython",
    "version": 3
   },
   "file_extension": ".py",
   "mimetype": "text/x-python",
   "name": "python",
   "nbconvert_exporter": "python",
   "pygments_lexer": "ipython3",
   "version": "3.8.8"
  }
 },
 "nbformat": 4,
 "nbformat_minor": 2
}
